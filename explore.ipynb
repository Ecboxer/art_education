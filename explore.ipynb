{
 "cells": [
  {
   "cell_type": "code",
   "execution_count": 1,
   "metadata": {},
   "outputs": [],
   "source": [
    "import pandas as pd\n",
    "import numpy as np\n",
    "import matplotlib.pyplot as plt\n",
    "import seaborn as sns\n",
    "import missingno as msno\n",
    "\n",
    "%matplotlib inline"
   ]
  },
  {
   "cell_type": "code",
   "execution_count": 2,
   "metadata": {},
   "outputs": [],
   "source": [
    "plt.style.use(['seaborn-darkgrid', 'ggplot'])"
   ]
  },
  {
   "cell_type": "code",
   "execution_count": 6,
   "metadata": {
    "scrolled": true
   },
   "outputs": [
    {
     "data": {
      "text/html": [
       "<div>\n",
       "<style scoped>\n",
       "    .dataframe tbody tr th:only-of-type {\n",
       "        vertical-align: middle;\n",
       "    }\n",
       "\n",
       "    .dataframe tbody tr th {\n",
       "        vertical-align: top;\n",
       "    }\n",
       "\n",
       "    .dataframe thead th {\n",
       "        text-align: right;\n",
       "    }\n",
       "</style>\n",
       "<table border=\"1\" class=\"dataframe\">\n",
       "  <thead>\n",
       "    <tr style=\"text-align: right;\">\n",
       "      <th></th>\n",
       "      <th>Q0_DBN</th>\n",
       "      <th>Q1_1</th>\n",
       "      <th>Q1_2</th>\n",
       "      <th>Q1_3</th>\n",
       "      <th>Q2_1</th>\n",
       "      <th>Q3_1</th>\n",
       "      <th>Q3_2</th>\n",
       "      <th>Q3_3</th>\n",
       "      <th>Q3_4</th>\n",
       "      <th>Q4_1</th>\n",
       "      <th>...</th>\n",
       "      <th>Q45_6</th>\n",
       "      <th>Q45_7</th>\n",
       "      <th>Q45_8</th>\n",
       "      <th>Q45_9</th>\n",
       "      <th>Q45_10</th>\n",
       "      <th>Q46_1</th>\n",
       "      <th>Q47_1</th>\n",
       "      <th>Q48_1</th>\n",
       "      <th>Q48_2</th>\n",
       "      <th>Q48_3</th>\n",
       "    </tr>\n",
       "  </thead>\n",
       "  <tbody>\n",
       "    <tr>\n",
       "      <th>0</th>\n",
       "      <td>01M015</td>\n",
       "      <td>Rosemary</td>\n",
       "      <td>Camera</td>\n",
       "      <td>rcamera@schools.nyc.gov</td>\n",
       "      <td>0</td>\n",
       "      <td>0</td>\n",
       "      <td>1</td>\n",
       "      <td>0</td>\n",
       "      <td>0</td>\n",
       "      <td>1</td>\n",
       "      <td>...</td>\n",
       "      <td>0</td>\n",
       "      <td>1</td>\n",
       "      <td>1</td>\n",
       "      <td>0</td>\n",
       "      <td>0</td>\n",
       "      <td>2017-2018 was an exciting year of art at PS 15...</td>\n",
       "      <td>NaN</td>\n",
       "      <td>Rosemary Camera</td>\n",
       "      <td>Enrichment Coordinator</td>\n",
       "      <td>rcamera@schools.nyc.gov</td>\n",
       "    </tr>\n",
       "    <tr>\n",
       "      <th>1</th>\n",
       "      <td>01M019</td>\n",
       "      <td>JACQUELINE</td>\n",
       "      <td>FLANAGAN</td>\n",
       "      <td>JFLANAGAN@SCHOOLS.NYC.GOV</td>\n",
       "      <td>0</td>\n",
       "      <td>0</td>\n",
       "      <td>1</td>\n",
       "      <td>0</td>\n",
       "      <td>0</td>\n",
       "      <td>0</td>\n",
       "      <td>...</td>\n",
       "      <td>1</td>\n",
       "      <td>1</td>\n",
       "      <td>1</td>\n",
       "      <td>0</td>\n",
       "      <td>0</td>\n",
       "      <td>We strongly believe that the arts should be an...</td>\n",
       "      <td>NaN</td>\n",
       "      <td>Jacqueline Flanagan</td>\n",
       "      <td>Principal</td>\n",
       "      <td>jflanagan@schools.nyc.gov</td>\n",
       "    </tr>\n",
       "    <tr>\n",
       "      <th>2</th>\n",
       "      <td>01M020</td>\n",
       "      <td>Ronnie</td>\n",
       "      <td>Filippatos</td>\n",
       "      <td>rfilippatos@schools.nyc.gov</td>\n",
       "      <td>0</td>\n",
       "      <td>0</td>\n",
       "      <td>0</td>\n",
       "      <td>0</td>\n",
       "      <td>1</td>\n",
       "      <td>0</td>\n",
       "      <td>...</td>\n",
       "      <td>1</td>\n",
       "      <td>1</td>\n",
       "      <td>1</td>\n",
       "      <td>0</td>\n",
       "      <td>0</td>\n",
       "      <td>Every student at PS 20 is engaged in the arts ...</td>\n",
       "      <td>NaN</td>\n",
       "      <td>Sarah Pinto</td>\n",
       "      <td>Principal</td>\n",
       "      <td>spinto4@schools.nyc.gov</td>\n",
       "    </tr>\n",
       "    <tr>\n",
       "      <th>3</th>\n",
       "      <td>01M034</td>\n",
       "      <td>Angeliki</td>\n",
       "      <td>Loukatos</td>\n",
       "      <td>aloukatos@schools.nyc.gov</td>\n",
       "      <td>0</td>\n",
       "      <td>0</td>\n",
       "      <td>1</td>\n",
       "      <td>0</td>\n",
       "      <td>0</td>\n",
       "      <td>0</td>\n",
       "      <td>...</td>\n",
       "      <td>0</td>\n",
       "      <td>0</td>\n",
       "      <td>1</td>\n",
       "      <td>0</td>\n",
       "      <td>0</td>\n",
       "      <td>Our school currently offers visual arts by a c...</td>\n",
       "      <td>NaN</td>\n",
       "      <td>Angeliki Loukatos</td>\n",
       "      <td>Principal</td>\n",
       "      <td>aloukatos@schools.nyc.gov</td>\n",
       "    </tr>\n",
       "    <tr>\n",
       "      <th>4</th>\n",
       "      <td>01M064</td>\n",
       "      <td>Aron</td>\n",
       "      <td>Michlin</td>\n",
       "      <td>AMICHLIN@SCHOOLS.NYC.GOV</td>\n",
       "      <td>0</td>\n",
       "      <td>0</td>\n",
       "      <td>1</td>\n",
       "      <td>0</td>\n",
       "      <td>0</td>\n",
       "      <td>1</td>\n",
       "      <td>...</td>\n",
       "      <td>0</td>\n",
       "      <td>0</td>\n",
       "      <td>1</td>\n",
       "      <td>0</td>\n",
       "      <td>0</td>\n",
       "      <td>The P.S. 64 Arts programming is growing strong...</td>\n",
       "      <td>NaN</td>\n",
       "      <td>aron</td>\n",
       "      <td>michlin</td>\n",
       "      <td>amichlin@schools.nyc.gov</td>\n",
       "    </tr>\n",
       "  </tbody>\n",
       "</table>\n",
       "<p>5 rows × 670 columns</p>\n",
       "</div>"
      ],
      "text/plain": [
       "   Q0_DBN        Q1_1        Q1_2                         Q1_3  Q2_1  Q3_1  \\\n",
       "0  01M015    Rosemary      Camera      rcamera@schools.nyc.gov     0     0   \n",
       "1  01M019  JACQUELINE    FLANAGAN    JFLANAGAN@SCHOOLS.NYC.GOV     0     0   \n",
       "2  01M020      Ronnie  Filippatos  rfilippatos@schools.nyc.gov     0     0   \n",
       "3  01M034    Angeliki    Loukatos    aloukatos@schools.nyc.gov     0     0   \n",
       "4  01M064        Aron     Michlin     AMICHLIN@SCHOOLS.NYC.GOV     0     0   \n",
       "\n",
       "   Q3_2  Q3_3  Q3_4  Q4_1            ...              Q45_6  Q45_7  Q45_8  \\\n",
       "0     1     0     0     1            ...                  0      1      1   \n",
       "1     1     0     0     0            ...                  1      1      1   \n",
       "2     0     0     1     0            ...                  1      1      1   \n",
       "3     1     0     0     0            ...                  0      0      1   \n",
       "4     1     0     0     1            ...                  0      0      1   \n",
       "\n",
       "   Q45_9  Q45_10                                              Q46_1  Q47_1  \\\n",
       "0      0       0  2017-2018 was an exciting year of art at PS 15...    NaN   \n",
       "1      0       0  We strongly believe that the arts should be an...    NaN   \n",
       "2      0       0  Every student at PS 20 is engaged in the arts ...    NaN   \n",
       "3      0       0  Our school currently offers visual arts by a c...    NaN   \n",
       "4      0       0  The P.S. 64 Arts programming is growing strong...    NaN   \n",
       "\n",
       "                 Q48_1                   Q48_2                      Q48_3  \n",
       "0      Rosemary Camera  Enrichment Coordinator    rcamera@schools.nyc.gov  \n",
       "1  Jacqueline Flanagan               Principal  jflanagan@schools.nyc.gov  \n",
       "2          Sarah Pinto               Principal    spinto4@schools.nyc.gov  \n",
       "3    Angeliki Loukatos               Principal  aloukatos@schools.nyc.gov  \n",
       "4                 aron                 michlin   amichlin@schools.nyc.gov  \n",
       "\n",
       "[5 rows x 670 columns]"
      ]
     },
     "execution_count": 6,
     "metadata": {},
     "output_type": "execute_result"
    }
   ],
   "source": [
    "df = pd.read_csv('resources/2017_2018_Arts_Survey_data.csv')\n",
    "df.head()"
   ]
  },
  {
   "cell_type": "markdown",
   "metadata": {},
   "source": [
    "**Ideas**  \n",
    "Do schools with high test grades have better art programs? Is there a causal relation?  \n",
    "How do you quantify a *good* art program?  \n",
    "What branch of the arts is best supported?  \n",
    "**External Data Sources to find**  \n",
    "Student performance metrics  \n",
    "Student well-being metrics  \n",
    "Average student household income  "
   ]
  },
  {
   "cell_type": "markdown",
   "metadata": {},
   "source": [
    "**Feature Notes**  \n",
    "* Q9: technology tools, eg animation software, color printers, etc"
   ]
  },
  {
   "cell_type": "markdown",
   "metadata": {},
   "source": [
    "df.rename(index=str, columns={'Q1_1': 'name_first',\n",
    "                              'Q1_2': 'name_last',\n",
    "                              'Q1_3': 'doe_email',\n",
    "                              'Q2_1': 'liaison',\n",
    "                              'Q3_1': 'supervisor_ft_solely_arts',\n",
    "                              'Q3_2': 'supervisor_ft_other_arts',\n",
    "                              'Q3_3': 'supervisor_pt',\n",
    "                              'Q3_4': 'supervisor_none',\n",
    "                              'Q4_1': 'supervisor_cert_art',\n",
    "                              'Q4_2': 'supervisor_cert_art_none',\n",
    "                              'Q5_1': 'supervisor_cert_admin',\n",
    "                              'Q5_2': 'supervisor_cert_admin_none',\n",
    "                              'Q6_1': 'num_pt_dance',\n",
    "                              'Q6_2': 'num_pt_music',\n",
    "                              'Q6_3': 'num_pt_thtr',\n",
    "                              'Q6_4': 'num_pt_visart',\n",
    "                              'Q7_1': 'num_pt_dance_100',\n",
    "                              'Q7_2': 'num_pt_music_100',\n",
    "                              'Q7_3': 'num_pt_thtr_100',\n",
    "                              'Q7_4': 'num_pt_visart_100',\n",
    "                              'Q8_R1_C1': 'num_rm_dance',\n",
    "                              'Q8_R1_C2': 'num_rm_dance_other',\n",
    "                              'Q8_R2_C1': 'num_rm_music',\n",
    "                              'Q8_R2_C2': 'num_rm_music_other',\n",
    "                              'Q8_R3_C1': 'num_rm_thtr',\n",
    "                              'Q8_R3_C2': 'num_rm_thtr_other',\n",
    "                              'Q8_R4_C1': 'num_rm_visart',\n",
    "                              'Q8_R4_C2': 'num_rm_visart_other',\n",
    "                              'Q8_R5_C1': 'num_rm_medart',\n",
    "                              'Q8_R5_C2': 'num_rm_medart_other',\n",
    "                              'Q10_R1_C1': 'dance_yes',\n",
    "                              'Q10_R1_C2': 'dance_no',\n",
    "                              'Q10_R2_C1': 'film_yes',\n",
    "                              'Q10_R2_C2': 'film_no',\n",
    "                              'Q10_R3_C1': 'music_yes',\n",
    "                              'Q10_R3_C2': 'music_no',\n",
    "                              'Q10_R4_C1': 'thtr_yes',\n",
    "                              'Q10_R4_C2': 'thtr_no',\n",
    "                              'Q10_R5_C1': 'visart_yes',\n",
    "                              'Q10_R5_C2': 'visart_no',\n",
    "                              'Q11_R1_C1': 'prek_dance_sch_based',\n",
    "                              'Q11_R1_C2': 'prek_dance_classrm',\n",
    "                              'Q11_R1_C3': 'prek_dance_cltr_org',\n",
    "                              'Q11_R1_C4': 'prek_dance_none',\n",
    "                              'Q11_R2_C1': 'prek_music_sch_based',\n",
    "                              'Q11_R2_C2': 'prek_music_classrm',\n",
    "                              'Q11_R2_C3': 'prek_music_cltr_org',\n",
    "                              'Q11_R2_C4': 'prek_music_none',\n",
    "                              'Q11_R3_C1': 'prek_thtr_sch_based',\n",
    "                              'Q11_R3_C2': 'prek_thtr_classrm',\n",
    "                              'Q11_R3_C3': 'prek_thtr_cltr_org',\n",
    "                              'Q11_R3_C4': 'prek_thtr_none',\n",
    "                              'Q11_R4_C1': 'prek_visart_sch_based',\n",
    "                              'Q11_R4_C2': 'prek_visart_classrm',\n",
    "                              'Q11_R4_C3': 'prek_visart_cltr_org',\n",
    "                              'Q11_R4_C4': 'prek_visart_none'}, inplace=True)"
   ]
  },
  {
   "cell_type": "markdown",
   "metadata": {},
   "source": [
    "### Q1 Arts Education Liaison Information"
   ]
  },
  {
   "cell_type": "code",
   "execution_count": 7,
   "metadata": {},
   "outputs": [
    {
     "data": {
      "text/html": [
       "<div>\n",
       "<style scoped>\n",
       "    .dataframe tbody tr th:only-of-type {\n",
       "        vertical-align: middle;\n",
       "    }\n",
       "\n",
       "    .dataframe tbody tr th {\n",
       "        vertical-align: top;\n",
       "    }\n",
       "\n",
       "    .dataframe thead th {\n",
       "        text-align: right;\n",
       "    }\n",
       "</style>\n",
       "<table border=\"1\" class=\"dataframe\">\n",
       "  <thead>\n",
       "    <tr style=\"text-align: right;\">\n",
       "      <th></th>\n",
       "      <th>Q0_DBN</th>\n",
       "      <th>Q1_1</th>\n",
       "      <th>Q1_2</th>\n",
       "      <th>Q1_3</th>\n",
       "    </tr>\n",
       "  </thead>\n",
       "  <tbody>\n",
       "    <tr>\n",
       "      <th>0</th>\n",
       "      <td>01M015</td>\n",
       "      <td>Rosemary</td>\n",
       "      <td>Camera</td>\n",
       "      <td>rcamera@schools.nyc.gov</td>\n",
       "    </tr>\n",
       "    <tr>\n",
       "      <th>1</th>\n",
       "      <td>01M019</td>\n",
       "      <td>JACQUELINE</td>\n",
       "      <td>FLANAGAN</td>\n",
       "      <td>JFLANAGAN@SCHOOLS.NYC.GOV</td>\n",
       "    </tr>\n",
       "    <tr>\n",
       "      <th>2</th>\n",
       "      <td>01M020</td>\n",
       "      <td>Ronnie</td>\n",
       "      <td>Filippatos</td>\n",
       "      <td>rfilippatos@schools.nyc.gov</td>\n",
       "    </tr>\n",
       "    <tr>\n",
       "      <th>3</th>\n",
       "      <td>01M034</td>\n",
       "      <td>Angeliki</td>\n",
       "      <td>Loukatos</td>\n",
       "      <td>aloukatos@schools.nyc.gov</td>\n",
       "    </tr>\n",
       "    <tr>\n",
       "      <th>4</th>\n",
       "      <td>01M064</td>\n",
       "      <td>Aron</td>\n",
       "      <td>Michlin</td>\n",
       "      <td>AMICHLIN@SCHOOLS.NYC.GOV</td>\n",
       "    </tr>\n",
       "  </tbody>\n",
       "</table>\n",
       "</div>"
      ],
      "text/plain": [
       "   Q0_DBN        Q1_1        Q1_2                         Q1_3\n",
       "0  01M015    Rosemary      Camera      rcamera@schools.nyc.gov\n",
       "1  01M019  JACQUELINE    FLANAGAN    JFLANAGAN@SCHOOLS.NYC.GOV\n",
       "2  01M020      Ronnie  Filippatos  rfilippatos@schools.nyc.gov\n",
       "3  01M034    Angeliki    Loukatos    aloukatos@schools.nyc.gov\n",
       "4  01M064        Aron     Michlin     AMICHLIN@SCHOOLS.NYC.GOV"
      ]
     },
     "execution_count": 7,
     "metadata": {},
     "output_type": "execute_result"
    }
   ],
   "source": [
    "Q1 = ['Q0_DBN', 'Q1_1', 'Q1_2', 'Q1_3']\n",
    "df_q1 = df[Q1]\n",
    "df_q1.head()"
   ]
  },
  {
   "cell_type": "markdown",
   "metadata": {},
   "source": [
    "Schools without an arts education liaison."
   ]
  },
  {
   "cell_type": "code",
   "execution_count": 8,
   "metadata": {},
   "outputs": [
    {
     "data": {
      "text/plain": [
       "Q0_DBN     0\n",
       "Q1_1      72\n",
       "Q1_2      72\n",
       "Q1_3      72\n",
       "dtype: int64"
      ]
     },
     "execution_count": 8,
     "metadata": {},
     "output_type": "execute_result"
    }
   ],
   "source": [
    "df_q1.shape[0] - df_q1.count()"
   ]
  },
  {
   "cell_type": "code",
   "execution_count": 9,
   "metadata": {},
   "outputs": [
    {
     "data": {
      "text/plain": [
       "Q0_DBN    0.000000\n",
       "Q1_1      0.056917\n",
       "Q1_2      0.056917\n",
       "Q1_3      0.056917\n",
       "dtype: float64"
      ]
     },
     "execution_count": 9,
     "metadata": {},
     "output_type": "execute_result"
    }
   ],
   "source": [
    "(df_q1.shape[0] - df_q1.count()) / df_q1.shape[0]"
   ]
  },
  {
   "cell_type": "markdown",
   "metadata": {},
   "source": [
    "### Q2 Designated Arts Education Liaison"
   ]
  },
  {
   "cell_type": "code",
   "execution_count": 10,
   "metadata": {},
   "outputs": [
    {
     "data": {
      "text/html": [
       "<div>\n",
       "<style scoped>\n",
       "    .dataframe tbody tr th:only-of-type {\n",
       "        vertical-align: middle;\n",
       "    }\n",
       "\n",
       "    .dataframe tbody tr th {\n",
       "        vertical-align: top;\n",
       "    }\n",
       "\n",
       "    .dataframe thead th {\n",
       "        text-align: right;\n",
       "    }\n",
       "</style>\n",
       "<table border=\"1\" class=\"dataframe\">\n",
       "  <thead>\n",
       "    <tr style=\"text-align: right;\">\n",
       "      <th></th>\n",
       "      <th>Q0_DBN</th>\n",
       "      <th>Q2_1</th>\n",
       "    </tr>\n",
       "  </thead>\n",
       "  <tbody>\n",
       "    <tr>\n",
       "      <th>0</th>\n",
       "      <td>01M015</td>\n",
       "      <td>0</td>\n",
       "    </tr>\n",
       "    <tr>\n",
       "      <th>1</th>\n",
       "      <td>01M019</td>\n",
       "      <td>0</td>\n",
       "    </tr>\n",
       "    <tr>\n",
       "      <th>2</th>\n",
       "      <td>01M020</td>\n",
       "      <td>0</td>\n",
       "    </tr>\n",
       "    <tr>\n",
       "      <th>3</th>\n",
       "      <td>01M034</td>\n",
       "      <td>0</td>\n",
       "    </tr>\n",
       "    <tr>\n",
       "      <th>4</th>\n",
       "      <td>01M064</td>\n",
       "      <td>0</td>\n",
       "    </tr>\n",
       "  </tbody>\n",
       "</table>\n",
       "</div>"
      ],
      "text/plain": [
       "   Q0_DBN  Q2_1\n",
       "0  01M015     0\n",
       "1  01M019     0\n",
       "2  01M020     0\n",
       "3  01M034     0\n",
       "4  01M064     0"
      ]
     },
     "execution_count": 10,
     "metadata": {},
     "output_type": "execute_result"
    }
   ],
   "source": [
    "df_q2 = df[['Q0_DBN', 'Q2_1']]\n",
    "df_q2.head()"
   ]
  },
  {
   "cell_type": "code",
   "execution_count": 11,
   "metadata": {},
   "outputs": [
    {
     "data": {
      "text/plain": [
       "72"
      ]
     },
     "execution_count": 11,
     "metadata": {},
     "output_type": "execute_result"
    }
   ],
   "source": [
    "df_q2['Q2_1'].sum()"
   ]
  },
  {
   "cell_type": "markdown",
   "metadata": {},
   "source": [
    "The number of schools specifying that they do not have a designated liaison is in agreement with the missing information from Q1."
   ]
  },
  {
   "cell_type": "markdown",
   "metadata": {},
   "source": [
    "### Q3 Arts Supervisor Status"
   ]
  },
  {
   "cell_type": "code",
   "execution_count": 12,
   "metadata": {},
   "outputs": [
    {
     "data": {
      "text/html": [
       "<div>\n",
       "<style scoped>\n",
       "    .dataframe tbody tr th:only-of-type {\n",
       "        vertical-align: middle;\n",
       "    }\n",
       "\n",
       "    .dataframe tbody tr th {\n",
       "        vertical-align: top;\n",
       "    }\n",
       "\n",
       "    .dataframe thead th {\n",
       "        text-align: right;\n",
       "    }\n",
       "</style>\n",
       "<table border=\"1\" class=\"dataframe\">\n",
       "  <thead>\n",
       "    <tr style=\"text-align: right;\">\n",
       "      <th></th>\n",
       "      <th>Q3_1</th>\n",
       "      <th>Q3_2</th>\n",
       "      <th>Q3_3</th>\n",
       "      <th>Q3_4</th>\n",
       "    </tr>\n",
       "  </thead>\n",
       "  <tbody>\n",
       "    <tr>\n",
       "      <th>0</th>\n",
       "      <td>0</td>\n",
       "      <td>1</td>\n",
       "      <td>0</td>\n",
       "      <td>0</td>\n",
       "    </tr>\n",
       "    <tr>\n",
       "      <th>1</th>\n",
       "      <td>0</td>\n",
       "      <td>1</td>\n",
       "      <td>0</td>\n",
       "      <td>0</td>\n",
       "    </tr>\n",
       "    <tr>\n",
       "      <th>2</th>\n",
       "      <td>0</td>\n",
       "      <td>0</td>\n",
       "      <td>0</td>\n",
       "      <td>1</td>\n",
       "    </tr>\n",
       "    <tr>\n",
       "      <th>3</th>\n",
       "      <td>0</td>\n",
       "      <td>1</td>\n",
       "      <td>0</td>\n",
       "      <td>0</td>\n",
       "    </tr>\n",
       "    <tr>\n",
       "      <th>4</th>\n",
       "      <td>0</td>\n",
       "      <td>1</td>\n",
       "      <td>0</td>\n",
       "      <td>0</td>\n",
       "    </tr>\n",
       "  </tbody>\n",
       "</table>\n",
       "</div>"
      ],
      "text/plain": [
       "   Q3_1  Q3_2  Q3_3  Q3_4\n",
       "0     0     1     0     0\n",
       "1     0     1     0     0\n",
       "2     0     0     0     1\n",
       "3     0     1     0     0\n",
       "4     0     1     0     0"
      ]
     },
     "execution_count": 12,
     "metadata": {},
     "output_type": "execute_result"
    }
   ],
   "source": [
    "Q3 = ['Q3_1', 'Q3_2', 'Q3_3', 'Q3_4']\n",
    "df_q3 = df[Q3]\n",
    "df_q3.head()"
   ]
  },
  {
   "cell_type": "code",
   "execution_count": 13,
   "metadata": {
    "scrolled": false
   },
   "outputs": [
    {
     "data": {
      "text/plain": [
       "Text(0.5,1,'Description of the person responsible for arts education')"
      ]
     },
     "execution_count": 13,
     "metadata": {},
     "output_type": "execute_result"
    },
    {
     "data": {
      "image/png": "[encoded data removed]",
      "text/plain": [
       "<Figure size 432x288 with 1 Axes>"
      ]
     },
     "metadata": {},
     "output_type": "display_data"
    }
   ],
   "source": [
    "fig = plt.figure()\n",
    "ax = fig.add_subplot()\n",
    "plt.bar(Q3, df_q3.sum())\n",
    "plt.xticks(np.arange(4), ('Full-time, solely art', 'Full-time', 'Part-time', 'None'))\n",
    "plt.title('Description of the person responsible for arts education')"
   ]
  },
  {
   "cell_type": "markdown",
   "metadata": {},
   "source": [
    "Schools that did not select any option."
   ]
  },
  {
   "cell_type": "code",
   "execution_count": 14,
   "metadata": {},
   "outputs": [
    {
     "data": {
      "text/plain": [
       "2"
      ]
     },
     "execution_count": 14,
     "metadata": {},
     "output_type": "execute_result"
    }
   ],
   "source": [
    "df_q3.shape[0] - df_q3.sum().sum()"
   ]
  },
  {
   "cell_type": "markdown",
   "metadata": {},
   "source": [
    "### Q4 Arts Supervisor Certification in the Arts"
   ]
  },
  {
   "cell_type": "code",
   "execution_count": 15,
   "metadata": {},
   "outputs": [
    {
     "data": {
      "text/html": [
       "<div>\n",
       "<style scoped>\n",
       "    .dataframe tbody tr th:only-of-type {\n",
       "        vertical-align: middle;\n",
       "    }\n",
       "\n",
       "    .dataframe tbody tr th {\n",
       "        vertical-align: top;\n",
       "    }\n",
       "\n",
       "    .dataframe thead th {\n",
       "        text-align: right;\n",
       "    }\n",
       "</style>\n",
       "<table border=\"1\" class=\"dataframe\">\n",
       "  <thead>\n",
       "    <tr style=\"text-align: right;\">\n",
       "      <th></th>\n",
       "      <th>Q4_1</th>\n",
       "      <th>Q4_2</th>\n",
       "    </tr>\n",
       "  </thead>\n",
       "  <tbody>\n",
       "    <tr>\n",
       "      <th>0</th>\n",
       "      <td>1</td>\n",
       "      <td>0</td>\n",
       "    </tr>\n",
       "    <tr>\n",
       "      <th>1</th>\n",
       "      <td>0</td>\n",
       "      <td>1</td>\n",
       "    </tr>\n",
       "    <tr>\n",
       "      <th>2</th>\n",
       "      <td>0</td>\n",
       "      <td>0</td>\n",
       "    </tr>\n",
       "    <tr>\n",
       "      <th>3</th>\n",
       "      <td>0</td>\n",
       "      <td>1</td>\n",
       "    </tr>\n",
       "    <tr>\n",
       "      <th>4</th>\n",
       "      <td>1</td>\n",
       "      <td>0</td>\n",
       "    </tr>\n",
       "  </tbody>\n",
       "</table>\n",
       "</div>"
      ],
      "text/plain": [
       "   Q4_1  Q4_2\n",
       "0     1     0\n",
       "1     0     1\n",
       "2     0     0\n",
       "3     0     1\n",
       "4     1     0"
      ]
     },
     "execution_count": 15,
     "metadata": {},
     "output_type": "execute_result"
    }
   ],
   "source": [
    "df_q4 = df[['Q4_1', 'Q4_2']]\n",
    "df_q4.head()"
   ]
  },
  {
   "cell_type": "markdown",
   "metadata": {},
   "source": [
    "This question only appeared if a school did not select option 4 in Q3. I am not sure whether this question was shown to schools that did not select an option in Q3."
   ]
  },
  {
   "cell_type": "code",
   "execution_count": 16,
   "metadata": {},
   "outputs": [
    {
     "data": {
      "text/plain": [
       "1"
      ]
     },
     "execution_count": 16,
     "metadata": {},
     "output_type": "execute_result"
    }
   ],
   "source": [
    "df[['Q3_1', 'Q3_2', 'Q3_3']].sum().sum() - df_q4.sum().sum()"
   ]
  },
  {
   "cell_type": "code",
   "execution_count": 17,
   "metadata": {
    "scrolled": false
   },
   "outputs": [
    {
     "data": {
      "text/plain": [
       "Text(0.5,1,'Is this person certified in an arts discipline?')"
      ]
     },
     "execution_count": 17,
     "metadata": {},
     "output_type": "execute_result"
    },
    {
     "data": {
      "image/png": "[encoded data removed]",
      "text/plain": [
       "<Figure size 432x288 with 1 Axes>"
      ]
     },
     "metadata": {},
     "output_type": "display_data"
    }
   ],
   "source": [
    "fig = plt.figure()\n",
    "ax = fig.add_subplot()\n",
    "plt.bar(df_q4.columns, df_q4.sum())\n",
    "plt.xticks(np.arange(2), ('Yes', 'No'))\n",
    "plt.title('Is this person certified in an arts discipline?')"
   ]
  },
  {
   "cell_type": "markdown",
   "metadata": {},
   "source": [
    "### Q5 Arts Supervisor Certification as Administrator"
   ]
  },
  {
   "cell_type": "code",
   "execution_count": 18,
   "metadata": {},
   "outputs": [
    {
     "data": {
      "text/html": [
       "<div>\n",
       "<style scoped>\n",
       "    .dataframe tbody tr th:only-of-type {\n",
       "        vertical-align: middle;\n",
       "    }\n",
       "\n",
       "    .dataframe tbody tr th {\n",
       "        vertical-align: top;\n",
       "    }\n",
       "\n",
       "    .dataframe thead th {\n",
       "        text-align: right;\n",
       "    }\n",
       "</style>\n",
       "<table border=\"1\" class=\"dataframe\">\n",
       "  <thead>\n",
       "    <tr style=\"text-align: right;\">\n",
       "      <th></th>\n",
       "      <th>Q5_1</th>\n",
       "      <th>Q5_2</th>\n",
       "    </tr>\n",
       "  </thead>\n",
       "  <tbody>\n",
       "    <tr>\n",
       "      <th>0</th>\n",
       "      <td>0</td>\n",
       "      <td>1</td>\n",
       "    </tr>\n",
       "    <tr>\n",
       "      <th>1</th>\n",
       "      <td>0</td>\n",
       "      <td>1</td>\n",
       "    </tr>\n",
       "    <tr>\n",
       "      <th>2</th>\n",
       "      <td>0</td>\n",
       "      <td>0</td>\n",
       "    </tr>\n",
       "    <tr>\n",
       "      <th>3</th>\n",
       "      <td>0</td>\n",
       "      <td>1</td>\n",
       "    </tr>\n",
       "    <tr>\n",
       "      <th>4</th>\n",
       "      <td>0</td>\n",
       "      <td>1</td>\n",
       "    </tr>\n",
       "  </tbody>\n",
       "</table>\n",
       "</div>"
      ],
      "text/plain": [
       "   Q5_1  Q5_2\n",
       "0     0     1\n",
       "1     0     1\n",
       "2     0     0\n",
       "3     0     1\n",
       "4     0     1"
      ]
     },
     "execution_count": 18,
     "metadata": {},
     "output_type": "execute_result"
    }
   ],
   "source": [
    "df_q5 = df[['Q5_1', 'Q5_2']]\n",
    "df_q5.head()"
   ]
  },
  {
   "cell_type": "markdown",
   "metadata": {},
   "source": [
    "Similarly, this question was only shown to those schools with an arts supervisor."
   ]
  },
  {
   "cell_type": "code",
   "execution_count": 19,
   "metadata": {},
   "outputs": [
    {
     "data": {
      "text/plain": [
       "1"
      ]
     },
     "execution_count": 19,
     "metadata": {},
     "output_type": "execute_result"
    }
   ],
   "source": [
    "df[['Q3_1', 'Q3_2', 'Q3_3']].sum().sum() - df_q5.sum().sum()"
   ]
  },
  {
   "cell_type": "code",
   "execution_count": 20,
   "metadata": {
    "scrolled": false
   },
   "outputs": [
    {
     "data": {
      "text/plain": [
       "Text(0.5,1,'Is this person certified as an administrator or supervisor?')"
      ]
     },
     "execution_count": 20,
     "metadata": {},
     "output_type": "execute_result"
    },
    {
     "data": {
      "image/png": "[encoded data removed]",
      "text/plain": [
       "<Figure size 432x288 with 1 Axes>"
      ]
     },
     "metadata": {},
     "output_type": "display_data"
    }
   ],
   "source": [
    "fig = plt.figure()\n",
    "ax = fig.add_subplot()\n",
    "plt.bar(df_q5.columns, df_q5.sum())\n",
    "plt.xticks(np.arange(2), ('Yes', 'No'))\n",
    "plt.title('Is this person certified as an administrator or supervisor?')"
   ]
  },
  {
   "cell_type": "markdown",
   "metadata": {},
   "source": [
    "How many arts supervisors are without certification in the arts or as an administrator?"
   ]
  },
  {
   "cell_type": "code",
   "execution_count": 21,
   "metadata": {},
   "outputs": [
    {
     "name": "stderr",
     "output_type": "stream",
     "text": [
      "/home/eric/anaconda3/lib/python3.6/site-packages/ipykernel_launcher.py:1: UserWarning: Boolean Series key will be reindexed to match DataFrame index.\n",
      "  \"\"\"Entry point for launching an IPython kernel.\n"
     ]
    },
    {
     "data": {
      "text/plain": [
       "98"
      ]
     },
     "execution_count": 21,
     "metadata": {},
     "output_type": "execute_result"
    }
   ],
   "source": [
    "df[df['Q4_2'] == 1][df['Q5_2'] == 1]['Q0_DBN'].count()"
   ]
  },
  {
   "cell_type": "markdown",
   "metadata": {},
   "source": [
    "### Q6 Part-time certified teachers by discipline"
   ]
  },
  {
   "cell_type": "code",
   "execution_count": 22,
   "metadata": {},
   "outputs": [
    {
     "data": {
      "text/html": [
       "<div>\n",
       "<style scoped>\n",
       "    .dataframe tbody tr th:only-of-type {\n",
       "        vertical-align: middle;\n",
       "    }\n",
       "\n",
       "    .dataframe tbody tr th {\n",
       "        vertical-align: top;\n",
       "    }\n",
       "\n",
       "    .dataframe thead th {\n",
       "        text-align: right;\n",
       "    }\n",
       "</style>\n",
       "<table border=\"1\" class=\"dataframe\">\n",
       "  <thead>\n",
       "    <tr style=\"text-align: right;\">\n",
       "      <th></th>\n",
       "      <th>Q6_1</th>\n",
       "      <th>Q6_2</th>\n",
       "      <th>Q6_3</th>\n",
       "      <th>Q6_4</th>\n",
       "    </tr>\n",
       "  </thead>\n",
       "  <tbody>\n",
       "    <tr>\n",
       "      <th>0</th>\n",
       "      <td>0</td>\n",
       "      <td>0</td>\n",
       "      <td>0</td>\n",
       "      <td>0</td>\n",
       "    </tr>\n",
       "    <tr>\n",
       "      <th>1</th>\n",
       "      <td>0</td>\n",
       "      <td>0</td>\n",
       "      <td>0</td>\n",
       "      <td>0</td>\n",
       "    </tr>\n",
       "    <tr>\n",
       "      <th>2</th>\n",
       "      <td>0</td>\n",
       "      <td>1</td>\n",
       "      <td>0</td>\n",
       "      <td>1</td>\n",
       "    </tr>\n",
       "    <tr>\n",
       "      <th>3</th>\n",
       "      <td>0</td>\n",
       "      <td>0</td>\n",
       "      <td>0</td>\n",
       "      <td>1</td>\n",
       "    </tr>\n",
       "    <tr>\n",
       "      <th>4</th>\n",
       "      <td>0</td>\n",
       "      <td>0</td>\n",
       "      <td>0</td>\n",
       "      <td>0</td>\n",
       "    </tr>\n",
       "  </tbody>\n",
       "</table>\n",
       "</div>"
      ],
      "text/plain": [
       "   Q6_1  Q6_2  Q6_3  Q6_4\n",
       "0     0     0     0     0\n",
       "1     0     0     0     0\n",
       "2     0     1     0     1\n",
       "3     0     0     0     1\n",
       "4     0     0     0     0"
      ]
     },
     "execution_count": 22,
     "metadata": {},
     "output_type": "execute_result"
    }
   ],
   "source": [
    "Q6 = ['Q6_1', 'Q6_2', 'Q6_3', 'Q6_4']\n",
    "df_q6 = df[Q6]\n",
    "df_q6.head()"
   ]
  },
  {
   "cell_type": "markdown",
   "metadata": {},
   "source": [
    "Here I am taking the number of schools as the whole, since we have switched from administrators to instructors.  \n",
    "**Note** This question refers to part-time teachers, so I will have to find information on full-time teachers for full context. "
   ]
  },
  {
   "cell_type": "code",
   "execution_count": 23,
   "metadata": {},
   "outputs": [
    {
     "data": {
      "text/plain": [
       "456"
      ]
     },
     "execution_count": 23,
     "metadata": {},
     "output_type": "execute_result"
    }
   ],
   "source": [
    "df_q6.shape[0] - df_q6.sum().sum()"
   ]
  },
  {
   "cell_type": "code",
   "execution_count": 24,
   "metadata": {
    "scrolled": false
   },
   "outputs": [
    {
     "data": {
      "text/plain": [
       "Text(0.5,1,'Number of Part-Time Certified Arts Teachers')"
      ]
     },
     "execution_count": 24,
     "metadata": {},
     "output_type": "execute_result"
    },
    {
     "data": {
      "image/png": "[encoded data removed]",
      "text/plain": [
       "<Figure size 432x288 with 1 Axes>"
      ]
     },
     "metadata": {},
     "output_type": "display_data"
    }
   ],
   "source": [
    "fig = plt.figure()\n",
    "ax = fig.add_subplot()\n",
    "plt.bar(df_q6.columns, df_q6.sum())\n",
    "plt.xticks(np.arange(4), ('Dance', 'Music', 'Theater', 'Visual Arts'))\n",
    "plt.title('Number of Part-Time Certified Arts Teachers')"
   ]
  },
  {
   "cell_type": "markdown",
   "metadata": {},
   "source": [
    "### Q7 Number of part-time teachers teaching arts 100%"
   ]
  },
  {
   "cell_type": "markdown",
   "metadata": {},
   "source": [
    "**TODO** Compare composition of teachers for each discipline, ie percentage of part-time, full-time, other."
   ]
  },
  {
   "cell_type": "markdown",
   "metadata": {},
   "source": [
    "Questions are only shown if the corresponding response for Q6 was non-zero."
   ]
  },
  {
   "cell_type": "code",
   "execution_count": 25,
   "metadata": {},
   "outputs": [
    {
     "data": {
      "text/html": [
       "<div>\n",
       "<style scoped>\n",
       "    .dataframe tbody tr th:only-of-type {\n",
       "        vertical-align: middle;\n",
       "    }\n",
       "\n",
       "    .dataframe tbody tr th {\n",
       "        vertical-align: top;\n",
       "    }\n",
       "\n",
       "    .dataframe thead th {\n",
       "        text-align: right;\n",
       "    }\n",
       "</style>\n",
       "<table border=\"1\" class=\"dataframe\">\n",
       "  <thead>\n",
       "    <tr style=\"text-align: right;\">\n",
       "      <th></th>\n",
       "      <th>Q7_1</th>\n",
       "      <th>Q7_2</th>\n",
       "      <th>Q7_3</th>\n",
       "      <th>Q7_4</th>\n",
       "    </tr>\n",
       "  </thead>\n",
       "  <tbody>\n",
       "    <tr>\n",
       "      <th>0</th>\n",
       "      <td>NaN</td>\n",
       "      <td>NaN</td>\n",
       "      <td>NaN</td>\n",
       "      <td>NaN</td>\n",
       "    </tr>\n",
       "    <tr>\n",
       "      <th>1</th>\n",
       "      <td>NaN</td>\n",
       "      <td>NaN</td>\n",
       "      <td>NaN</td>\n",
       "      <td>NaN</td>\n",
       "    </tr>\n",
       "    <tr>\n",
       "      <th>2</th>\n",
       "      <td>NaN</td>\n",
       "      <td>0.0</td>\n",
       "      <td>NaN</td>\n",
       "      <td>0.0</td>\n",
       "    </tr>\n",
       "    <tr>\n",
       "      <th>3</th>\n",
       "      <td>NaN</td>\n",
       "      <td>NaN</td>\n",
       "      <td>NaN</td>\n",
       "      <td>1.0</td>\n",
       "    </tr>\n",
       "    <tr>\n",
       "      <th>4</th>\n",
       "      <td>NaN</td>\n",
       "      <td>NaN</td>\n",
       "      <td>NaN</td>\n",
       "      <td>NaN</td>\n",
       "    </tr>\n",
       "  </tbody>\n",
       "</table>\n",
       "</div>"
      ],
      "text/plain": [
       "   Q7_1  Q7_2  Q7_3  Q7_4\n",
       "0   NaN   NaN   NaN   NaN\n",
       "1   NaN   NaN   NaN   NaN\n",
       "2   NaN   0.0   NaN   0.0\n",
       "3   NaN   NaN   NaN   1.0\n",
       "4   NaN   NaN   NaN   NaN"
      ]
     },
     "execution_count": 25,
     "metadata": {},
     "output_type": "execute_result"
    }
   ],
   "source": [
    "Q7 = ['Q7_1', 'Q7_2', 'Q7_3', 'Q7_4']\n",
    "df_q7 = df[Q7]\n",
    "df_q7.head()"
   ]
  },
  {
   "cell_type": "markdown",
   "metadata": {},
   "source": [
    "Dance"
   ]
  },
  {
   "cell_type": "code",
   "execution_count": 26,
   "metadata": {},
   "outputs": [
    {
     "data": {
      "text/html": [
       "<div>\n",
       "<style scoped>\n",
       "    .dataframe tbody tr th:only-of-type {\n",
       "        vertical-align: middle;\n",
       "    }\n",
       "\n",
       "    .dataframe tbody tr th {\n",
       "        vertical-align: top;\n",
       "    }\n",
       "\n",
       "    .dataframe thead th {\n",
       "        text-align: right;\n",
       "    }\n",
       "</style>\n",
       "<table border=\"1\" class=\"dataframe\">\n",
       "  <thead>\n",
       "    <tr style=\"text-align: right;\">\n",
       "      <th></th>\n",
       "      <th>Q7_1</th>\n",
       "    </tr>\n",
       "  </thead>\n",
       "  <tbody>\n",
       "    <tr>\n",
       "      <th>count</th>\n",
       "      <td>87.000000</td>\n",
       "    </tr>\n",
       "    <tr>\n",
       "      <th>mean</th>\n",
       "      <td>0.701149</td>\n",
       "    </tr>\n",
       "    <tr>\n",
       "      <th>std</th>\n",
       "      <td>0.748874</td>\n",
       "    </tr>\n",
       "    <tr>\n",
       "      <th>min</th>\n",
       "      <td>0.000000</td>\n",
       "    </tr>\n",
       "    <tr>\n",
       "      <th>25%</th>\n",
       "      <td>0.000000</td>\n",
       "    </tr>\n",
       "    <tr>\n",
       "      <th>50%</th>\n",
       "      <td>1.000000</td>\n",
       "    </tr>\n",
       "    <tr>\n",
       "      <th>75%</th>\n",
       "      <td>1.000000</td>\n",
       "    </tr>\n",
       "    <tr>\n",
       "      <th>max</th>\n",
       "      <td>4.000000</td>\n",
       "    </tr>\n",
       "  </tbody>\n",
       "</table>\n",
       "</div>"
      ],
      "text/plain": [
       "            Q7_1\n",
       "count  87.000000\n",
       "mean    0.701149\n",
       "std     0.748874\n",
       "min     0.000000\n",
       "25%     0.000000\n",
       "50%     1.000000\n",
       "75%     1.000000\n",
       "max     4.000000"
      ]
     },
     "execution_count": 26,
     "metadata": {},
     "output_type": "execute_result"
    }
   ],
   "source": [
    "df_pt_dance = df[df['Q6_1'] > 0][['Q0_DBN', 'Q7_1']]\n",
    "df_pt_dance.describe()"
   ]
  },
  {
   "cell_type": "code",
   "execution_count": 27,
   "metadata": {
    "scrolled": false
   },
   "outputs": [
    {
     "data": {
      "text/plain": [
       "Text(0.5,1,'Number of Part-Time Certified Dance Teachers Teaching Art 100% of Their Schedule')"
      ]
     },
     "execution_count": 27,
     "metadata": {},
     "output_type": "execute_result"
    },
    {
     "data": {
      "image/png": "[encoded data removed]",
      "text/plain": [
       "<Figure size 432x288 with 1 Axes>"
      ]
     },
     "metadata": {},
     "output_type": "display_data"
    }
   ],
   "source": [
    "temp = df_pt_dance.groupby('Q7_1').count()\n",
    "fig = plt.figure()\n",
    "ax = fig.add_subplot()\n",
    "plt.bar(np.arange(5), temp['Q0_DBN'])\n",
    "plt.title('Number of Part-Time Certified Dance Teachers Teaching Art 100% of Their Schedule')"
   ]
  },
  {
   "cell_type": "markdown",
   "metadata": {},
   "source": [
    "Music"
   ]
  },
  {
   "cell_type": "code",
   "execution_count": 28,
   "metadata": {},
   "outputs": [
    {
     "data": {
      "text/html": [
       "<div>\n",
       "<style scoped>\n",
       "    .dataframe tbody tr th:only-of-type {\n",
       "        vertical-align: middle;\n",
       "    }\n",
       "\n",
       "    .dataframe tbody tr th {\n",
       "        vertical-align: top;\n",
       "    }\n",
       "\n",
       "    .dataframe thead th {\n",
       "        text-align: right;\n",
       "    }\n",
       "</style>\n",
       "<table border=\"1\" class=\"dataframe\">\n",
       "  <thead>\n",
       "    <tr style=\"text-align: right;\">\n",
       "      <th></th>\n",
       "      <th>Q7_2</th>\n",
       "    </tr>\n",
       "  </thead>\n",
       "  <tbody>\n",
       "    <tr>\n",
       "      <th>count</th>\n",
       "      <td>215.000000</td>\n",
       "    </tr>\n",
       "    <tr>\n",
       "      <th>mean</th>\n",
       "      <td>0.879070</td>\n",
       "    </tr>\n",
       "    <tr>\n",
       "      <th>std</th>\n",
       "      <td>0.817038</td>\n",
       "    </tr>\n",
       "    <tr>\n",
       "      <th>min</th>\n",
       "      <td>0.000000</td>\n",
       "    </tr>\n",
       "    <tr>\n",
       "      <th>25%</th>\n",
       "      <td>0.000000</td>\n",
       "    </tr>\n",
       "    <tr>\n",
       "      <th>50%</th>\n",
       "      <td>1.000000</td>\n",
       "    </tr>\n",
       "    <tr>\n",
       "      <th>75%</th>\n",
       "      <td>1.000000</td>\n",
       "    </tr>\n",
       "    <tr>\n",
       "      <th>max</th>\n",
       "      <td>7.000000</td>\n",
       "    </tr>\n",
       "  </tbody>\n",
       "</table>\n",
       "</div>"
      ],
      "text/plain": [
       "             Q7_2\n",
       "count  215.000000\n",
       "mean     0.879070\n",
       "std      0.817038\n",
       "min      0.000000\n",
       "25%      0.000000\n",
       "50%      1.000000\n",
       "75%      1.000000\n",
       "max      7.000000"
      ]
     },
     "execution_count": 28,
     "metadata": {},
     "output_type": "execute_result"
    }
   ],
   "source": [
    "df_pt_music = df[df['Q6_2'] > 0][['Q0_DBN', 'Q7_2']]\n",
    "df_pt_music.describe()"
   ]
  },
  {
   "cell_type": "code",
   "execution_count": 29,
   "metadata": {},
   "outputs": [],
   "source": [
    "temp = df_pt_music.groupby('Q7_2').count()\n",
    "new_index = pd.Index(np.arange(8))\n",
    "temp = temp.reindex(new_index).fillna(0)"
   ]
  },
  {
   "cell_type": "code",
   "execution_count": 30,
   "metadata": {
    "scrolled": false
   },
   "outputs": [
    {
     "data": {
      "text/plain": [
       "Text(0.5,1,'Number of Part-Time Certified Music Teachers Teaching Art 100% of Their Schedule')"
      ]
     },
     "execution_count": 30,
     "metadata": {},
     "output_type": "execute_result"
    },
    {
     "data": {
      "image/png": "[encoded data removed]",
      "text/plain": [
       "<Figure size 432x288 with 1 Axes>"
      ]
     },
     "metadata": {},
     "output_type": "display_data"
    }
   ],
   "source": [
    "fig = plt.figure()\n",
    "ax = fig.add_subplot()\n",
    "plt.bar(np.arange(8), temp['Q0_DBN'])\n",
    "plt.title('Number of Part-Time Certified Music Teachers Teaching Art 100% of Their Schedule')"
   ]
  },
  {
   "cell_type": "markdown",
   "metadata": {},
   "source": [
    "Theater"
   ]
  },
  {
   "cell_type": "code",
   "execution_count": 31,
   "metadata": {},
   "outputs": [
    {
     "data": {
      "text/html": [
       "<div>\n",
       "<style scoped>\n",
       "    .dataframe tbody tr th:only-of-type {\n",
       "        vertical-align: middle;\n",
       "    }\n",
       "\n",
       "    .dataframe tbody tr th {\n",
       "        vertical-align: top;\n",
       "    }\n",
       "\n",
       "    .dataframe thead th {\n",
       "        text-align: right;\n",
       "    }\n",
       "</style>\n",
       "<table border=\"1\" class=\"dataframe\">\n",
       "  <thead>\n",
       "    <tr style=\"text-align: right;\">\n",
       "      <th></th>\n",
       "      <th>Q7_3</th>\n",
       "    </tr>\n",
       "  </thead>\n",
       "  <tbody>\n",
       "    <tr>\n",
       "      <th>count</th>\n",
       "      <td>86.000000</td>\n",
       "    </tr>\n",
       "    <tr>\n",
       "      <th>mean</th>\n",
       "      <td>0.686047</td>\n",
       "    </tr>\n",
       "    <tr>\n",
       "      <th>std</th>\n",
       "      <td>0.599247</td>\n",
       "    </tr>\n",
       "    <tr>\n",
       "      <th>min</th>\n",
       "      <td>0.000000</td>\n",
       "    </tr>\n",
       "    <tr>\n",
       "      <th>25%</th>\n",
       "      <td>0.000000</td>\n",
       "    </tr>\n",
       "    <tr>\n",
       "      <th>50%</th>\n",
       "      <td>1.000000</td>\n",
       "    </tr>\n",
       "    <tr>\n",
       "      <th>75%</th>\n",
       "      <td>1.000000</td>\n",
       "    </tr>\n",
       "    <tr>\n",
       "      <th>max</th>\n",
       "      <td>3.000000</td>\n",
       "    </tr>\n",
       "  </tbody>\n",
       "</table>\n",
       "</div>"
      ],
      "text/plain": [
       "            Q7_3\n",
       "count  86.000000\n",
       "mean    0.686047\n",
       "std     0.599247\n",
       "min     0.000000\n",
       "25%     0.000000\n",
       "50%     1.000000\n",
       "75%     1.000000\n",
       "max     3.000000"
      ]
     },
     "execution_count": 31,
     "metadata": {},
     "output_type": "execute_result"
    }
   ],
   "source": [
    "df_pt_thtr = df[df['Q6_3'] > 0][['Q0_DBN', 'Q7_3']]\n",
    "df_pt_thtr.describe()"
   ]
  },
  {
   "cell_type": "code",
   "execution_count": 32,
   "metadata": {
    "scrolled": false
   },
   "outputs": [
    {
     "data": {
      "text/plain": [
       "Text(0.5,1,'Number of Part-Time Certified Theater Teachers Teaching Art 100% of Their Schedule')"
      ]
     },
     "execution_count": 32,
     "metadata": {},
     "output_type": "execute_result"
    },
    {
     "data": {
      "image/png": "[encoded data removed]",
      "text/plain": [
       "<Figure size 432x288 with 1 Axes>"
      ]
     },
     "metadata": {},
     "output_type": "display_data"
    }
   ],
   "source": [
    "temp = df_pt_thtr.groupby('Q7_3').count()\n",
    "fig = plt.figure()\n",
    "ax = fig.add_subplot()\n",
    "plt.bar(np.arange(4), temp['Q0_DBN'])\n",
    "plt.xticks(np.arange(4), (0, 1, 2, 3))\n",
    "plt.title('Number of Part-Time Certified Theater Teachers Teaching Art 100% of Their Schedule')"
   ]
  },
  {
   "cell_type": "markdown",
   "metadata": {},
   "source": [
    "Visual Arts"
   ]
  },
  {
   "cell_type": "code",
   "execution_count": 33,
   "metadata": {},
   "outputs": [
    {
     "data": {
      "text/html": [
       "<div>\n",
       "<style scoped>\n",
       "    .dataframe tbody tr th:only-of-type {\n",
       "        vertical-align: middle;\n",
       "    }\n",
       "\n",
       "    .dataframe tbody tr th {\n",
       "        vertical-align: top;\n",
       "    }\n",
       "\n",
       "    .dataframe thead th {\n",
       "        text-align: right;\n",
       "    }\n",
       "</style>\n",
       "<table border=\"1\" class=\"dataframe\">\n",
       "  <thead>\n",
       "    <tr style=\"text-align: right;\">\n",
       "      <th></th>\n",
       "      <th>Q7_4</th>\n",
       "    </tr>\n",
       "  </thead>\n",
       "  <tbody>\n",
       "    <tr>\n",
       "      <th>count</th>\n",
       "      <td>264.000000</td>\n",
       "    </tr>\n",
       "    <tr>\n",
       "      <th>mean</th>\n",
       "      <td>0.765152</td>\n",
       "    </tr>\n",
       "    <tr>\n",
       "      <th>std</th>\n",
       "      <td>0.701545</td>\n",
       "    </tr>\n",
       "    <tr>\n",
       "      <th>min</th>\n",
       "      <td>0.000000</td>\n",
       "    </tr>\n",
       "    <tr>\n",
       "      <th>25%</th>\n",
       "      <td>0.000000</td>\n",
       "    </tr>\n",
       "    <tr>\n",
       "      <th>50%</th>\n",
       "      <td>1.000000</td>\n",
       "    </tr>\n",
       "    <tr>\n",
       "      <th>75%</th>\n",
       "      <td>1.000000</td>\n",
       "    </tr>\n",
       "    <tr>\n",
       "      <th>max</th>\n",
       "      <td>5.000000</td>\n",
       "    </tr>\n",
       "  </tbody>\n",
       "</table>\n",
       "</div>"
      ],
      "text/plain": [
       "             Q7_4\n",
       "count  264.000000\n",
       "mean     0.765152\n",
       "std      0.701545\n",
       "min      0.000000\n",
       "25%      0.000000\n",
       "50%      1.000000\n",
       "75%      1.000000\n",
       "max      5.000000"
      ]
     },
     "execution_count": 33,
     "metadata": {},
     "output_type": "execute_result"
    }
   ],
   "source": [
    "df_pt_visart = df[df['Q6_4'] > 0][['Q0_DBN', 'Q7_4']]\n",
    "df_pt_visart.describe()"
   ]
  },
  {
   "cell_type": "code",
   "execution_count": 34,
   "metadata": {},
   "outputs": [],
   "source": [
    "temp = df_pt_visart.groupby('Q7_4').count()\n",
    "new_index = pd.Index(np.arange(6))\n",
    "temp = temp.reindex(new_index).fillna(0)"
   ]
  },
  {
   "cell_type": "code",
   "execution_count": 35,
   "metadata": {
    "scrolled": false
   },
   "outputs": [
    {
     "data": {
      "text/plain": [
       "Text(0.5,1,'Number of Part-Time Certified Visual Arts Teachers Teaching Art 100% of Their Schedule')"
      ]
     },
     "execution_count": 35,
     "metadata": {},
     "output_type": "execute_result"
    },
    {
     "data": {
      "image/png": "[encoded data removed]",
      "text/plain": [
       "<Figure size 432x288 with 1 Axes>"
      ]
     },
     "metadata": {},
     "output_type": "display_data"
    }
   ],
   "source": [
    "fig = plt.figure()\n",
    "ax = fig.add_subplot()\n",
    "plt.bar(np.arange(6), temp['Q0_DBN'])\n",
    "plt.title('Number of Part-Time Certified Visual Arts Teachers Teaching Art 100% of Their Schedule')"
   ]
  },
  {
   "cell_type": "markdown",
   "metadata": {},
   "source": [
    "### Q8 Arts Facilities"
   ]
  },
  {
   "cell_type": "code",
   "execution_count": 36,
   "metadata": {},
   "outputs": [
    {
     "data": {
      "text/html": [
       "<div>\n",
       "<style scoped>\n",
       "    .dataframe tbody tr th:only-of-type {\n",
       "        vertical-align: middle;\n",
       "    }\n",
       "\n",
       "    .dataframe tbody tr th {\n",
       "        vertical-align: top;\n",
       "    }\n",
       "\n",
       "    .dataframe thead th {\n",
       "        text-align: right;\n",
       "    }\n",
       "</style>\n",
       "<table border=\"1\" class=\"dataframe\">\n",
       "  <thead>\n",
       "    <tr style=\"text-align: right;\">\n",
       "      <th></th>\n",
       "      <th>Q0_DBN</th>\n",
       "      <th>Q8_R1_C1</th>\n",
       "      <th>Q8_R1_C2</th>\n",
       "      <th>Q8_R2_C1</th>\n",
       "      <th>Q8_R2_C2</th>\n",
       "      <th>Q8_R3_C1</th>\n",
       "      <th>Q8_R3_C2</th>\n",
       "      <th>Q8_R4_C1</th>\n",
       "      <th>Q8_R4_C2</th>\n",
       "      <th>Q8_R5_C1</th>\n",
       "      <th>Q8_R5_C2</th>\n",
       "    </tr>\n",
       "  </thead>\n",
       "  <tbody>\n",
       "    <tr>\n",
       "      <th>0</th>\n",
       "      <td>01M015</td>\n",
       "      <td>0.0</td>\n",
       "      <td>1.0</td>\n",
       "      <td>1.0</td>\n",
       "      <td>1.0</td>\n",
       "      <td>1.0</td>\n",
       "      <td>4.0</td>\n",
       "      <td>1.0</td>\n",
       "      <td>11.0</td>\n",
       "      <td>1.0</td>\n",
       "      <td>11.0</td>\n",
       "    </tr>\n",
       "    <tr>\n",
       "      <th>1</th>\n",
       "      <td>01M019</td>\n",
       "      <td>0.0</td>\n",
       "      <td>2.0</td>\n",
       "      <td>1.0</td>\n",
       "      <td>4.0</td>\n",
       "      <td>1.0</td>\n",
       "      <td>2.0</td>\n",
       "      <td>0.0</td>\n",
       "      <td>1.0</td>\n",
       "      <td>1.0</td>\n",
       "      <td>1.0</td>\n",
       "    </tr>\n",
       "    <tr>\n",
       "      <th>2</th>\n",
       "      <td>01M020</td>\n",
       "      <td>1.0</td>\n",
       "      <td>2.0</td>\n",
       "      <td>1.0</td>\n",
       "      <td>1.0</td>\n",
       "      <td>0.0</td>\n",
       "      <td>1.0</td>\n",
       "      <td>1.0</td>\n",
       "      <td>2.0</td>\n",
       "      <td>0.0</td>\n",
       "      <td>1.0</td>\n",
       "    </tr>\n",
       "    <tr>\n",
       "      <th>3</th>\n",
       "      <td>01M034</td>\n",
       "      <td>0.0</td>\n",
       "      <td>0.0</td>\n",
       "      <td>0.0</td>\n",
       "      <td>1.0</td>\n",
       "      <td>0.0</td>\n",
       "      <td>0.0</td>\n",
       "      <td>0.0</td>\n",
       "      <td>1.0</td>\n",
       "      <td>0.0</td>\n",
       "      <td>0.0</td>\n",
       "    </tr>\n",
       "    <tr>\n",
       "      <th>4</th>\n",
       "      <td>01M064</td>\n",
       "      <td>0.0</td>\n",
       "      <td>0.0</td>\n",
       "      <td>1.0</td>\n",
       "      <td>0.0</td>\n",
       "      <td>0.0</td>\n",
       "      <td>1.0</td>\n",
       "      <td>1.0</td>\n",
       "      <td>0.0</td>\n",
       "      <td>0.0</td>\n",
       "      <td>0.0</td>\n",
       "    </tr>\n",
       "  </tbody>\n",
       "</table>\n",
       "</div>"
      ],
      "text/plain": [
       "   Q0_DBN  Q8_R1_C1  Q8_R1_C2  Q8_R2_C1  Q8_R2_C2  Q8_R3_C1  Q8_R3_C2  \\\n",
       "0  01M015       0.0       1.0       1.0       1.0       1.0       4.0   \n",
       "1  01M019       0.0       2.0       1.0       4.0       1.0       2.0   \n",
       "2  01M020       1.0       2.0       1.0       1.0       0.0       1.0   \n",
       "3  01M034       0.0       0.0       0.0       1.0       0.0       0.0   \n",
       "4  01M064       0.0       0.0       1.0       0.0       0.0       1.0   \n",
       "\n",
       "   Q8_R4_C1  Q8_R4_C2  Q8_R5_C1  Q8_R5_C2  \n",
       "0       1.0      11.0       1.0      11.0  \n",
       "1       0.0       1.0       1.0       1.0  \n",
       "2       1.0       2.0       0.0       1.0  \n",
       "3       0.0       1.0       0.0       0.0  \n",
       "4       1.0       0.0       0.0       0.0  "
      ]
     },
     "execution_count": 36,
     "metadata": {},
     "output_type": "execute_result"
    }
   ],
   "source": [
    "Q8 = ['Q0_DBN', 'Q8_R1_C1', 'Q8_R1_C2', 'Q8_R2_C1', 'Q8_R2_C2',\n",
    "      'Q8_R3_C1', 'Q8_R3_C2', 'Q8_R4_C1', 'Q8_R4_C2', 'Q8_R5_C1', 'Q8_R5_C2']\n",
    "df_q8 = df[Q8]\n",
    "df_q8.head()"
   ]
  },
  {
   "cell_type": "markdown",
   "metadata": {},
   "source": [
    "More schools failed to enter the number of multi-purpose rooms used in arts education (C2) than the number of rooms dedicated to art (C1)."
   ]
  },
  {
   "cell_type": "code",
   "execution_count": 37,
   "metadata": {},
   "outputs": [
    {
     "data": {
      "text/plain": [
       "Q0_DBN        0\n",
       "Q8_R1_C1     81\n",
       "Q8_R1_C2    154\n",
       "Q8_R2_C1     60\n",
       "Q8_R2_C2    150\n",
       "Q8_R3_C1     85\n",
       "Q8_R3_C2    134\n",
       "Q8_R4_C1     30\n",
       "Q8_R4_C2    164\n",
       "Q8_R5_C1     72\n",
       "Q8_R5_C2    158\n",
       "dtype: int64"
      ]
     },
     "execution_count": 37,
     "metadata": {},
     "output_type": "execute_result"
    }
   ],
   "source": [
    "df_q8.shape[0] - df_q8.count()"
   ]
  },
  {
   "cell_type": "code",
   "execution_count": 38,
   "metadata": {},
   "outputs": [
    {
     "data": {
      "text/plain": [
       "<matplotlib.axes._subplots.AxesSubplot at 0x7fd4cf6334e0>"
      ]
     },
     "execution_count": 38,
     "metadata": {},
     "output_type": "execute_result"
    },
    {
     "data": {
      "image/png": "[encoded data removed]",
      "text/plain": [
       "<Figure size 1800x720 with 2 Axes>"
      ]
     },
     "metadata": {},
     "output_type": "display_data"
    }
   ],
   "source": [
    "msno.matrix(df_q8)"
   ]
  },
  {
   "cell_type": "code",
   "execution_count": 39,
   "metadata": {},
   "outputs": [
    {
     "data": {
      "text/plain": [
       "<matplotlib.axes._subplots.AxesSubplot at 0x7fd4cf674898>"
      ]
     },
     "execution_count": 39,
     "metadata": {},
     "output_type": "execute_result"
    },
    {
     "data": {
      "image/png": "[encoded data removed]",
      "text/plain": [
       "<Figure size 1728x720 with 3 Axes>"
      ]
     },
     "metadata": {},
     "output_type": "display_data"
    }
   ],
   "source": [
    "msno.bar(df_q8)"
   ]
  },
  {
   "cell_type": "markdown",
   "metadata": {},
   "source": [
    "Responding to one C2 question is strongly correlated to responding to the others. C1 responses are less correlated."
   ]
  },
  {
   "cell_type": "code",
   "execution_count": 40,
   "metadata": {
    "scrolled": false
   },
   "outputs": [
    {
     "data": {
      "text/plain": [
       "<matplotlib.axes._subplots.AxesSubplot at 0x7fd4cf50c588>"
      ]
     },
     "execution_count": 40,
     "metadata": {},
     "output_type": "execute_result"
    },
    {
     "data": {
      "image/png": "[encoded data removed]",
      "text/plain": [
       "<Figure size 1440x864 with 1 Axes>"
      ]
     },
     "metadata": {},
     "output_type": "display_data"
    }
   ],
   "source": [
    "msno.heatmap(df_q8)"
   ]
  },
  {
   "cell_type": "markdown",
   "metadata": {},
   "source": [
    "Rooms solely for the arts"
   ]
  },
  {
   "cell_type": "code",
   "execution_count": 41,
   "metadata": {},
   "outputs": [],
   "source": [
    "df_rm_dance = df_q8.groupby('Q8_R1_C1')[['Q0_DBN']].count()\n",
    "df_rm_music = df_q8.groupby('Q8_R2_C1')[['Q0_DBN']].count()\n",
    "df_rm_thtr = df_q8.groupby('Q8_R3_C1')[['Q0_DBN']].count()\n",
    "df_rm_visart = df_q8.groupby('Q8_R4_C1')[['Q0_DBN']].count()\n",
    "df_rm_medart = df_q8.groupby('Q8_R5_C1')[['Q0_DBN']].count()\n",
    "rms = [df_rm_dance, df_rm_music, df_rm_thtr, df_rm_visart, df_rm_medart]"
   ]
  },
  {
   "cell_type": "code",
   "execution_count": 42,
   "metadata": {},
   "outputs": [
    {
     "data": {
      "text/plain": [
       "13.0"
      ]
     },
     "execution_count": 42,
     "metadata": {},
     "output_type": "execute_result"
    }
   ],
   "source": [
    "max_rms = 0\n",
    "for x in rms:\n",
    "    max_rms = max(max_rms, x.index[-1])\n",
    "max_rms"
   ]
  },
  {
   "cell_type": "code",
   "execution_count": 43,
   "metadata": {},
   "outputs": [
    {
     "data": {
      "image/png": "[encoded data removed]",
      "text/plain": [
       "<Figure size 1440x720 with 1 Axes>"
      ]
     },
     "metadata": {},
     "output_type": "display_data"
    }
   ],
   "source": [
    "fig = plt.figure(figsize=(20,10))\n",
    "ax = fig.subplots()\n",
    "ind = np.arange(max_rms+1)\n",
    "width = .15\n",
    "for i,x in enumerate(rms):\n",
    "    new_index = pd.Index(np.arange(max_rms+1))\n",
    "    x = x.reindex(new_index).fillna(0)\n",
    "    ax.bar(ind + i*width, x['Q0_DBN'], width)\n",
    "ax.set_title('Number of Rooms Designed and Used Solely for the Arts')\n",
    "ax.set_xticks(np.arange(max_rms+1)+.25)\n",
    "ax.set_xticklabels(np.arange(max_rms+1))\n",
    "\n",
    "_ = ax.legend(('Dance', 'Music', 'Theater', 'Visual Arts', 'Media Arts'))"
   ]
  },
  {
   "cell_type": "markdown",
   "metadata": {},
   "source": [
    "Multi-purpose rooms"
   ]
  },
  {
   "cell_type": "code",
   "execution_count": 44,
   "metadata": {},
   "outputs": [],
   "source": [
    "df_mp_dance = df_q8.groupby('Q8_R1_C2')[['Q0_DBN']].count()\n",
    "df_mp_music = df_q8.groupby('Q8_R2_C2')[['Q0_DBN']].count()\n",
    "df_mp_thtr = df_q8.groupby('Q8_R3_C2')[['Q0_DBN']].count()\n",
    "df_mp_visart = df_q8.groupby('Q8_R4_C2')[['Q0_DBN']].count()\n",
    "df_mp_medart = df_q8.groupby('Q8_R5_C2')[['Q0_DBN']].count()\n",
    "rms = [df_mp_dance, df_mp_music, df_mp_thtr, df_mp_visart, df_mp_medart]"
   ]
  },
  {
   "cell_type": "code",
   "execution_count": 45,
   "metadata": {},
   "outputs": [
    {
     "data": {
      "text/plain": [
       "25.0"
      ]
     },
     "execution_count": 45,
     "metadata": {},
     "output_type": "execute_result"
    }
   ],
   "source": [
    "max_rms = 0\n",
    "for x in rms:\n",
    "    max_rms = max(max_rms, x.index[-1])\n",
    "max_rms"
   ]
  },
  {
   "cell_type": "code",
   "execution_count": 46,
   "metadata": {},
   "outputs": [
    {
     "data": {
      "image/png": "[encoded data removed]",
      "text/plain": [
       "<Figure size 1440x720 with 1 Axes>"
      ]
     },
     "metadata": {},
     "output_type": "display_data"
    }
   ],
   "source": [
    "fig = plt.figure(figsize=(20,10))\n",
    "ax = fig.subplots()\n",
    "ind = np.arange(max_rms+1)\n",
    "width = .15\n",
    "for i,x in enumerate(rms):\n",
    "    new_index = pd.Index(np.arange(max_rms+1))\n",
    "    x = x.reindex(new_index).fillna(0)\n",
    "    ax.bar(ind + i*width, x['Q0_DBN'], width)\n",
    "ax.set_title('Number of Multi-Purpose or General Education Classrooms Used for Arts Education')\n",
    "ax.set_xticks(np.arange(max_rms+1)+.25)\n",
    "ax.set_xticklabels(np.arange(max_rms+1))\n",
    "\n",
    "_ = ax.legend(('Dance', 'Music', 'Theater', 'Visual Arts', 'Media Arts'))"
   ]
  },
  {
   "cell_type": "markdown",
   "metadata": {},
   "source": [
    "I wonder if 25 is a funnel point for schools estimating the number of rooms they devote to the arts."
   ]
  },
  {
   "cell_type": "markdown",
   "metadata": {},
   "source": [
    "**TODO** Plot proportions of schools devoting rooms to art  \n",
    "Identify schools devoting many rooms to art"
   ]
  },
  {
   "cell_type": "markdown",
   "metadata": {},
   "source": [
    "### Q9 Technology Tools"
   ]
  },
  {
   "cell_type": "code",
   "execution_count": 47,
   "metadata": {},
   "outputs": [],
   "source": [
    "tools_list = ['Animation Software', 'Color Printers', 'Darkroom and Eqpmnt', 'Digital Drawing Tablets', 'Digital Still Cameras', 'Digital Video Cameras', 'Digital Video Editing Software', 'DVD Player/Recorder', 'Interactive Distance Exchange Labs', 'iPad/iPad mini/iPod', 'Laptop', 'Lighting Eqpmnt', 'MIDI Keyboards', 'Music Editing Software', 'Photo Editing Software', 'Scanners', 'Smartboard', 'Sound Eqpmnt', 'Still 35mm Film Cameras', 'Tablet, non-iPad', 'TV Studio', 'Video Projector']"
   ]
  },
  {
   "cell_type": "code",
   "execution_count": 48,
   "metadata": {},
   "outputs": [],
   "source": [
    "tools = {'Q9_1': 'Animation Software',\n",
    "         'Q9_2': 'Color Printers',\n",
    "         'Q9_3': 'Darkroom and Eqpmnt',\n",
    "         'Q9_4': 'Digital Drawing Tablets',\n",
    "         'Q9_5': 'Digital Still Cameras',\n",
    "         'Q9_6': 'Digital Video Cameras',\n",
    "         'Q9_7': 'Digital Video Editing Software',\n",
    "         'Q9_8': 'DVD Player/Recorder',\n",
    "         'Q9_9': 'Interactive Distance Exchange Labs',\n",
    "         'Q9_10': 'iPad/iPad mini/iPod',\n",
    "         'Q9_11': 'Laptop',\n",
    "         'Q9_12': 'Lighting Eqpmnt',\n",
    "         'Q9_13': 'MIDI Keyboards',\n",
    "         'Q9_14': 'Music Editing Software',\n",
    "         'Q9_15': 'Photo Editing Software',\n",
    "         'Q9_16': 'Scanners',\n",
    "         'Q9_17': 'Smartboard',\n",
    "         'Q9_18': 'Sound Eqpmnt',\n",
    "         'Q9_19': 'Still 35mm Film Cameras',\n",
    "         'Q9_20': 'Tablet, non-iPad',\n",
    "         'Q9_21': 'TV Studio',\n",
    "         'Q9_22': 'Video Projector'}"
   ]
  },
  {
   "cell_type": "code",
   "execution_count": 49,
   "metadata": {},
   "outputs": [
    {
     "name": "stderr",
     "output_type": "stream",
     "text": [
      "/home/eric/anaconda3/lib/python3.6/site-packages/pandas/core/frame.py:3778: SettingWithCopyWarning: \n",
      "A value is trying to be set on a copy of a slice from a DataFrame\n",
      "\n",
      "See the caveats in the documentation: http://pandas.pydata.org/pandas-docs/stable/indexing.html#indexing-view-versus-copy\n",
      "  return super(DataFrame, self).rename(**kwargs)\n"
     ]
    },
    {
     "data": {
      "text/html": [
       "<div>\n",
       "<style scoped>\n",
       "    .dataframe tbody tr th:only-of-type {\n",
       "        vertical-align: middle;\n",
       "    }\n",
       "\n",
       "    .dataframe tbody tr th {\n",
       "        vertical-align: top;\n",
       "    }\n",
       "\n",
       "    .dataframe thead th {\n",
       "        text-align: right;\n",
       "    }\n",
       "</style>\n",
       "<table border=\"1\" class=\"dataframe\">\n",
       "  <thead>\n",
       "    <tr style=\"text-align: right;\">\n",
       "      <th></th>\n",
       "      <th>Animation Software</th>\n",
       "      <th>Color Printers</th>\n",
       "      <th>Darkroom and Eqpmnt</th>\n",
       "      <th>Digital Drawing Tablets</th>\n",
       "      <th>Digital Still Cameras</th>\n",
       "      <th>Digital Video Cameras</th>\n",
       "      <th>Digital Video Editing Software</th>\n",
       "      <th>DVD Player/Recorder</th>\n",
       "      <th>Interactive Distance Exchange Labs</th>\n",
       "      <th>iPad/iPad mini/iPod</th>\n",
       "      <th>...</th>\n",
       "      <th>MIDI Keyboards</th>\n",
       "      <th>Music Editing Software</th>\n",
       "      <th>Photo Editing Software</th>\n",
       "      <th>Scanners</th>\n",
       "      <th>Smartboard</th>\n",
       "      <th>Sound Eqpmnt</th>\n",
       "      <th>Still 35mm Film Cameras</th>\n",
       "      <th>Tablet, non-iPad</th>\n",
       "      <th>TV Studio</th>\n",
       "      <th>Video Projector</th>\n",
       "    </tr>\n",
       "  </thead>\n",
       "  <tbody>\n",
       "    <tr>\n",
       "      <th>0</th>\n",
       "      <td>1</td>\n",
       "      <td>1</td>\n",
       "      <td>0</td>\n",
       "      <td>0</td>\n",
       "      <td>1</td>\n",
       "      <td>1</td>\n",
       "      <td>1</td>\n",
       "      <td>1</td>\n",
       "      <td>1</td>\n",
       "      <td>1</td>\n",
       "      <td>...</td>\n",
       "      <td>0</td>\n",
       "      <td>0</td>\n",
       "      <td>0</td>\n",
       "      <td>0</td>\n",
       "      <td>1</td>\n",
       "      <td>1</td>\n",
       "      <td>1</td>\n",
       "      <td>1</td>\n",
       "      <td>0</td>\n",
       "      <td>1</td>\n",
       "    </tr>\n",
       "    <tr>\n",
       "      <th>1</th>\n",
       "      <td>0</td>\n",
       "      <td>0</td>\n",
       "      <td>0</td>\n",
       "      <td>0</td>\n",
       "      <td>0</td>\n",
       "      <td>0</td>\n",
       "      <td>0</td>\n",
       "      <td>1</td>\n",
       "      <td>0</td>\n",
       "      <td>1</td>\n",
       "      <td>...</td>\n",
       "      <td>0</td>\n",
       "      <td>0</td>\n",
       "      <td>0</td>\n",
       "      <td>1</td>\n",
       "      <td>1</td>\n",
       "      <td>0</td>\n",
       "      <td>0</td>\n",
       "      <td>1</td>\n",
       "      <td>0</td>\n",
       "      <td>0</td>\n",
       "    </tr>\n",
       "    <tr>\n",
       "      <th>2</th>\n",
       "      <td>1</td>\n",
       "      <td>1</td>\n",
       "      <td>0</td>\n",
       "      <td>1</td>\n",
       "      <td>1</td>\n",
       "      <td>1</td>\n",
       "      <td>0</td>\n",
       "      <td>0</td>\n",
       "      <td>0</td>\n",
       "      <td>1</td>\n",
       "      <td>...</td>\n",
       "      <td>0</td>\n",
       "      <td>0</td>\n",
       "      <td>0</td>\n",
       "      <td>0</td>\n",
       "      <td>1</td>\n",
       "      <td>1</td>\n",
       "      <td>0</td>\n",
       "      <td>1</td>\n",
       "      <td>0</td>\n",
       "      <td>0</td>\n",
       "    </tr>\n",
       "    <tr>\n",
       "      <th>3</th>\n",
       "      <td>0</td>\n",
       "      <td>0</td>\n",
       "      <td>0</td>\n",
       "      <td>0</td>\n",
       "      <td>0</td>\n",
       "      <td>0</td>\n",
       "      <td>0</td>\n",
       "      <td>0</td>\n",
       "      <td>0</td>\n",
       "      <td>0</td>\n",
       "      <td>...</td>\n",
       "      <td>0</td>\n",
       "      <td>0</td>\n",
       "      <td>0</td>\n",
       "      <td>0</td>\n",
       "      <td>0</td>\n",
       "      <td>0</td>\n",
       "      <td>0</td>\n",
       "      <td>0</td>\n",
       "      <td>0</td>\n",
       "      <td>0</td>\n",
       "    </tr>\n",
       "    <tr>\n",
       "      <th>4</th>\n",
       "      <td>0</td>\n",
       "      <td>0</td>\n",
       "      <td>0</td>\n",
       "      <td>0</td>\n",
       "      <td>0</td>\n",
       "      <td>0</td>\n",
       "      <td>0</td>\n",
       "      <td>0</td>\n",
       "      <td>0</td>\n",
       "      <td>0</td>\n",
       "      <td>...</td>\n",
       "      <td>0</td>\n",
       "      <td>0</td>\n",
       "      <td>0</td>\n",
       "      <td>0</td>\n",
       "      <td>1</td>\n",
       "      <td>0</td>\n",
       "      <td>0</td>\n",
       "      <td>0</td>\n",
       "      <td>0</td>\n",
       "      <td>0</td>\n",
       "    </tr>\n",
       "  </tbody>\n",
       "</table>\n",
       "<p>5 rows × 22 columns</p>\n",
       "</div>"
      ],
      "text/plain": [
       "   Animation Software  Color Printers  Darkroom and Eqpmnt  \\\n",
       "0                   1               1                    0   \n",
       "1                   0               0                    0   \n",
       "2                   1               1                    0   \n",
       "3                   0               0                    0   \n",
       "4                   0               0                    0   \n",
       "\n",
       "   Digital Drawing Tablets  Digital Still Cameras  Digital Video Cameras  \\\n",
       "0                        0                      1                      1   \n",
       "1                        0                      0                      0   \n",
       "2                        1                      1                      1   \n",
       "3                        0                      0                      0   \n",
       "4                        0                      0                      0   \n",
       "\n",
       "   Digital Video Editing Software  DVD Player/Recorder  \\\n",
       "0                               1                    1   \n",
       "1                               0                    1   \n",
       "2                               0                    0   \n",
       "3                               0                    0   \n",
       "4                               0                    0   \n",
       "\n",
       "   Interactive Distance Exchange Labs  iPad/iPad mini/iPod       ...         \\\n",
       "0                                   1                    1       ...          \n",
       "1                                   0                    1       ...          \n",
       "2                                   0                    1       ...          \n",
       "3                                   0                    0       ...          \n",
       "4                                   0                    0       ...          \n",
       "\n",
       "   MIDI Keyboards  Music Editing Software  Photo Editing Software  Scanners  \\\n",
       "0               0                       0                       0         0   \n",
       "1               0                       0                       0         1   \n",
       "2               0                       0                       0         0   \n",
       "3               0                       0                       0         0   \n",
       "4               0                       0                       0         0   \n",
       "\n",
       "   Smartboard  Sound Eqpmnt  Still 35mm Film Cameras  Tablet, non-iPad  \\\n",
       "0           1             1                        1                 1   \n",
       "1           1             0                        0                 1   \n",
       "2           1             1                        0                 1   \n",
       "3           0             0                        0                 0   \n",
       "4           1             0                        0                 0   \n",
       "\n",
       "   TV Studio  Video Projector  \n",
       "0          0                1  \n",
       "1          0                0  \n",
       "2          0                0  \n",
       "3          0                0  \n",
       "4          0                0  \n",
       "\n",
       "[5 rows x 22 columns]"
      ]
     },
     "execution_count": 49,
     "metadata": {},
     "output_type": "execute_result"
    }
   ],
   "source": [
    "Q9 = [feature for feature in df.columns if feature.startswith('Q9')]\n",
    "df_q9 = df[Q9]\n",
    "df_q9.rename(index=str, columns=tools, inplace=True)\n",
    "df_q9.head()"
   ]
  },
  {
   "cell_type": "markdown",
   "metadata": {},
   "source": [
    "These were checkboxes so there is no opportunity for missing values."
   ]
  },
  {
   "cell_type": "code",
   "execution_count": 50,
   "metadata": {},
   "outputs": [],
   "source": [
    "temp = df_q9.sum().sort_values(ascending=True)"
   ]
  },
  {
   "cell_type": "code",
   "execution_count": 51,
   "metadata": {},
   "outputs": [
    {
     "data": {
      "image/png": "[encoded data removed]",
      "text/plain": [
       "<Figure size 720x720 with 1 Axes>"
      ]
     },
     "metadata": {},
     "output_type": "display_data"
    }
   ],
   "source": [
    "fig = plt.figure(figsize=(10,10))\n",
    "ax = fig.subplots()\n",
    "ax.barh(list(temp.index), temp)\n",
    "ax.set_title('Frequency of Technology Tool Availability')\n",
    "plt.show()"
   ]
  },
  {
   "cell_type": "markdown",
   "metadata": {},
   "source": [
    "Speaking from experience, Smartboards are **not** an artistic tool so much as an oppressive remnant of the mid-2000s.  \n",
    "I cannot take the frequency of laptops, iPads, cameras at face value, since the actual availability of these items to students is what matters. For example, if a school of 1000 has 10 laptops that is not worth very much.  \n",
    "I would have hoped that software (photo editing, digital video editing, etc) would have been as available as laptops are."
   ]
  },
  {
   "cell_type": "markdown",
   "metadata": {},
   "source": [
    "### Q10 Arts Disciplines Offered"
   ]
  },
  {
   "cell_type": "markdown",
   "metadata": {},
   "source": [
    "These questions were only shown to District 75 schools."
   ]
  },
  {
   "cell_type": "code",
   "execution_count": 52,
   "metadata": {},
   "outputs": [
    {
     "data": {
      "text/html": [
       "<div>\n",
       "<style scoped>\n",
       "    .dataframe tbody tr th:only-of-type {\n",
       "        vertical-align: middle;\n",
       "    }\n",
       "\n",
       "    .dataframe tbody tr th {\n",
       "        vertical-align: top;\n",
       "    }\n",
       "\n",
       "    .dataframe thead th {\n",
       "        text-align: right;\n",
       "    }\n",
       "</style>\n",
       "<table border=\"1\" class=\"dataframe\">\n",
       "  <thead>\n",
       "    <tr style=\"text-align: right;\">\n",
       "      <th></th>\n",
       "      <th>Q10_R1_C1</th>\n",
       "      <th>Q10_R1_C2</th>\n",
       "      <th>Q10_R2_C1</th>\n",
       "      <th>Q10_R2_C2</th>\n",
       "      <th>Q10_R3_C1</th>\n",
       "      <th>Q10_R3_C2</th>\n",
       "      <th>Q10_R4_C1</th>\n",
       "      <th>Q10_R4_C2</th>\n",
       "      <th>Q10_R5_C1</th>\n",
       "      <th>Q10_R5_C2</th>\n",
       "    </tr>\n",
       "  </thead>\n",
       "  <tbody>\n",
       "    <tr>\n",
       "      <th>0</th>\n",
       "      <td>0</td>\n",
       "      <td>0</td>\n",
       "      <td>0</td>\n",
       "      <td>0</td>\n",
       "      <td>0</td>\n",
       "      <td>0</td>\n",
       "      <td>0</td>\n",
       "      <td>0</td>\n",
       "      <td>0</td>\n",
       "      <td>0</td>\n",
       "    </tr>\n",
       "    <tr>\n",
       "      <th>1</th>\n",
       "      <td>0</td>\n",
       "      <td>0</td>\n",
       "      <td>0</td>\n",
       "      <td>0</td>\n",
       "      <td>0</td>\n",
       "      <td>0</td>\n",
       "      <td>0</td>\n",
       "      <td>0</td>\n",
       "      <td>0</td>\n",
       "      <td>0</td>\n",
       "    </tr>\n",
       "    <tr>\n",
       "      <th>2</th>\n",
       "      <td>0</td>\n",
       "      <td>0</td>\n",
       "      <td>0</td>\n",
       "      <td>0</td>\n",
       "      <td>0</td>\n",
       "      <td>0</td>\n",
       "      <td>0</td>\n",
       "      <td>0</td>\n",
       "      <td>0</td>\n",
       "      <td>0</td>\n",
       "    </tr>\n",
       "    <tr>\n",
       "      <th>3</th>\n",
       "      <td>0</td>\n",
       "      <td>0</td>\n",
       "      <td>0</td>\n",
       "      <td>0</td>\n",
       "      <td>0</td>\n",
       "      <td>0</td>\n",
       "      <td>0</td>\n",
       "      <td>0</td>\n",
       "      <td>0</td>\n",
       "      <td>0</td>\n",
       "    </tr>\n",
       "    <tr>\n",
       "      <th>4</th>\n",
       "      <td>0</td>\n",
       "      <td>0</td>\n",
       "      <td>0</td>\n",
       "      <td>0</td>\n",
       "      <td>0</td>\n",
       "      <td>0</td>\n",
       "      <td>0</td>\n",
       "      <td>0</td>\n",
       "      <td>0</td>\n",
       "      <td>0</td>\n",
       "    </tr>\n",
       "  </tbody>\n",
       "</table>\n",
       "</div>"
      ],
      "text/plain": [
       "   Q10_R1_C1  Q10_R1_C2  Q10_R2_C1  Q10_R2_C2  Q10_R3_C1  Q10_R3_C2  \\\n",
       "0          0          0          0          0          0          0   \n",
       "1          0          0          0          0          0          0   \n",
       "2          0          0          0          0          0          0   \n",
       "3          0          0          0          0          0          0   \n",
       "4          0          0          0          0          0          0   \n",
       "\n",
       "   Q10_R4_C1  Q10_R4_C2  Q10_R5_C1  Q10_R5_C2  \n",
       "0          0          0          0          0  \n",
       "1          0          0          0          0  \n",
       "2          0          0          0          0  \n",
       "3          0          0          0          0  \n",
       "4          0          0          0          0  "
      ]
     },
     "execution_count": 52,
     "metadata": {},
     "output_type": "execute_result"
    }
   ],
   "source": [
    "Q10 = ['Q10_R1_C1', 'Q10_R1_C2', 'Q10_R2_C1', 'Q10_R2_C2', 'Q10_R3_C1', 'Q10_R3_C2', 'Q10_R4_C1', 'Q10_R4_C2', 'Q10_R5_C1', 'Q10_R5_C2']\n",
    "df_q10 = df[Q10]\n",
    "df_q10.head()"
   ]
  },
  {
   "cell_type": "markdown",
   "metadata": {},
   "source": [
    "Checking that all district 75 schools responded to every question."
   ]
  },
  {
   "cell_type": "code",
   "execution_count": 53,
   "metadata": {},
   "outputs": [
    {
     "name": "stdout",
     "output_type": "stream",
     "text": [
      "44\n",
      "44\n",
      "44\n",
      "44\n",
      "44\n"
     ]
    }
   ],
   "source": [
    "for i in range(5):\n",
    "    print(df_q10[df_q10.columns[2*i:2*i+2]].sum().sum())"
   ]
  },
  {
   "cell_type": "markdown",
   "metadata": {},
   "source": [
    "District 75 provides specialized support for students with educational challenges, such as: Autism, congnitive delays, emotional disturbances, sensory impairments.  \n",
    "District 75 schools are located across NYC and sometimes co-located with other schools. They have lower student to faculty ratios, no more than 12:1, according to [NYC Schools](https://www.schools.nyc.gov/special-education/school-settings/district-75)."
   ]
  },
  {
   "cell_type": "code",
   "execution_count": 54,
   "metadata": {},
   "outputs": [
    {
     "name": "stdout",
     "output_type": "stream",
     "text": [
      "Q10_R1_C1    29\n",
      "Q10_R1_C2    15\n",
      "dtype: int64\n",
      "Q10_R2_C1    12\n",
      "Q10_R2_C2    32\n",
      "dtype: int64\n",
      "Q10_R3_C1    38\n",
      "Q10_R3_C2     6\n",
      "dtype: int64\n",
      "Q10_R4_C1    27\n",
      "Q10_R4_C2    17\n",
      "dtype: int64\n",
      "Q10_R5_C1    44\n",
      "Q10_R5_C2     0\n",
      "dtype: int64\n"
     ]
    }
   ],
   "source": [
    "for i in range(5):\n",
    "    print(df_q10[Q10[2*i:2*i+2]].sum())"
   ]
  },
  {
   "cell_type": "markdown",
   "metadata": {},
   "source": [
    "Perhaps including the \"No\" responses is superfluous."
   ]
  },
  {
   "cell_type": "code",
   "execution_count": 55,
   "metadata": {},
   "outputs": [
    {
     "data": {
      "image/png": "[encoded data removed]",
      "text/plain": [
       "<Figure size 1440x720 with 1 Axes>"
      ]
     },
     "metadata": {},
     "output_type": "display_data"
    }
   ],
   "source": [
    "fig = plt.figure(figsize=(20,10))\n",
    "ax = fig.subplots()\n",
    "ind = np.arange(2)\n",
    "width = .15\n",
    "for i in range(5):\n",
    "    temp = df_q10[Q10[2*i:2*i+2]].sum()\n",
    "    ax.bar(ind + i*width, temp, width)\n",
    "\n",
    "ax.set_title('Do You Offer the Following Arts Discipline?')\n",
    "ax.set_xticks(np.arange(2)+.3)\n",
    "ax.set_xticklabels(['Yes', 'No'])\n",
    "_ = ax.legend(('Dance', 'Film', 'Music', 'Theater', 'Visual Arts'))"
   ]
  },
  {
   "cell_type": "markdown",
   "metadata": {},
   "source": [
    "If \"Visual Arts\" refers to painting and drawing classes it is great that these are available to everyone, but I can imagine that this is the least resource-intensive discipline to offer.  \n",
    "It is hard for me to not by cynical about the quality of any of these offerings, but particularly for district 75 schools.  \n",
    "**TODO** How many of the schools in district 75 are colocated with schools that offer their students art resources? Is there some way to find this in the other questions?"
   ]
  },
  {
   "cell_type": "markdown",
   "metadata": {},
   "source": [
    "### Q11 Pre-K Instruction"
   ]
  },
  {
   "cell_type": "markdown",
   "metadata": {},
   "source": [
    "Shown to schools that offer Pre-K.  \n",
    "Schools can select multiple options for each discipline.  \n",
    "**TODO** Separate those schools with multiple instructor types from those with one or none. At the moment I am just taking a sum of all instructor types, and thus could be double-counting."
   ]
  },
  {
   "cell_type": "code",
   "execution_count": 56,
   "metadata": {},
   "outputs": [
    {
     "data": {
      "text/html": [
       "<div>\n",
       "<style scoped>\n",
       "    .dataframe tbody tr th:only-of-type {\n",
       "        vertical-align: middle;\n",
       "    }\n",
       "\n",
       "    .dataframe tbody tr th {\n",
       "        vertical-align: top;\n",
       "    }\n",
       "\n",
       "    .dataframe thead th {\n",
       "        text-align: right;\n",
       "    }\n",
       "</style>\n",
       "<table border=\"1\" class=\"dataframe\">\n",
       "  <thead>\n",
       "    <tr style=\"text-align: right;\">\n",
       "      <th></th>\n",
       "      <th>Q11_R1_C1</th>\n",
       "      <th>Q11_R1_C2</th>\n",
       "      <th>Q11_R1_C3</th>\n",
       "      <th>Q11_R1_C4</th>\n",
       "      <th>Q11_R2_C1</th>\n",
       "      <th>Q11_R2_C2</th>\n",
       "      <th>Q11_R2_C3</th>\n",
       "      <th>Q11_R2_C4</th>\n",
       "      <th>Q11_R3_C1</th>\n",
       "      <th>Q11_R3_C2</th>\n",
       "      <th>Q11_R3_C3</th>\n",
       "      <th>Q11_R3_C4</th>\n",
       "      <th>Q11_R4_C1</th>\n",
       "      <th>Q11_R4_C2</th>\n",
       "      <th>Q11_R4_C3</th>\n",
       "      <th>Q11_R4_C4</th>\n",
       "    </tr>\n",
       "  </thead>\n",
       "  <tbody>\n",
       "    <tr>\n",
       "      <th>0</th>\n",
       "      <td>1</td>\n",
       "      <td>1</td>\n",
       "      <td>1</td>\n",
       "      <td>0</td>\n",
       "      <td>1</td>\n",
       "      <td>1</td>\n",
       "      <td>1</td>\n",
       "      <td>0</td>\n",
       "      <td>1</td>\n",
       "      <td>1</td>\n",
       "      <td>0</td>\n",
       "      <td>0</td>\n",
       "      <td>1</td>\n",
       "      <td>1</td>\n",
       "      <td>0</td>\n",
       "      <td>0</td>\n",
       "    </tr>\n",
       "    <tr>\n",
       "      <th>1</th>\n",
       "      <td>0</td>\n",
       "      <td>1</td>\n",
       "      <td>1</td>\n",
       "      <td>0</td>\n",
       "      <td>0</td>\n",
       "      <td>1</td>\n",
       "      <td>1</td>\n",
       "      <td>0</td>\n",
       "      <td>0</td>\n",
       "      <td>1</td>\n",
       "      <td>1</td>\n",
       "      <td>0</td>\n",
       "      <td>0</td>\n",
       "      <td>1</td>\n",
       "      <td>1</td>\n",
       "      <td>0</td>\n",
       "    </tr>\n",
       "    <tr>\n",
       "      <th>2</th>\n",
       "      <td>0</td>\n",
       "      <td>1</td>\n",
       "      <td>0</td>\n",
       "      <td>0</td>\n",
       "      <td>1</td>\n",
       "      <td>1</td>\n",
       "      <td>0</td>\n",
       "      <td>0</td>\n",
       "      <td>0</td>\n",
       "      <td>0</td>\n",
       "      <td>0</td>\n",
       "      <td>1</td>\n",
       "      <td>1</td>\n",
       "      <td>1</td>\n",
       "      <td>0</td>\n",
       "      <td>0</td>\n",
       "    </tr>\n",
       "    <tr>\n",
       "      <th>3</th>\n",
       "      <td>0</td>\n",
       "      <td>0</td>\n",
       "      <td>0</td>\n",
       "      <td>1</td>\n",
       "      <td>1</td>\n",
       "      <td>0</td>\n",
       "      <td>1</td>\n",
       "      <td>0</td>\n",
       "      <td>0</td>\n",
       "      <td>0</td>\n",
       "      <td>0</td>\n",
       "      <td>1</td>\n",
       "      <td>1</td>\n",
       "      <td>1</td>\n",
       "      <td>0</td>\n",
       "      <td>0</td>\n",
       "    </tr>\n",
       "    <tr>\n",
       "      <th>4</th>\n",
       "      <td>0</td>\n",
       "      <td>1</td>\n",
       "      <td>0</td>\n",
       "      <td>0</td>\n",
       "      <td>1</td>\n",
       "      <td>0</td>\n",
       "      <td>0</td>\n",
       "      <td>0</td>\n",
       "      <td>0</td>\n",
       "      <td>1</td>\n",
       "      <td>0</td>\n",
       "      <td>0</td>\n",
       "      <td>1</td>\n",
       "      <td>0</td>\n",
       "      <td>0</td>\n",
       "      <td>0</td>\n",
       "    </tr>\n",
       "  </tbody>\n",
       "</table>\n",
       "</div>"
      ],
      "text/plain": [
       "   Q11_R1_C1  Q11_R1_C2  Q11_R1_C3  Q11_R1_C4  Q11_R2_C1  Q11_R2_C2  \\\n",
       "0          1          1          1          0          1          1   \n",
       "1          0          1          1          0          0          1   \n",
       "2          0          1          0          0          1          1   \n",
       "3          0          0          0          1          1          0   \n",
       "4          0          1          0          0          1          0   \n",
       "\n",
       "   Q11_R2_C3  Q11_R2_C4  Q11_R3_C1  Q11_R3_C2  Q11_R3_C3  Q11_R3_C4  \\\n",
       "0          1          0          1          1          0          0   \n",
       "1          1          0          0          1          1          0   \n",
       "2          0          0          0          0          0          1   \n",
       "3          1          0          0          0          0          1   \n",
       "4          0          0          0          1          0          0   \n",
       "\n",
       "   Q11_R4_C1  Q11_R4_C2  Q11_R4_C3  Q11_R4_C4  \n",
       "0          1          1          0          0  \n",
       "1          0          1          1          0  \n",
       "2          1          1          0          0  \n",
       "3          1          1          0          0  \n",
       "4          1          0          0          0  "
      ]
     },
     "execution_count": 56,
     "metadata": {},
     "output_type": "execute_result"
    }
   ],
   "source": [
    "Q11 = [feature for feature in df.columns if feature.startswith('Q11')]\n",
    "df_q11 = df[Q11]\n",
    "df_q11.head()"
   ]
  },
  {
   "cell_type": "code",
   "execution_count": 57,
   "metadata": {},
   "outputs": [
    {
     "name": "stdout",
     "output_type": "stream",
     "text": [
      "Number of schools selecting some option for Dance: 662\n",
      "Number of schools selecting some option for Music: 757\n",
      "Number of schools selecting some option for Theater: 595\n",
      "Number of schools selecting some option for Visual Arts: 800\n"
     ]
    }
   ],
   "source": [
    "disciplines = ['Dance', 'Music', 'Theater', 'Visual Arts']\n",
    "for i in range(4):\n",
    "    print('Number of schools selecting some option for {}: {}'.format(disciplines[i], df_q11[Q11[4*i:4*i+4]].sum().sum()))"
   ]
  },
  {
   "cell_type": "code",
   "execution_count": 58,
   "metadata": {},
   "outputs": [
    {
     "data": {
      "image/png": "[encoded data removed]",
      "text/plain": [
       "<Figure size 720x360 with 1 Axes>"
      ]
     },
     "metadata": {},
     "output_type": "display_data"
    }
   ],
   "source": [
    "fig = plt.figure(figsize=(10,5))\n",
    "ax = fig.subplots()\n",
    "ind = np.arange(4)\n",
    "width = .2\n",
    "for i in range(4):\n",
    "    temp = df_q11[Q11[4*i:4*i+4]].sum()\n",
    "    ax.bar(ind + i*width, temp, width)\n",
    "\n",
    "ax.set_title('How Is Arts Education Delivered?')\n",
    "ax.set_xticks(np.arange(4)+.3)\n",
    "ax.set_xticklabels(['School-Based Art Teacher', 'Classroom Teacher', 'Cultural Arts Organization', 'Instruction Not Provided'])\n",
    "_ = ax.legend(('Dance', 'Music', 'Theater', 'Visual Arts'))"
   ]
  },
  {
   "cell_type": "markdown",
   "metadata": {},
   "source": [
    "Dance and theater instruction is not often provided by a school-based teacher (for pre-K students, at least).  \n",
    "Could cultural organizations step in to close gaps in artistic opportunities? Should that be necessary?"
   ]
  },
  {
   "cell_type": "markdown",
   "metadata": {},
   "source": [
    "### Q12 Arts Instructional Hours by Cultural Arts Organizations, Kindergarten"
   ]
  },
  {
   "cell_type": "markdown",
   "metadata": {},
   "source": [
    "Shown to schools offering Kindergarten.  \n",
    "Total number of instructional hours across all kindergarten classes, so this metric will be weighted in favor of those schools with many classes. This could have a strange effect, since schools with many students but poor funding do not necessarily have as many classes as schools with fewer students but the resources to have a lower teacher to student ratio."
   ]
  },
  {
   "cell_type": "code",
   "execution_count": 59,
   "metadata": {},
   "outputs": [
    {
     "data": {
      "text/html": [
       "<div>\n",
       "<style scoped>\n",
       "    .dataframe tbody tr th:only-of-type {\n",
       "        vertical-align: middle;\n",
       "    }\n",
       "\n",
       "    .dataframe tbody tr th {\n",
       "        vertical-align: top;\n",
       "    }\n",
       "\n",
       "    .dataframe thead th {\n",
       "        text-align: right;\n",
       "    }\n",
       "</style>\n",
       "<table border=\"1\" class=\"dataframe\">\n",
       "  <thead>\n",
       "    <tr style=\"text-align: right;\">\n",
       "      <th></th>\n",
       "      <th>Q12_C1_R1</th>\n",
       "      <th>Q12_C1_R2</th>\n",
       "      <th>Q12_C1_R3</th>\n",
       "      <th>Q12_C1_R4</th>\n",
       "    </tr>\n",
       "  </thead>\n",
       "  <tbody>\n",
       "    <tr>\n",
       "      <th>0</th>\n",
       "      <td>16.0</td>\n",
       "      <td>60.0</td>\n",
       "      <td>60.0</td>\n",
       "      <td>12.0</td>\n",
       "    </tr>\n",
       "    <tr>\n",
       "      <th>1</th>\n",
       "      <td>22.0</td>\n",
       "      <td>22.0</td>\n",
       "      <td>0.0</td>\n",
       "      <td>19.0</td>\n",
       "    </tr>\n",
       "    <tr>\n",
       "      <th>2</th>\n",
       "      <td>0.0</td>\n",
       "      <td>0.0</td>\n",
       "      <td>0.0</td>\n",
       "      <td>0.0</td>\n",
       "    </tr>\n",
       "    <tr>\n",
       "      <th>3</th>\n",
       "      <td>0.0</td>\n",
       "      <td>80.0</td>\n",
       "      <td>0.0</td>\n",
       "      <td>80.0</td>\n",
       "    </tr>\n",
       "    <tr>\n",
       "      <th>4</th>\n",
       "      <td>0.0</td>\n",
       "      <td>0.0</td>\n",
       "      <td>0.0</td>\n",
       "      <td>0.0</td>\n",
       "    </tr>\n",
       "  </tbody>\n",
       "</table>\n",
       "</div>"
      ],
      "text/plain": [
       "   Q12_C1_R1  Q12_C1_R2  Q12_C1_R3  Q12_C1_R4\n",
       "0       16.0       60.0       60.0       12.0\n",
       "1       22.0       22.0        0.0       19.0\n",
       "2        0.0        0.0        0.0        0.0\n",
       "3        0.0       80.0        0.0       80.0\n",
       "4        0.0        0.0        0.0        0.0"
      ]
     },
     "execution_count": 59,
     "metadata": {},
     "output_type": "execute_result"
    }
   ],
   "source": [
    "Q12 = [feature for feature in df.columns if feature.startswith('Q12')]\n",
    "df_q12 = df[Q12]\n",
    "df_q12.head()"
   ]
  },
  {
   "cell_type": "markdown",
   "metadata": {},
   "source": [
    "Missing value counts are equal for each discipline.  \n",
    "There is some outlier in each discipline."
   ]
  },
  {
   "cell_type": "code",
   "execution_count": 60,
   "metadata": {},
   "outputs": [
    {
     "data": {
      "text/html": [
       "<div>\n",
       "<style scoped>\n",
       "    .dataframe tbody tr th:only-of-type {\n",
       "        vertical-align: middle;\n",
       "    }\n",
       "\n",
       "    .dataframe tbody tr th {\n",
       "        vertical-align: top;\n",
       "    }\n",
       "\n",
       "    .dataframe thead th {\n",
       "        text-align: right;\n",
       "    }\n",
       "</style>\n",
       "<table border=\"1\" class=\"dataframe\">\n",
       "  <thead>\n",
       "    <tr style=\"text-align: right;\">\n",
       "      <th></th>\n",
       "      <th>Q12_C1_R1</th>\n",
       "      <th>Q12_C1_R2</th>\n",
       "      <th>Q12_C1_R3</th>\n",
       "      <th>Q12_C1_R4</th>\n",
       "    </tr>\n",
       "  </thead>\n",
       "  <tbody>\n",
       "    <tr>\n",
       "      <th>count</th>\n",
       "      <td>686.000000</td>\n",
       "      <td>686.000000</td>\n",
       "      <td>686.000000</td>\n",
       "      <td>686.000000</td>\n",
       "    </tr>\n",
       "    <tr>\n",
       "      <th>mean</th>\n",
       "      <td>38.750729</td>\n",
       "      <td>67.997085</td>\n",
       "      <td>57.467930</td>\n",
       "      <td>71.778426</td>\n",
       "    </tr>\n",
       "    <tr>\n",
       "      <th>std</th>\n",
       "      <td>648.017674</td>\n",
       "      <td>1292.623519</td>\n",
       "      <td>1292.058957</td>\n",
       "      <td>1293.813049</td>\n",
       "    </tr>\n",
       "    <tr>\n",
       "      <th>min</th>\n",
       "      <td>0.000000</td>\n",
       "      <td>0.000000</td>\n",
       "      <td>0.000000</td>\n",
       "      <td>0.000000</td>\n",
       "    </tr>\n",
       "    <tr>\n",
       "      <th>25%</th>\n",
       "      <td>0.000000</td>\n",
       "      <td>0.000000</td>\n",
       "      <td>0.000000</td>\n",
       "      <td>0.000000</td>\n",
       "    </tr>\n",
       "    <tr>\n",
       "      <th>50%</th>\n",
       "      <td>0.000000</td>\n",
       "      <td>0.000000</td>\n",
       "      <td>0.000000</td>\n",
       "      <td>0.000000</td>\n",
       "    </tr>\n",
       "    <tr>\n",
       "      <th>75%</th>\n",
       "      <td>10.000000</td>\n",
       "      <td>10.000000</td>\n",
       "      <td>3.750000</td>\n",
       "      <td>10.000000</td>\n",
       "    </tr>\n",
       "    <tr>\n",
       "      <th>max</th>\n",
       "      <td>16929.000000</td>\n",
       "      <td>33840.000000</td>\n",
       "      <td>33840.000000</td>\n",
       "      <td>33840.000000</td>\n",
       "    </tr>\n",
       "  </tbody>\n",
       "</table>\n",
       "</div>"
      ],
      "text/plain": [
       "          Q12_C1_R1     Q12_C1_R2     Q12_C1_R3     Q12_C1_R4\n",
       "count    686.000000    686.000000    686.000000    686.000000\n",
       "mean      38.750729     67.997085     57.467930     71.778426\n",
       "std      648.017674   1292.623519   1292.058957   1293.813049\n",
       "min        0.000000      0.000000      0.000000      0.000000\n",
       "25%        0.000000      0.000000      0.000000      0.000000\n",
       "50%        0.000000      0.000000      0.000000      0.000000\n",
       "75%       10.000000     10.000000      3.750000     10.000000\n",
       "max    16929.000000  33840.000000  33840.000000  33840.000000"
      ]
     },
     "execution_count": 60,
     "metadata": {},
     "output_type": "execute_result"
    }
   ],
   "source": [
    "df_q12.describe()"
   ]
  },
  {
   "cell_type": "code",
   "execution_count": 61,
   "metadata": {},
   "outputs": [
    {
     "name": "stderr",
     "output_type": "stream",
     "text": [
      "/home/eric/anaconda3/lib/python3.6/site-packages/pandas/core/frame.py:3778: SettingWithCopyWarning: \n",
      "A value is trying to be set on a copy of a slice from a DataFrame\n",
      "\n",
      "See the caveats in the documentation: http://pandas.pydata.org/pandas-docs/stable/indexing.html#indexing-view-versus-copy\n",
      "  return super(DataFrame, self).rename(**kwargs)\n"
     ]
    }
   ],
   "source": [
    "disc_map = {Q12[i]: disciplines[i] for i in range(4)}\n",
    "df_q12.rename(index=str, columns=disc_map, inplace=True)\n",
    "#Remove missing values\n",
    "df_q12 = df_q12[df_q12['Dance'].notna()]"
   ]
  },
  {
   "cell_type": "markdown",
   "metadata": {},
   "source": [
    "Look at the outliers.  \n",
    "There is only the one school with extreme values in every category, is this a case of incorrect data entry?"
   ]
  },
  {
   "cell_type": "code",
   "execution_count": 62,
   "metadata": {},
   "outputs": [
    {
     "data": {
      "text/html": [
       "<div>\n",
       "<style scoped>\n",
       "    .dataframe tbody tr th:only-of-type {\n",
       "        vertical-align: middle;\n",
       "    }\n",
       "\n",
       "    .dataframe tbody tr th {\n",
       "        vertical-align: top;\n",
       "    }\n",
       "\n",
       "    .dataframe thead th {\n",
       "        text-align: right;\n",
       "    }\n",
       "</style>\n",
       "<table border=\"1\" class=\"dataframe\">\n",
       "  <thead>\n",
       "    <tr style=\"text-align: right;\">\n",
       "      <th></th>\n",
       "      <th>Dance</th>\n",
       "      <th>Music</th>\n",
       "      <th>Theater</th>\n",
       "      <th>Visual Arts</th>\n",
       "    </tr>\n",
       "  </thead>\n",
       "  <tbody>\n",
       "    <tr>\n",
       "      <th>514</th>\n",
       "      <td>16929.0</td>\n",
       "      <td>33840.0</td>\n",
       "      <td>33840.0</td>\n",
       "      <td>33840.0</td>\n",
       "    </tr>\n",
       "  </tbody>\n",
       "</table>\n",
       "</div>"
      ],
      "text/plain": [
       "       Dance    Music  Theater  Visual Arts\n",
       "514  16929.0  33840.0  33840.0      33840.0"
      ]
     },
     "execution_count": 62,
     "metadata": {},
     "output_type": "execute_result"
    }
   ],
   "source": [
    "df_q12[df_q12['Dance'] > 10000]"
   ]
  },
  {
   "cell_type": "code",
   "execution_count": 63,
   "metadata": {},
   "outputs": [
    {
     "data": {
      "text/html": [
       "<div>\n",
       "<style scoped>\n",
       "    .dataframe tbody tr th:only-of-type {\n",
       "        vertical-align: middle;\n",
       "    }\n",
       "\n",
       "    .dataframe tbody tr th {\n",
       "        vertical-align: top;\n",
       "    }\n",
       "\n",
       "    .dataframe thead th {\n",
       "        text-align: right;\n",
       "    }\n",
       "</style>\n",
       "<table border=\"1\" class=\"dataframe\">\n",
       "  <thead>\n",
       "    <tr style=\"text-align: right;\">\n",
       "      <th></th>\n",
       "      <th>Q0_DBN</th>\n",
       "      <th>Q1_1</th>\n",
       "      <th>Q1_2</th>\n",
       "      <th>Q1_3</th>\n",
       "      <th>Q2_1</th>\n",
       "      <th>Q3_1</th>\n",
       "      <th>Q3_2</th>\n",
       "      <th>Q3_3</th>\n",
       "      <th>Q3_4</th>\n",
       "      <th>Q4_1</th>\n",
       "      <th>...</th>\n",
       "      <th>Q45_6</th>\n",
       "      <th>Q45_7</th>\n",
       "      <th>Q45_8</th>\n",
       "      <th>Q45_9</th>\n",
       "      <th>Q45_10</th>\n",
       "      <th>Q46_1</th>\n",
       "      <th>Q47_1</th>\n",
       "      <th>Q48_1</th>\n",
       "      <th>Q48_2</th>\n",
       "      <th>Q48_3</th>\n",
       "    </tr>\n",
       "  </thead>\n",
       "  <tbody>\n",
       "    <tr>\n",
       "      <th>514</th>\n",
       "      <td>12X691</td>\n",
       "      <td>Kathelyn</td>\n",
       "      <td>ovalles</td>\n",
       "      <td>Kovalles@schools.nyc.gov</td>\n",
       "      <td>0</td>\n",
       "      <td>0</td>\n",
       "      <td>1</td>\n",
       "      <td>0</td>\n",
       "      <td>0</td>\n",
       "      <td>0</td>\n",
       "      <td>...</td>\n",
       "      <td>1</td>\n",
       "      <td>1</td>\n",
       "      <td>1</td>\n",
       "      <td>0</td>\n",
       "      <td>0</td>\n",
       "      <td>At BLS we have one full-time drama teacher who...</td>\n",
       "      <td>NaN</td>\n",
       "      <td>Beverly Urquiza</td>\n",
       "      <td>Principal</td>\n",
       "      <td>burquiza@schools.nyc.gov</td>\n",
       "    </tr>\n",
       "  </tbody>\n",
       "</table>\n",
       "<p>1 rows × 670 columns</p>\n",
       "</div>"
      ],
      "text/plain": [
       "     Q0_DBN      Q1_1     Q1_2                      Q1_3  Q2_1  Q3_1  Q3_2  \\\n",
       "514  12X691  Kathelyn  ovalles  Kovalles@schools.nyc.gov     0     0     1   \n",
       "\n",
       "     Q3_3  Q3_4  Q4_1            ...             Q45_6  Q45_7  Q45_8  Q45_9  \\\n",
       "514     0     0     0            ...                 1      1      1      0   \n",
       "\n",
       "     Q45_10                                              Q46_1  Q47_1  \\\n",
       "514       0  At BLS we have one full-time drama teacher who...    NaN   \n",
       "\n",
       "               Q48_1      Q48_2                     Q48_3  \n",
       "514  Beverly Urquiza  Principal  burquiza@schools.nyc.gov  \n",
       "\n",
       "[1 rows x 670 columns]"
      ]
     },
     "execution_count": 63,
     "metadata": {},
     "output_type": "execute_result"
    }
   ],
   "source": [
    "df[df['Q12_C1_R1'] > 10000]"
   ]
  },
  {
   "cell_type": "markdown",
   "metadata": {},
   "source": [
    "This is the Bronx Little School, it only has 307 students so we can chalk this up to a mistake.  \n",
    "I will drop this row for now, but **TODO** check other values for other questions from this school."
   ]
  },
  {
   "cell_type": "code",
   "execution_count": 64,
   "metadata": {},
   "outputs": [],
   "source": [
    "df_q12 = df_q12[df_q12['Dance'] < 10000]"
   ]
  },
  {
   "cell_type": "markdown",
   "metadata": {},
   "source": [
    "Theater instruction lags behind other disciplines. I would have guessed that this would have been the case for theater *and* dance, since I think of these disciplines as requiring more space and not lending themselves as well to many hours of school instruction."
   ]
  },
  {
   "cell_type": "code",
   "execution_count": 65,
   "metadata": {
    "scrolled": true
   },
   "outputs": [
    {
     "data": {
      "text/plain": [
       "Text(0.5,1,'Instructional Hours Provided by Cultural Arts Organizations')"
      ]
     },
     "execution_count": 65,
     "metadata": {},
     "output_type": "execute_result"
    },
    {
     "data": {
      "image/png": "[encoded data removed]",
      "text/plain": [
       "<Figure size 432x288 with 1 Axes>"
      ]
     },
     "metadata": {},
     "output_type": "display_data"
    }
   ],
   "source": [
    "ax = sns.boxplot(data=df_q12)\n",
    "ax.set_yscale('log')\n",
    "ax.set_title('Instructional Hours Provided by Cultural Arts Organizations')"
   ]
  },
  {
   "cell_type": "code",
   "execution_count": 66,
   "metadata": {},
   "outputs": [],
   "source": [
    "import joypy"
   ]
  },
  {
   "cell_type": "code",
   "execution_count": 67,
   "metadata": {},
   "outputs": [
    {
     "data": {
      "image/png": "[encoded data removed]",
      "text/plain": [
       "<Figure size 432x288 with 5 Axes>"
      ]
     },
     "metadata": {},
     "output_type": "display_data"
    }
   ],
   "source": [
    "fig, ax = joypy.joyplot(df_q12, hist=True, x_range=(1, 200), overlap=0, bins=50, title='Kindergarten')"
   ]
  },
  {
   "cell_type": "markdown",
   "metadata": {},
   "source": [
    "### Q13 Arts Instructional Hours by Cultural Organizations, First Grade"
   ]
  },
  {
   "cell_type": "markdown",
   "metadata": {},
   "source": [
    "This question provides five columns for each discipline, but they are all titled \"Official Class Register\". I would guess that schools are allowed to separate by cultural organization? This would not be helpful for my purposes."
   ]
  },
  {
   "cell_type": "code",
   "execution_count": 68,
   "metadata": {},
   "outputs": [
    {
     "data": {
      "text/plain": [
       "60"
      ]
     },
     "execution_count": 68,
     "metadata": {},
     "output_type": "execute_result"
    }
   ],
   "source": [
    "Q13 = [feature for feature in df.columns if feature.startswith('Q13')]\n",
    "len(Q13)"
   ]
  },
  {
   "cell_type": "markdown",
   "metadata": {},
   "source": [
    "There are 20 spaces in the input format pdf."
   ]
  },
  {
   "cell_type": "code",
   "execution_count": 69,
   "metadata": {
    "scrolled": true
   },
   "outputs": [
    {
     "data": {
      "text/plain": [
       "['Q13_C1_R1',\n",
       " 'Q13_C1_R2',\n",
       " 'Q13_C1_R3',\n",
       " 'Q13_C1_R4',\n",
       " 'Q13_C2_R1',\n",
       " 'Q13_C2_R2',\n",
       " 'Q13_C2_R3',\n",
       " 'Q13_C2_R4',\n",
       " 'Q13_C3_R1',\n",
       " 'Q13_C3_R2',\n",
       " 'Q13_C3_R3',\n",
       " 'Q13_C3_R4',\n",
       " 'Q13_C4_R1',\n",
       " 'Q13_C4_R2',\n",
       " 'Q13_C4_R3',\n",
       " 'Q13_C4_R4',\n",
       " 'Q13_C5_R1',\n",
       " 'Q13_C5_R2',\n",
       " 'Q13_C5_R3',\n",
       " 'Q13_C5_R4',\n",
       " 'Q13_C6_R1',\n",
       " 'Q13_C6_R2',\n",
       " 'Q13_C6_R3',\n",
       " 'Q13_C6_R4',\n",
       " 'Q13_C7_R1',\n",
       " 'Q13_C7_R2',\n",
       " 'Q13_C7_R3',\n",
       " 'Q13_C7_R4',\n",
       " 'Q13_C8_R1',\n",
       " 'Q13_C8_R2',\n",
       " 'Q13_C8_R3',\n",
       " 'Q13_C8_R4',\n",
       " 'Q13_C9_R1',\n",
       " 'Q13_C9_R2',\n",
       " 'Q13_C9_R3',\n",
       " 'Q13_C9_R4',\n",
       " 'Q13_C10_R1',\n",
       " 'Q13_C10_R2',\n",
       " 'Q13_C10_R3',\n",
       " 'Q13_C10_R4',\n",
       " 'Q13_C11_R1',\n",
       " 'Q13_C11_R2',\n",
       " 'Q13_C11_R3',\n",
       " 'Q13_C11_R4',\n",
       " 'Q13_C12_R1',\n",
       " 'Q13_C12_R2',\n",
       " 'Q13_C12_R3',\n",
       " 'Q13_C12_R4',\n",
       " 'Q13_C13_R1',\n",
       " 'Q13_C13_R2',\n",
       " 'Q13_C13_R3',\n",
       " 'Q13_C13_R4',\n",
       " 'Q13_C14_R1',\n",
       " 'Q13_C14_R2',\n",
       " 'Q13_C14_R3',\n",
       " 'Q13_C14_R4',\n",
       " 'Q13_C15_R1',\n",
       " 'Q13_C15_R2',\n",
       " 'Q13_C15_R3',\n",
       " 'Q13_C15_R4']"
      ]
     },
     "execution_count": 69,
     "metadata": {},
     "output_type": "execute_result"
    }
   ],
   "source": [
    "Q13"
   ]
  },
  {
   "cell_type": "code",
   "execution_count": 70,
   "metadata": {},
   "outputs": [
    {
     "data": {
      "text/html": [
       "<div>\n",
       "<style scoped>\n",
       "    .dataframe tbody tr th:only-of-type {\n",
       "        vertical-align: middle;\n",
       "    }\n",
       "\n",
       "    .dataframe tbody tr th {\n",
       "        vertical-align: top;\n",
       "    }\n",
       "\n",
       "    .dataframe thead th {\n",
       "        text-align: right;\n",
       "    }\n",
       "</style>\n",
       "<table border=\"1\" class=\"dataframe\">\n",
       "  <thead>\n",
       "    <tr style=\"text-align: right;\">\n",
       "      <th></th>\n",
       "      <th>Q13_C1_R1</th>\n",
       "      <th>Q13_C1_R2</th>\n",
       "      <th>Q13_C1_R3</th>\n",
       "      <th>Q13_C1_R4</th>\n",
       "      <th>Q13_C2_R1</th>\n",
       "      <th>Q13_C2_R2</th>\n",
       "      <th>Q13_C2_R3</th>\n",
       "      <th>Q13_C2_R4</th>\n",
       "      <th>Q13_C3_R1</th>\n",
       "      <th>Q13_C3_R2</th>\n",
       "      <th>...</th>\n",
       "      <th>Q13_C13_R3</th>\n",
       "      <th>Q13_C13_R4</th>\n",
       "      <th>Q13_C14_R1</th>\n",
       "      <th>Q13_C14_R2</th>\n",
       "      <th>Q13_C14_R3</th>\n",
       "      <th>Q13_C14_R4</th>\n",
       "      <th>Q13_C15_R1</th>\n",
       "      <th>Q13_C15_R2</th>\n",
       "      <th>Q13_C15_R3</th>\n",
       "      <th>Q13_C15_R4</th>\n",
       "    </tr>\n",
       "  </thead>\n",
       "  <tbody>\n",
       "    <tr>\n",
       "      <th>0</th>\n",
       "      <td>0.0</td>\n",
       "      <td>30.0</td>\n",
       "      <td>30.0</td>\n",
       "      <td>6.0</td>\n",
       "      <td>0.0</td>\n",
       "      <td>30.0</td>\n",
       "      <td>30.0</td>\n",
       "      <td>6.0</td>\n",
       "      <td>NaN</td>\n",
       "      <td>NaN</td>\n",
       "      <td>...</td>\n",
       "      <td>NaN</td>\n",
       "      <td>NaN</td>\n",
       "      <td>NaN</td>\n",
       "      <td>NaN</td>\n",
       "      <td>NaN</td>\n",
       "      <td>NaN</td>\n",
       "      <td>NaN</td>\n",
       "      <td>NaN</td>\n",
       "      <td>NaN</td>\n",
       "      <td>NaN</td>\n",
       "    </tr>\n",
       "    <tr>\n",
       "      <th>1</th>\n",
       "      <td>0.0</td>\n",
       "      <td>0.0</td>\n",
       "      <td>0.0</td>\n",
       "      <td>10.0</td>\n",
       "      <td>0.0</td>\n",
       "      <td>0.0</td>\n",
       "      <td>0.0</td>\n",
       "      <td>10.0</td>\n",
       "      <td>0.0</td>\n",
       "      <td>0.0</td>\n",
       "      <td>...</td>\n",
       "      <td>NaN</td>\n",
       "      <td>NaN</td>\n",
       "      <td>NaN</td>\n",
       "      <td>NaN</td>\n",
       "      <td>NaN</td>\n",
       "      <td>NaN</td>\n",
       "      <td>NaN</td>\n",
       "      <td>NaN</td>\n",
       "      <td>NaN</td>\n",
       "      <td>NaN</td>\n",
       "    </tr>\n",
       "    <tr>\n",
       "      <th>2</th>\n",
       "      <td>0.0</td>\n",
       "      <td>30.0</td>\n",
       "      <td>0.0</td>\n",
       "      <td>30.0</td>\n",
       "      <td>0.0</td>\n",
       "      <td>30.0</td>\n",
       "      <td>0.0</td>\n",
       "      <td>30.0</td>\n",
       "      <td>0.0</td>\n",
       "      <td>30.0</td>\n",
       "      <td>...</td>\n",
       "      <td>NaN</td>\n",
       "      <td>NaN</td>\n",
       "      <td>NaN</td>\n",
       "      <td>NaN</td>\n",
       "      <td>NaN</td>\n",
       "      <td>NaN</td>\n",
       "      <td>NaN</td>\n",
       "      <td>NaN</td>\n",
       "      <td>NaN</td>\n",
       "      <td>NaN</td>\n",
       "    </tr>\n",
       "    <tr>\n",
       "      <th>3</th>\n",
       "      <td>0.0</td>\n",
       "      <td>2.0</td>\n",
       "      <td>0.0</td>\n",
       "      <td>2.0</td>\n",
       "      <td>0.0</td>\n",
       "      <td>2.0</td>\n",
       "      <td>0.0</td>\n",
       "      <td>2.0</td>\n",
       "      <td>NaN</td>\n",
       "      <td>NaN</td>\n",
       "      <td>...</td>\n",
       "      <td>NaN</td>\n",
       "      <td>NaN</td>\n",
       "      <td>NaN</td>\n",
       "      <td>NaN</td>\n",
       "      <td>NaN</td>\n",
       "      <td>NaN</td>\n",
       "      <td>NaN</td>\n",
       "      <td>NaN</td>\n",
       "      <td>NaN</td>\n",
       "      <td>NaN</td>\n",
       "    </tr>\n",
       "    <tr>\n",
       "      <th>4</th>\n",
       "      <td>8.0</td>\n",
       "      <td>0.0</td>\n",
       "      <td>0.0</td>\n",
       "      <td>0.0</td>\n",
       "      <td>8.0</td>\n",
       "      <td>0.0</td>\n",
       "      <td>0.0</td>\n",
       "      <td>0.0</td>\n",
       "      <td>NaN</td>\n",
       "      <td>NaN</td>\n",
       "      <td>...</td>\n",
       "      <td>NaN</td>\n",
       "      <td>NaN</td>\n",
       "      <td>NaN</td>\n",
       "      <td>NaN</td>\n",
       "      <td>NaN</td>\n",
       "      <td>NaN</td>\n",
       "      <td>NaN</td>\n",
       "      <td>NaN</td>\n",
       "      <td>NaN</td>\n",
       "      <td>NaN</td>\n",
       "    </tr>\n",
       "  </tbody>\n",
       "</table>\n",
       "<p>5 rows × 60 columns</p>\n",
       "</div>"
      ],
      "text/plain": [
       "   Q13_C1_R1  Q13_C1_R2  Q13_C1_R3  Q13_C1_R4  Q13_C2_R1  Q13_C2_R2  \\\n",
       "0        0.0       30.0       30.0        6.0        0.0       30.0   \n",
       "1        0.0        0.0        0.0       10.0        0.0        0.0   \n",
       "2        0.0       30.0        0.0       30.0        0.0       30.0   \n",
       "3        0.0        2.0        0.0        2.0        0.0        2.0   \n",
       "4        8.0        0.0        0.0        0.0        8.0        0.0   \n",
       "\n",
       "   Q13_C2_R3  Q13_C2_R4  Q13_C3_R1  Q13_C3_R2     ...      Q13_C13_R3  \\\n",
       "0       30.0        6.0        NaN        NaN     ...             NaN   \n",
       "1        0.0       10.0        0.0        0.0     ...             NaN   \n",
       "2        0.0       30.0        0.0       30.0     ...             NaN   \n",
       "3        0.0        2.0        NaN        NaN     ...             NaN   \n",
       "4        0.0        0.0        NaN        NaN     ...             NaN   \n",
       "\n",
       "   Q13_C13_R4  Q13_C14_R1  Q13_C14_R2  Q13_C14_R3  Q13_C14_R4  Q13_C15_R1  \\\n",
       "0         NaN         NaN         NaN         NaN         NaN         NaN   \n",
       "1         NaN         NaN         NaN         NaN         NaN         NaN   \n",
       "2         NaN         NaN         NaN         NaN         NaN         NaN   \n",
       "3         NaN         NaN         NaN         NaN         NaN         NaN   \n",
       "4         NaN         NaN         NaN         NaN         NaN         NaN   \n",
       "\n",
       "   Q13_C15_R2  Q13_C15_R3  Q13_C15_R4  \n",
       "0         NaN         NaN         NaN  \n",
       "1         NaN         NaN         NaN  \n",
       "2         NaN         NaN         NaN  \n",
       "3         NaN         NaN         NaN  \n",
       "4         NaN         NaN         NaN  \n",
       "\n",
       "[5 rows x 60 columns]"
      ]
     },
     "execution_count": 70,
     "metadata": {},
     "output_type": "execute_result"
    }
   ],
   "source": [
    "df_q13 = df[Q13]\n",
    "df_q13.head()"
   ]
  },
  {
   "cell_type": "code",
   "execution_count": 71,
   "metadata": {
    "scrolled": true
   },
   "outputs": [
    {
     "name": "stdout",
     "output_type": "stream",
     "text": [
      "Q13_C1_R1 0.5146245059288538\n",
      "Q13_C1_R2 0.5146245059288538\n",
      "Q13_C1_R3 0.5146245059288538\n",
      "Q13_C1_R4 0.5146245059288538\n",
      "Q13_C2_R1 0.5027667984189723\n",
      "Q13_C2_R2 0.5027667984189723\n",
      "Q13_C2_R3 0.5027667984189723\n",
      "Q13_C2_R4 0.5027667984189723\n",
      "Q13_C3_R1 0.43952569169960476\n",
      "Q13_C3_R2 0.43952569169960476\n",
      "Q13_C3_R3 0.43952569169960476\n",
      "Q13_C3_R4 0.43952569169960476\n",
      "Q13_C4_R1 0.3367588932806324\n",
      "Q13_C4_R2 0.3367588932806324\n",
      "Q13_C4_R3 0.3367588932806324\n",
      "Q13_C4_R4 0.3367588932806324\n",
      "Q13_C5_R1 0.2158102766798419\n",
      "Q13_C5_R2 0.2158102766798419\n",
      "Q13_C5_R3 0.2158102766798419\n",
      "Q13_C5_R4 0.2158102766798419\n",
      "Q13_C6_R1 0.13201581027667983\n",
      "Q13_C6_R2 0.13201581027667983\n",
      "Q13_C6_R3 0.13201581027667983\n",
      "Q13_C6_R4 0.13201581027667983\n",
      "Q13_C7_R1 0.07114624505928854\n",
      "Q13_C7_R2 0.07114624505928854\n",
      "Q13_C7_R3 0.07114624505928854\n",
      "Q13_C7_R4 0.07114624505928854\n",
      "Q13_C8_R1 0.03162055335968379\n",
      "Q13_C8_R2 0.03162055335968379\n",
      "Q13_C8_R3 0.03162055335968379\n",
      "Q13_C8_R4 0.03162055335968379\n",
      "Q13_C9_R1 0.019762845849802372\n",
      "Q13_C9_R2 0.019762845849802372\n",
      "Q13_C9_R3 0.019762845849802372\n",
      "Q13_C9_R4 0.019762845849802372\n",
      "Q13_C10_R1 0.012648221343873518\n",
      "Q13_C10_R2 0.012648221343873518\n",
      "Q13_C10_R3 0.012648221343873518\n",
      "Q13_C10_R4 0.012648221343873518\n",
      "Q13_C11_R1 0.0047430830039525695\n",
      "Q13_C11_R2 0.0047430830039525695\n",
      "Q13_C11_R3 0.0047430830039525695\n",
      "Q13_C11_R4 0.0047430830039525695\n",
      "Q13_C12_R1 0.0007905138339920949\n",
      "Q13_C12_R2 0.0007905138339920949\n",
      "Q13_C12_R3 0.0007905138339920949\n",
      "Q13_C12_R4 0.0007905138339920949\n",
      "Q13_C13_R1 0.0007905138339920949\n",
      "Q13_C13_R2 0.0007905138339920949\n",
      "Q13_C13_R3 0.0007905138339920949\n",
      "Q13_C13_R4 0.0007905138339920949\n",
      "Q13_C14_R1 0.0007905138339920949\n",
      "Q13_C14_R2 0.0007905138339920949\n",
      "Q13_C14_R3 0.0007905138339920949\n",
      "Q13_C14_R4 0.0007905138339920949\n",
      "Q13_C15_R1 0.0007905138339920949\n",
      "Q13_C15_R2 0.0007905138339920949\n",
      "Q13_C15_R3 0.0007905138339920949\n",
      "Q13_C15_R4 0.0007905138339920949\n"
     ]
    }
   ],
   "source": [
    "for feature in Q13:\n",
    "    print(feature, df_q13[df_q13[feature].notna()].shape[0] / df_q13.shape[0])"
   ]
  },
  {
   "cell_type": "markdown",
   "metadata": {},
   "source": [
    "From the increasing number of missing values by column I feel confident that schools are dividing the total hours provided by some feature I do not have access to. I will just sum up the values for each discipline."
   ]
  },
  {
   "cell_type": "code",
   "execution_count": 72,
   "metadata": {},
   "outputs": [],
   "source": [
    "R1 = [feature for feature in Q13 if feature.endswith('R1')]\n",
    "R2 = [feature for feature in Q13 if feature.endswith('R2')]\n",
    "R3 = [feature for feature in Q13 if feature.endswith('R3')]\n",
    "R4 = [feature for feature in Q13 if feature.endswith('R4')]"
   ]
  },
  {
   "cell_type": "code",
   "execution_count": 73,
   "metadata": {},
   "outputs": [],
   "source": [
    "df['Q13_R1'] = df[R1].sum(axis=1) #Dance\n",
    "df['Q13_R2'] = df[R2].sum(axis=1) #Music\n",
    "df['Q13_R3'] = df[R3].sum(axis=1) #Theater\n",
    "df['Q13_R4'] = df[R4].sum(axis=1) #Visual Arts"
   ]
  },
  {
   "cell_type": "code",
   "execution_count": 74,
   "metadata": {
    "scrolled": true
   },
   "outputs": [
    {
     "data": {
      "text/html": [
       "<div>\n",
       "<style scoped>\n",
       "    .dataframe tbody tr th:only-of-type {\n",
       "        vertical-align: middle;\n",
       "    }\n",
       "\n",
       "    .dataframe tbody tr th {\n",
       "        vertical-align: top;\n",
       "    }\n",
       "\n",
       "    .dataframe thead th {\n",
       "        text-align: right;\n",
       "    }\n",
       "</style>\n",
       "<table border=\"1\" class=\"dataframe\">\n",
       "  <thead>\n",
       "    <tr style=\"text-align: right;\">\n",
       "      <th></th>\n",
       "      <th>Q13_R1</th>\n",
       "      <th>Q13_R2</th>\n",
       "      <th>Q13_R3</th>\n",
       "      <th>Q13_R4</th>\n",
       "    </tr>\n",
       "  </thead>\n",
       "  <tbody>\n",
       "    <tr>\n",
       "      <th>0</th>\n",
       "      <td>0.0</td>\n",
       "      <td>60.0</td>\n",
       "      <td>60.0</td>\n",
       "      <td>12.0</td>\n",
       "    </tr>\n",
       "    <tr>\n",
       "      <th>1</th>\n",
       "      <td>22.0</td>\n",
       "      <td>22.0</td>\n",
       "      <td>0.0</td>\n",
       "      <td>40.0</td>\n",
       "    </tr>\n",
       "    <tr>\n",
       "      <th>2</th>\n",
       "      <td>0.0</td>\n",
       "      <td>150.0</td>\n",
       "      <td>0.0</td>\n",
       "      <td>150.0</td>\n",
       "    </tr>\n",
       "    <tr>\n",
       "      <th>3</th>\n",
       "      <td>0.0</td>\n",
       "      <td>4.0</td>\n",
       "      <td>0.0</td>\n",
       "      <td>4.0</td>\n",
       "    </tr>\n",
       "    <tr>\n",
       "      <th>4</th>\n",
       "      <td>16.0</td>\n",
       "      <td>0.0</td>\n",
       "      <td>0.0</td>\n",
       "      <td>0.0</td>\n",
       "    </tr>\n",
       "  </tbody>\n",
       "</table>\n",
       "</div>"
      ],
      "text/plain": [
       "   Q13_R1  Q13_R2  Q13_R3  Q13_R4\n",
       "0     0.0    60.0    60.0    12.0\n",
       "1    22.0    22.0     0.0    40.0\n",
       "2     0.0   150.0     0.0   150.0\n",
       "3     0.0     4.0     0.0     4.0\n",
       "4    16.0     0.0     0.0     0.0"
      ]
     },
     "execution_count": 74,
     "metadata": {},
     "output_type": "execute_result"
    }
   ],
   "source": [
    "Q13_agg = [feature for feature in df.columns if feature.startswith('Q13_R')]\n",
    "df_q13 = df[Q13_agg]\n",
    "df_q13.head()"
   ]
  },
  {
   "cell_type": "code",
   "execution_count": 75,
   "metadata": {},
   "outputs": [
    {
     "data": {
      "text/html": [
       "<div>\n",
       "<style scoped>\n",
       "    .dataframe tbody tr th:only-of-type {\n",
       "        vertical-align: middle;\n",
       "    }\n",
       "\n",
       "    .dataframe tbody tr th {\n",
       "        vertical-align: top;\n",
       "    }\n",
       "\n",
       "    .dataframe thead th {\n",
       "        text-align: right;\n",
       "    }\n",
       "</style>\n",
       "<table border=\"1\" class=\"dataframe\">\n",
       "  <thead>\n",
       "    <tr style=\"text-align: right;\">\n",
       "      <th></th>\n",
       "      <th>Q13_R1</th>\n",
       "      <th>Q13_R2</th>\n",
       "      <th>Q13_R3</th>\n",
       "      <th>Q13_R4</th>\n",
       "    </tr>\n",
       "  </thead>\n",
       "  <tbody>\n",
       "    <tr>\n",
       "      <th>count</th>\n",
       "      <td>1265.000000</td>\n",
       "      <td>1265.000000</td>\n",
       "      <td>1265.000000</td>\n",
       "      <td>1265.000000</td>\n",
       "    </tr>\n",
       "    <tr>\n",
       "      <th>mean</th>\n",
       "      <td>31.742292</td>\n",
       "      <td>49.624506</td>\n",
       "      <td>26.128063</td>\n",
       "      <td>56.781028</td>\n",
       "    </tr>\n",
       "    <tr>\n",
       "      <th>std</th>\n",
       "      <td>483.646511</td>\n",
       "      <td>955.796883</td>\n",
       "      <td>480.202988</td>\n",
       "      <td>984.403551</td>\n",
       "    </tr>\n",
       "    <tr>\n",
       "      <th>min</th>\n",
       "      <td>0.000000</td>\n",
       "      <td>0.000000</td>\n",
       "      <td>0.000000</td>\n",
       "      <td>0.000000</td>\n",
       "    </tr>\n",
       "    <tr>\n",
       "      <th>25%</th>\n",
       "      <td>0.000000</td>\n",
       "      <td>0.000000</td>\n",
       "      <td>0.000000</td>\n",
       "      <td>0.000000</td>\n",
       "    </tr>\n",
       "    <tr>\n",
       "      <th>50%</th>\n",
       "      <td>0.000000</td>\n",
       "      <td>0.000000</td>\n",
       "      <td>0.000000</td>\n",
       "      <td>0.000000</td>\n",
       "    </tr>\n",
       "    <tr>\n",
       "      <th>75%</th>\n",
       "      <td>0.000000</td>\n",
       "      <td>0.000000</td>\n",
       "      <td>0.000000</td>\n",
       "      <td>0.000000</td>\n",
       "    </tr>\n",
       "    <tr>\n",
       "      <th>max</th>\n",
       "      <td>16920.000000</td>\n",
       "      <td>33840.000000</td>\n",
       "      <td>16920.000000</td>\n",
       "      <td>33840.000000</td>\n",
       "    </tr>\n",
       "  </tbody>\n",
       "</table>\n",
       "</div>"
      ],
      "text/plain": [
       "             Q13_R1        Q13_R2        Q13_R3        Q13_R4\n",
       "count   1265.000000   1265.000000   1265.000000   1265.000000\n",
       "mean      31.742292     49.624506     26.128063     56.781028\n",
       "std      483.646511    955.796883    480.202988    984.403551\n",
       "min        0.000000      0.000000      0.000000      0.000000\n",
       "25%        0.000000      0.000000      0.000000      0.000000\n",
       "50%        0.000000      0.000000      0.000000      0.000000\n",
       "75%        0.000000      0.000000      0.000000      0.000000\n",
       "max    16920.000000  33840.000000  16920.000000  33840.000000"
      ]
     },
     "execution_count": 75,
     "metadata": {},
     "output_type": "execute_result"
    }
   ],
   "source": [
    "df_q13.describe()"
   ]
  },
  {
   "cell_type": "markdown",
   "metadata": {},
   "source": [
    "Again we see some outliers and they turn out to originate from the same school as before. I am confident that there is a data entry error."
   ]
  },
  {
   "cell_type": "code",
   "execution_count": 76,
   "metadata": {},
   "outputs": [
    {
     "data": {
      "text/html": [
       "<div>\n",
       "<style scoped>\n",
       "    .dataframe tbody tr th:only-of-type {\n",
       "        vertical-align: middle;\n",
       "    }\n",
       "\n",
       "    .dataframe tbody tr th {\n",
       "        vertical-align: top;\n",
       "    }\n",
       "\n",
       "    .dataframe thead th {\n",
       "        text-align: right;\n",
       "    }\n",
       "</style>\n",
       "<table border=\"1\" class=\"dataframe\">\n",
       "  <thead>\n",
       "    <tr style=\"text-align: right;\">\n",
       "      <th></th>\n",
       "      <th>Q13_R1</th>\n",
       "      <th>Q13_R2</th>\n",
       "      <th>Q13_R3</th>\n",
       "      <th>Q13_R4</th>\n",
       "    </tr>\n",
       "  </thead>\n",
       "  <tbody>\n",
       "    <tr>\n",
       "      <th>514</th>\n",
       "      <td>16920.0</td>\n",
       "      <td>33840.0</td>\n",
       "      <td>16920.0</td>\n",
       "      <td>33840.0</td>\n",
       "    </tr>\n",
       "  </tbody>\n",
       "</table>\n",
       "</div>"
      ],
      "text/plain": [
       "      Q13_R1   Q13_R2   Q13_R3   Q13_R4\n",
       "514  16920.0  33840.0  16920.0  33840.0"
      ]
     },
     "execution_count": 76,
     "metadata": {},
     "output_type": "execute_result"
    }
   ],
   "source": [
    "df_q13[df_q13['Q13_R1'] > 10000]"
   ]
  },
  {
   "cell_type": "code",
   "execution_count": 77,
   "metadata": {
    "scrolled": true
   },
   "outputs": [
    {
     "data": {
      "text/html": [
       "<div>\n",
       "<style scoped>\n",
       "    .dataframe tbody tr th:only-of-type {\n",
       "        vertical-align: middle;\n",
       "    }\n",
       "\n",
       "    .dataframe tbody tr th {\n",
       "        vertical-align: top;\n",
       "    }\n",
       "\n",
       "    .dataframe thead th {\n",
       "        text-align: right;\n",
       "    }\n",
       "</style>\n",
       "<table border=\"1\" class=\"dataframe\">\n",
       "  <thead>\n",
       "    <tr style=\"text-align: right;\">\n",
       "      <th></th>\n",
       "      <th>Q0_DBN</th>\n",
       "      <th>Q1_1</th>\n",
       "      <th>Q1_2</th>\n",
       "      <th>Q1_3</th>\n",
       "      <th>Q2_1</th>\n",
       "      <th>Q3_1</th>\n",
       "      <th>Q3_2</th>\n",
       "      <th>Q3_3</th>\n",
       "      <th>Q3_4</th>\n",
       "      <th>Q4_1</th>\n",
       "      <th>...</th>\n",
       "      <th>Q45_10</th>\n",
       "      <th>Q46_1</th>\n",
       "      <th>Q47_1</th>\n",
       "      <th>Q48_1</th>\n",
       "      <th>Q48_2</th>\n",
       "      <th>Q48_3</th>\n",
       "      <th>Q13_R1</th>\n",
       "      <th>Q13_R2</th>\n",
       "      <th>Q13_R3</th>\n",
       "      <th>Q13_R4</th>\n",
       "    </tr>\n",
       "  </thead>\n",
       "  <tbody>\n",
       "    <tr>\n",
       "      <th>514</th>\n",
       "      <td>12X691</td>\n",
       "      <td>Kathelyn</td>\n",
       "      <td>ovalles</td>\n",
       "      <td>Kovalles@schools.nyc.gov</td>\n",
       "      <td>0</td>\n",
       "      <td>0</td>\n",
       "      <td>1</td>\n",
       "      <td>0</td>\n",
       "      <td>0</td>\n",
       "      <td>0</td>\n",
       "      <td>...</td>\n",
       "      <td>0</td>\n",
       "      <td>At BLS we have one full-time drama teacher who...</td>\n",
       "      <td>NaN</td>\n",
       "      <td>Beverly Urquiza</td>\n",
       "      <td>Principal</td>\n",
       "      <td>burquiza@schools.nyc.gov</td>\n",
       "      <td>16920.0</td>\n",
       "      <td>33840.0</td>\n",
       "      <td>16920.0</td>\n",
       "      <td>33840.0</td>\n",
       "    </tr>\n",
       "  </tbody>\n",
       "</table>\n",
       "<p>1 rows × 674 columns</p>\n",
       "</div>"
      ],
      "text/plain": [
       "     Q0_DBN      Q1_1     Q1_2                      Q1_3  Q2_1  Q3_1  Q3_2  \\\n",
       "514  12X691  Kathelyn  ovalles  Kovalles@schools.nyc.gov     0     0     1   \n",
       "\n",
       "     Q3_3  Q3_4  Q4_1   ...     Q45_10  \\\n",
       "514     0     0     0   ...          0   \n",
       "\n",
       "                                                 Q46_1  Q47_1  \\\n",
       "514  At BLS we have one full-time drama teacher who...    NaN   \n",
       "\n",
       "               Q48_1      Q48_2                     Q48_3   Q13_R1   Q13_R2  \\\n",
       "514  Beverly Urquiza  Principal  burquiza@schools.nyc.gov  16920.0  33840.0   \n",
       "\n",
       "      Q13_R3   Q13_R4  \n",
       "514  16920.0  33840.0  \n",
       "\n",
       "[1 rows x 674 columns]"
      ]
     },
     "execution_count": 77,
     "metadata": {},
     "output_type": "execute_result"
    }
   ],
   "source": [
    "df[df_q13['Q13_R1'] > 10000]"
   ]
  },
  {
   "cell_type": "code",
   "execution_count": 78,
   "metadata": {},
   "outputs": [],
   "source": [
    "df_q13 = df_q13[df_q13['Q13_R1'] < 10000]\n",
    "disc_map = {df_q13.columns[i]: disciplines[i] for i in range(4)}\n",
    "df_q13.rename(index=str, columns=disc_map, inplace=True)"
   ]
  },
  {
   "cell_type": "code",
   "execution_count": 79,
   "metadata": {},
   "outputs": [
    {
     "data": {
      "image/png": "[encoded data removed]",
      "text/plain": [
       "<Figure size 432x288 with 5 Axes>"
      ]
     },
     "metadata": {},
     "output_type": "display_data"
    }
   ],
   "source": [
    "fig, ax = joypy.joyplot(df_q13, hist=True, x_range=(1, 200), overlap=0, bins=50, title='First-Grade')"
   ]
  },
  {
   "cell_type": "markdown",
   "metadata": {},
   "source": [
    "The 75th percentile for first-graders is zero for all disciplines, while they were nonzero for kindergarten. Perhaps there is an increasing emphasis placed on tests, at the expense of arts education."
   ]
  },
  {
   "cell_type": "markdown",
   "metadata": {},
   "source": [
    "### Q14 Arts Instructional Hours by Cultural Organizations, Second Grade"
   ]
  },
  {
   "cell_type": "code",
   "execution_count": 80,
   "metadata": {},
   "outputs": [
    {
     "data": {
      "text/plain": [
       "56"
      ]
     },
     "execution_count": 80,
     "metadata": {},
     "output_type": "execute_result"
    }
   ],
   "source": [
    "Q14 = [feature for feature in df.columns if feature.startswith('Q14')]\n",
    "len(Q14)"
   ]
  },
  {
   "cell_type": "markdown",
   "metadata": {},
   "source": [
    "There are 20 spaces in the input format pdf."
   ]
  },
  {
   "cell_type": "code",
   "execution_count": 81,
   "metadata": {},
   "outputs": [],
   "source": [
    "df_q14 = df[Q14]"
   ]
  },
  {
   "cell_type": "code",
   "execution_count": 82,
   "metadata": {
    "scrolled": true
   },
   "outputs": [
    {
     "name": "stdout",
     "output_type": "stream",
     "text": [
      "Q14_C1_R1 0.5122529644268775\n",
      "Q14_C1_R2 0.5122529644268775\n",
      "Q14_C1_R3 0.5122529644268775\n",
      "Q14_C1_R4 0.5122529644268775\n",
      "Q14_C2_R1 0.5027667984189723\n",
      "Q14_C2_R2 0.5027667984189723\n",
      "Q14_C2_R3 0.5027667984189723\n",
      "Q14_C2_R4 0.5027667984189723\n",
      "Q14_C3_R1 0.42924901185770753\n",
      "Q14_C3_R2 0.42924901185770753\n",
      "Q14_C3_R3 0.42924901185770753\n",
      "Q14_C3_R4 0.42924901185770753\n",
      "Q14_C4_R1 0.33280632411067196\n",
      "Q14_C4_R2 0.33280632411067196\n",
      "Q14_C4_R3 0.33280632411067196\n",
      "Q14_C4_R4 0.33280632411067196\n",
      "Q14_C5_R1 0.233201581027668\n",
      "Q14_C5_R2 0.233201581027668\n",
      "Q14_C5_R3 0.233201581027668\n",
      "Q14_C5_R4 0.233201581027668\n",
      "Q14_C6_R1 0.1383399209486166\n",
      "Q14_C6_R2 0.1383399209486166\n",
      "Q14_C6_R3 0.1383399209486166\n",
      "Q14_C6_R4 0.1383399209486166\n",
      "Q14_C7_R1 0.06561264822134387\n",
      "Q14_C7_R2 0.06561264822134387\n",
      "Q14_C7_R3 0.06561264822134387\n",
      "Q14_C7_R4 0.06561264822134387\n",
      "Q14_C8_R1 0.03557312252964427\n",
      "Q14_C8_R2 0.03557312252964427\n",
      "Q14_C8_R3 0.03557312252964427\n",
      "Q14_C8_R4 0.03557312252964427\n",
      "Q14_C9_R1 0.017391304347826087\n",
      "Q14_C9_R2 0.017391304347826087\n",
      "Q14_C9_R3 0.017391304347826087\n",
      "Q14_C9_R4 0.017391304347826087\n",
      "Q14_C10_R1 0.009486166007905139\n",
      "Q14_C10_R2 0.009486166007905139\n",
      "Q14_C10_R3 0.009486166007905139\n",
      "Q14_C10_R4 0.009486166007905139\n",
      "Q14_C11_R1 0.0031620553359683794\n",
      "Q14_C11_R2 0.0031620553359683794\n",
      "Q14_C11_R3 0.0031620553359683794\n",
      "Q14_C11_R4 0.0031620553359683794\n",
      "Q14_C12_R1 0.0015810276679841897\n",
      "Q14_C12_R2 0.0015810276679841897\n",
      "Q14_C12_R3 0.0015810276679841897\n",
      "Q14_C12_R4 0.0015810276679841897\n",
      "Q14_C13_R1 0.0015810276679841897\n",
      "Q14_C13_R2 0.0015810276679841897\n",
      "Q14_C13_R3 0.0015810276679841897\n",
      "Q14_C13_R4 0.0015810276679841897\n",
      "Q14_C14_R1 0.0007905138339920949\n",
      "Q14_C14_R2 0.0007905138339920949\n",
      "Q14_C14_R3 0.0007905138339920949\n",
      "Q14_C14_R4 0.0007905138339920949\n"
     ]
    }
   ],
   "source": [
    "for feature in Q14:\n",
    "    print(feature, df_q14[df_q14[feature].notna()].shape[0] / df_q14.shape[0])"
   ]
  },
  {
   "cell_type": "code",
   "execution_count": 83,
   "metadata": {},
   "outputs": [],
   "source": [
    "R1 = [feature for feature in Q14 if feature.endswith('R1')]\n",
    "R2 = [feature for feature in Q14 if feature.endswith('R2')]\n",
    "R3 = [feature for feature in Q14 if feature.endswith('R3')]\n",
    "R4 = [feature for feature in Q14 if feature.endswith('R4')]"
   ]
  },
  {
   "cell_type": "code",
   "execution_count": 84,
   "metadata": {},
   "outputs": [],
   "source": [
    "df['Q14_R1'] = df[R1].sum(axis=1) #Dance\n",
    "df['Q14_R2'] = df[R2].sum(axis=1) #Music\n",
    "df['Q14_R3'] = df[R3].sum(axis=1) #Theater\n",
    "df['Q14_R4'] = df[R4].sum(axis=1) #Visual Arts"
   ]
  },
  {
   "cell_type": "code",
   "execution_count": 85,
   "metadata": {
    "scrolled": true
   },
   "outputs": [
    {
     "data": {
      "text/html": [
       "<div>\n",
       "<style scoped>\n",
       "    .dataframe tbody tr th:only-of-type {\n",
       "        vertical-align: middle;\n",
       "    }\n",
       "\n",
       "    .dataframe tbody tr th {\n",
       "        vertical-align: top;\n",
       "    }\n",
       "\n",
       "    .dataframe thead th {\n",
       "        text-align: right;\n",
       "    }\n",
       "</style>\n",
       "<table border=\"1\" class=\"dataframe\">\n",
       "  <thead>\n",
       "    <tr style=\"text-align: right;\">\n",
       "      <th></th>\n",
       "      <th>Q14_R1</th>\n",
       "      <th>Q14_R2</th>\n",
       "      <th>Q14_R3</th>\n",
       "      <th>Q14_R4</th>\n",
       "    </tr>\n",
       "  </thead>\n",
       "  <tbody>\n",
       "    <tr>\n",
       "      <th>0</th>\n",
       "      <td>0.0</td>\n",
       "      <td>60.0</td>\n",
       "      <td>60.0</td>\n",
       "      <td>0.0</td>\n",
       "    </tr>\n",
       "    <tr>\n",
       "      <th>1</th>\n",
       "      <td>22.0</td>\n",
       "      <td>22.0</td>\n",
       "      <td>0.0</td>\n",
       "      <td>30.0</td>\n",
       "    </tr>\n",
       "    <tr>\n",
       "      <th>2</th>\n",
       "      <td>90.0</td>\n",
       "      <td>90.0</td>\n",
       "      <td>0.0</td>\n",
       "      <td>0.0</td>\n",
       "    </tr>\n",
       "    <tr>\n",
       "      <th>3</th>\n",
       "      <td>0.0</td>\n",
       "      <td>4.0</td>\n",
       "      <td>0.0</td>\n",
       "      <td>4.0</td>\n",
       "    </tr>\n",
       "    <tr>\n",
       "      <th>4</th>\n",
       "      <td>0.0</td>\n",
       "      <td>0.0</td>\n",
       "      <td>0.0</td>\n",
       "      <td>0.0</td>\n",
       "    </tr>\n",
       "  </tbody>\n",
       "</table>\n",
       "</div>"
      ],
      "text/plain": [
       "   Q14_R1  Q14_R2  Q14_R3  Q14_R4\n",
       "0     0.0    60.0    60.0     0.0\n",
       "1    22.0    22.0     0.0    30.0\n",
       "2    90.0    90.0     0.0     0.0\n",
       "3     0.0     4.0     0.0     4.0\n",
       "4     0.0     0.0     0.0     0.0"
      ]
     },
     "execution_count": 85,
     "metadata": {},
     "output_type": "execute_result"
    }
   ],
   "source": [
    "Q14_agg = [feature for feature in df.columns if feature.startswith('Q14_R')]\n",
    "df_q14 = df[Q14_agg]\n",
    "df_q14.head()"
   ]
  },
  {
   "cell_type": "code",
   "execution_count": 86,
   "metadata": {},
   "outputs": [
    {
     "data": {
      "text/html": [
       "<div>\n",
       "<style scoped>\n",
       "    .dataframe tbody tr th:only-of-type {\n",
       "        vertical-align: middle;\n",
       "    }\n",
       "\n",
       "    .dataframe tbody tr th {\n",
       "        vertical-align: top;\n",
       "    }\n",
       "\n",
       "    .dataframe thead th {\n",
       "        text-align: right;\n",
       "    }\n",
       "</style>\n",
       "<table border=\"1\" class=\"dataframe\">\n",
       "  <thead>\n",
       "    <tr style=\"text-align: right;\">\n",
       "      <th></th>\n",
       "      <th>Q14_R1</th>\n",
       "      <th>Q14_R2</th>\n",
       "      <th>Q14_R3</th>\n",
       "      <th>Q14_R4</th>\n",
       "    </tr>\n",
       "  </thead>\n",
       "  <tbody>\n",
       "    <tr>\n",
       "      <th>count</th>\n",
       "      <td>1265.000000</td>\n",
       "      <td>1265.000000</td>\n",
       "      <td>1265.000000</td>\n",
       "      <td>1265.000000</td>\n",
       "    </tr>\n",
       "    <tr>\n",
       "      <th>mean</th>\n",
       "      <td>44.021344</td>\n",
       "      <td>69.396838</td>\n",
       "      <td>41.991304</td>\n",
       "      <td>67.017391</td>\n",
       "    </tr>\n",
       "    <tr>\n",
       "      <th>std</th>\n",
       "      <td>641.365941</td>\n",
       "      <td>1059.511358</td>\n",
       "      <td>641.943209</td>\n",
       "      <td>1052.522998</td>\n",
       "    </tr>\n",
       "    <tr>\n",
       "      <th>min</th>\n",
       "      <td>0.000000</td>\n",
       "      <td>0.000000</td>\n",
       "      <td>0.000000</td>\n",
       "      <td>0.000000</td>\n",
       "    </tr>\n",
       "    <tr>\n",
       "      <th>25%</th>\n",
       "      <td>0.000000</td>\n",
       "      <td>0.000000</td>\n",
       "      <td>0.000000</td>\n",
       "      <td>0.000000</td>\n",
       "    </tr>\n",
       "    <tr>\n",
       "      <th>50%</th>\n",
       "      <td>0.000000</td>\n",
       "      <td>0.000000</td>\n",
       "      <td>0.000000</td>\n",
       "      <td>0.000000</td>\n",
       "    </tr>\n",
       "    <tr>\n",
       "      <th>75%</th>\n",
       "      <td>0.000000</td>\n",
       "      <td>0.000000</td>\n",
       "      <td>0.000000</td>\n",
       "      <td>0.000000</td>\n",
       "    </tr>\n",
       "    <tr>\n",
       "      <th>max</th>\n",
       "      <td>16920.000000</td>\n",
       "      <td>33840.000000</td>\n",
       "      <td>16920.000000</td>\n",
       "      <td>33840.000000</td>\n",
       "    </tr>\n",
       "  </tbody>\n",
       "</table>\n",
       "</div>"
      ],
      "text/plain": [
       "             Q14_R1        Q14_R2        Q14_R3        Q14_R4\n",
       "count   1265.000000   1265.000000   1265.000000   1265.000000\n",
       "mean      44.021344     69.396838     41.991304     67.017391\n",
       "std      641.365941   1059.511358    641.943209   1052.522998\n",
       "min        0.000000      0.000000      0.000000      0.000000\n",
       "25%        0.000000      0.000000      0.000000      0.000000\n",
       "50%        0.000000      0.000000      0.000000      0.000000\n",
       "75%        0.000000      0.000000      0.000000      0.000000\n",
       "max    16920.000000  33840.000000  16920.000000  33840.000000"
      ]
     },
     "execution_count": 86,
     "metadata": {},
     "output_type": "execute_result"
    }
   ],
   "source": [
    "df_q14.describe()"
   ]
  },
  {
   "cell_type": "markdown",
   "metadata": {},
   "source": [
    "Again we see some outliers and they turn out to originate from the same school as before **plus** another school with the same large entry for every discipline. I am confident that there is a data entry error."
   ]
  },
  {
   "cell_type": "code",
   "execution_count": 87,
   "metadata": {},
   "outputs": [
    {
     "data": {
      "text/html": [
       "<div>\n",
       "<style scoped>\n",
       "    .dataframe tbody tr th:only-of-type {\n",
       "        vertical-align: middle;\n",
       "    }\n",
       "\n",
       "    .dataframe tbody tr th {\n",
       "        vertical-align: top;\n",
       "    }\n",
       "\n",
       "    .dataframe thead th {\n",
       "        text-align: right;\n",
       "    }\n",
       "</style>\n",
       "<table border=\"1\" class=\"dataframe\">\n",
       "  <thead>\n",
       "    <tr style=\"text-align: right;\">\n",
       "      <th></th>\n",
       "      <th>Q14_R1</th>\n",
       "      <th>Q14_R2</th>\n",
       "      <th>Q14_R3</th>\n",
       "      <th>Q14_R4</th>\n",
       "    </tr>\n",
       "  </thead>\n",
       "  <tbody>\n",
       "    <tr>\n",
       "      <th>514</th>\n",
       "      <td>16920.0</td>\n",
       "      <td>33840.0</td>\n",
       "      <td>16920.0</td>\n",
       "      <td>33840.0</td>\n",
       "    </tr>\n",
       "    <tr>\n",
       "      <th>973</th>\n",
       "      <td>15000.0</td>\n",
       "      <td>15000.0</td>\n",
       "      <td>15000.0</td>\n",
       "      <td>15000.0</td>\n",
       "    </tr>\n",
       "  </tbody>\n",
       "</table>\n",
       "</div>"
      ],
      "text/plain": [
       "      Q14_R1   Q14_R2   Q14_R3   Q14_R4\n",
       "514  16920.0  33840.0  16920.0  33840.0\n",
       "973  15000.0  15000.0  15000.0  15000.0"
      ]
     },
     "execution_count": 87,
     "metadata": {},
     "output_type": "execute_result"
    }
   ],
   "source": [
    "df_q14[df_q14['Q14_R1'] > 10000]"
   ]
  },
  {
   "cell_type": "code",
   "execution_count": 88,
   "metadata": {
    "scrolled": true
   },
   "outputs": [
    {
     "data": {
      "text/html": [
       "<div>\n",
       "<style scoped>\n",
       "    .dataframe tbody tr th:only-of-type {\n",
       "        vertical-align: middle;\n",
       "    }\n",
       "\n",
       "    .dataframe tbody tr th {\n",
       "        vertical-align: top;\n",
       "    }\n",
       "\n",
       "    .dataframe thead th {\n",
       "        text-align: right;\n",
       "    }\n",
       "</style>\n",
       "<table border=\"1\" class=\"dataframe\">\n",
       "  <thead>\n",
       "    <tr style=\"text-align: right;\">\n",
       "      <th></th>\n",
       "      <th>Q0_DBN</th>\n",
       "      <th>Q1_1</th>\n",
       "      <th>Q1_2</th>\n",
       "      <th>Q1_3</th>\n",
       "      <th>Q2_1</th>\n",
       "      <th>Q3_1</th>\n",
       "      <th>Q3_2</th>\n",
       "      <th>Q3_3</th>\n",
       "      <th>Q3_4</th>\n",
       "      <th>Q4_1</th>\n",
       "      <th>...</th>\n",
       "      <th>Q48_2</th>\n",
       "      <th>Q48_3</th>\n",
       "      <th>Q13_R1</th>\n",
       "      <th>Q13_R2</th>\n",
       "      <th>Q13_R3</th>\n",
       "      <th>Q13_R4</th>\n",
       "      <th>Q14_R1</th>\n",
       "      <th>Q14_R2</th>\n",
       "      <th>Q14_R3</th>\n",
       "      <th>Q14_R4</th>\n",
       "    </tr>\n",
       "  </thead>\n",
       "  <tbody>\n",
       "    <tr>\n",
       "      <th>514</th>\n",
       "      <td>12X691</td>\n",
       "      <td>Kathelyn</td>\n",
       "      <td>ovalles</td>\n",
       "      <td>Kovalles@schools.nyc.gov</td>\n",
       "      <td>0</td>\n",
       "      <td>0</td>\n",
       "      <td>1</td>\n",
       "      <td>0</td>\n",
       "      <td>0</td>\n",
       "      <td>0</td>\n",
       "      <td>...</td>\n",
       "      <td>Principal</td>\n",
       "      <td>burquiza@schools.nyc.gov</td>\n",
       "      <td>16920.0</td>\n",
       "      <td>33840.0</td>\n",
       "      <td>16920.0</td>\n",
       "      <td>33840.0</td>\n",
       "      <td>16920.0</td>\n",
       "      <td>33840.0</td>\n",
       "      <td>16920.0</td>\n",
       "      <td>33840.0</td>\n",
       "    </tr>\n",
       "    <tr>\n",
       "      <th>973</th>\n",
       "      <td>27Q056</td>\n",
       "      <td>Deana</td>\n",
       "      <td>Rinaldi</td>\n",
       "      <td>drinaldi@SCHOOLS.NYC.GOV</td>\n",
       "      <td>0</td>\n",
       "      <td>0</td>\n",
       "      <td>1</td>\n",
       "      <td>0</td>\n",
       "      <td>0</td>\n",
       "      <td>0</td>\n",
       "      <td>...</td>\n",
       "      <td>Assistant Principal</td>\n",
       "      <td>drinaldi@schools.nyc.gov</td>\n",
       "      <td>0.0</td>\n",
       "      <td>0.0</td>\n",
       "      <td>0.0</td>\n",
       "      <td>0.0</td>\n",
       "      <td>15000.0</td>\n",
       "      <td>15000.0</td>\n",
       "      <td>15000.0</td>\n",
       "      <td>15000.0</td>\n",
       "    </tr>\n",
       "  </tbody>\n",
       "</table>\n",
       "<p>2 rows × 678 columns</p>\n",
       "</div>"
      ],
      "text/plain": [
       "     Q0_DBN      Q1_1     Q1_2                      Q1_3  Q2_1  Q3_1  Q3_2  \\\n",
       "514  12X691  Kathelyn  ovalles  Kovalles@schools.nyc.gov     0     0     1   \n",
       "973  27Q056     Deana  Rinaldi  drinaldi@SCHOOLS.NYC.GOV     0     0     1   \n",
       "\n",
       "     Q3_3  Q3_4  Q4_1   ...                   Q48_2                     Q48_3  \\\n",
       "514     0     0     0   ...               Principal  burquiza@schools.nyc.gov   \n",
       "973     0     0     0   ...     Assistant Principal  drinaldi@schools.nyc.gov   \n",
       "\n",
       "      Q13_R1   Q13_R2   Q13_R3   Q13_R4   Q14_R1   Q14_R2   Q14_R3   Q14_R4  \n",
       "514  16920.0  33840.0  16920.0  33840.0  16920.0  33840.0  16920.0  33840.0  \n",
       "973      0.0      0.0      0.0      0.0  15000.0  15000.0  15000.0  15000.0  \n",
       "\n",
       "[2 rows x 678 columns]"
      ]
     },
     "execution_count": 88,
     "metadata": {},
     "output_type": "execute_result"
    }
   ],
   "source": [
    "df[df_q14['Q14_R1'] > 10000]"
   ]
  },
  {
   "cell_type": "code",
   "execution_count": 89,
   "metadata": {},
   "outputs": [],
   "source": [
    "df_q14 = df_q14[df_q14['Q14_R1'] < 10000]\n",
    "disc_map = {df_q14.columns[i]: disciplines[i] for i in range(4)}\n",
    "df_q14.rename(index=str, columns=disc_map, inplace=True)"
   ]
  },
  {
   "cell_type": "code",
   "execution_count": 90,
   "metadata": {},
   "outputs": [
    {
     "data": {
      "image/png": "[encoded data removed]",
      "text/plain": [
       "<Figure size 432x288 with 5 Axes>"
      ]
     },
     "metadata": {},
     "output_type": "display_data"
    }
   ],
   "source": [
    "fig, ax = joypy.joyplot(df_q14, hist=True, x_range=(1, 200), overlap=0, bins=50, title='Second-Grade')"
   ]
  },
  {
   "cell_type": "markdown",
   "metadata": {},
   "source": [
    "**TODO** Compare hours by school and by grade, ie do schools tend devote more hours to younger students or older?"
   ]
  },
  {
   "cell_type": "markdown",
   "metadata": {},
   "source": [
    "### Q15 Arts Instructional Hours by Cultural Organizations, Third Grade"
   ]
  },
  {
   "cell_type": "code",
   "execution_count": 91,
   "metadata": {},
   "outputs": [
    {
     "data": {
      "text/plain": [
       "56"
      ]
     },
     "execution_count": 91,
     "metadata": {},
     "output_type": "execute_result"
    }
   ],
   "source": [
    "Q15 = [feature for feature in df.columns if feature.startswith('Q15')]\n",
    "len(Q15)"
   ]
  },
  {
   "cell_type": "markdown",
   "metadata": {},
   "source": [
    "There are 20 spaces in the input format pdf."
   ]
  },
  {
   "cell_type": "code",
   "execution_count": 92,
   "metadata": {
    "scrolled": true
   },
   "outputs": [
    {
     "name": "stdout",
     "output_type": "stream",
     "text": [
      "Q15_C1_R1 0.5059288537549407\n",
      "Q15_C1_R2 0.5059288537549407\n",
      "Q15_C1_R3 0.5059288537549407\n",
      "Q15_C1_R4 0.5059288537549407\n",
      "Q15_C2_R1 0.4956521739130435\n",
      "Q15_C2_R2 0.4956521739130435\n",
      "Q15_C2_R3 0.4956521739130435\n",
      "Q15_C2_R4 0.4956521739130435\n",
      "Q15_C3_R1 0.4308300395256917\n",
      "Q15_C3_R2 0.4308300395256917\n",
      "Q15_C3_R3 0.4308300395256917\n",
      "Q15_C3_R4 0.4308300395256917\n",
      "Q15_C4_R1 0.32727272727272727\n",
      "Q15_C4_R2 0.32727272727272727\n",
      "Q15_C4_R3 0.32727272727272727\n",
      "Q15_C4_R4 0.32727272727272727\n",
      "Q15_C5_R1 0.2158102766798419\n",
      "Q15_C5_R2 0.2158102766798419\n",
      "Q15_C5_R3 0.2158102766798419\n",
      "Q15_C5_R4 0.2158102766798419\n",
      "Q15_C6_R1 0.1391304347826087\n",
      "Q15_C6_R2 0.1391304347826087\n",
      "Q15_C6_R3 0.1391304347826087\n",
      "Q15_C6_R4 0.1391304347826087\n",
      "Q15_C7_R1 0.08142292490118577\n",
      "Q15_C7_R2 0.08142292490118577\n",
      "Q15_C7_R3 0.08142292490118577\n",
      "Q15_C7_R4 0.08142292490118577\n",
      "Q15_C8_R1 0.045059288537549404\n",
      "Q15_C8_R2 0.045059288537549404\n",
      "Q15_C8_R3 0.045059288537549404\n",
      "Q15_C8_R4 0.045059288537549404\n",
      "Q15_C9_R1 0.02450592885375494\n",
      "Q15_C9_R2 0.02450592885375494\n",
      "Q15_C9_R3 0.02450592885375494\n",
      "Q15_C9_R4 0.02450592885375494\n",
      "Q15_C10_R1 0.012648221343873518\n",
      "Q15_C10_R2 0.012648221343873518\n",
      "Q15_C10_R3 0.012648221343873518\n",
      "Q15_C10_R4 0.012648221343873518\n",
      "Q15_C11_R1 0.0071146245059288534\n",
      "Q15_C11_R2 0.0071146245059288534\n",
      "Q15_C11_R3 0.0071146245059288534\n",
      "Q15_C11_R4 0.0071146245059288534\n",
      "Q15_C12_R1 0.005533596837944664\n",
      "Q15_C12_R2 0.005533596837944664\n",
      "Q15_C12_R3 0.005533596837944664\n",
      "Q15_C12_R4 0.005533596837944664\n",
      "Q15_C13_R1 0.0023715415019762848\n",
      "Q15_C13_R2 0.0023715415019762848\n",
      "Q15_C13_R3 0.0023715415019762848\n",
      "Q15_C13_R4 0.0023715415019762848\n",
      "Q15_C14_R1 0.0015810276679841897\n",
      "Q15_C14_R2 0.0015810276679841897\n",
      "Q15_C14_R3 0.0015810276679841897\n",
      "Q15_C14_R4 0.0015810276679841897\n"
     ]
    }
   ],
   "source": [
    "df_q15 = df[Q15]\n",
    "for feature in Q15:\n",
    "    print(feature, df_q15[df_q15[feature].notna()].shape[0] / df_q15.shape[0])"
   ]
  },
  {
   "cell_type": "code",
   "execution_count": 93,
   "metadata": {},
   "outputs": [],
   "source": [
    "R1 = [feature for feature in Q15 if feature.endswith('R1')]\n",
    "R2 = [feature for feature in Q15 if feature.endswith('R2')]\n",
    "R3 = [feature for feature in Q15 if feature.endswith('R3')]\n",
    "R4 = [feature for feature in Q15 if feature.endswith('R4')]"
   ]
  },
  {
   "cell_type": "code",
   "execution_count": 94,
   "metadata": {},
   "outputs": [],
   "source": [
    "df['Q15_R1'] = df[R1].sum(axis=1) #Dance\n",
    "df['Q15_R2'] = df[R2].sum(axis=1) #Music\n",
    "df['Q15_R3'] = df[R3].sum(axis=1) #Theater\n",
    "df['Q15_R4'] = df[R4].sum(axis=1) #Visual Arts"
   ]
  },
  {
   "cell_type": "code",
   "execution_count": 95,
   "metadata": {
    "scrolled": true
   },
   "outputs": [
    {
     "data": {
      "text/html": [
       "<div>\n",
       "<style scoped>\n",
       "    .dataframe tbody tr th:only-of-type {\n",
       "        vertical-align: middle;\n",
       "    }\n",
       "\n",
       "    .dataframe tbody tr th {\n",
       "        vertical-align: top;\n",
       "    }\n",
       "\n",
       "    .dataframe thead th {\n",
       "        text-align: right;\n",
       "    }\n",
       "</style>\n",
       "<table border=\"1\" class=\"dataframe\">\n",
       "  <thead>\n",
       "    <tr style=\"text-align: right;\">\n",
       "      <th></th>\n",
       "      <th>Q15_R1</th>\n",
       "      <th>Q15_R2</th>\n",
       "      <th>Q15_R3</th>\n",
       "      <th>Q15_R4</th>\n",
       "    </tr>\n",
       "  </thead>\n",
       "  <tbody>\n",
       "    <tr>\n",
       "      <th>0</th>\n",
       "      <td>0.0</td>\n",
       "      <td>60.0</td>\n",
       "      <td>20.0</td>\n",
       "      <td>0.0</td>\n",
       "    </tr>\n",
       "    <tr>\n",
       "      <th>1</th>\n",
       "      <td>208.0</td>\n",
       "      <td>48.0</td>\n",
       "      <td>0.0</td>\n",
       "      <td>40.0</td>\n",
       "    </tr>\n",
       "    <tr>\n",
       "      <th>2</th>\n",
       "      <td>60.0</td>\n",
       "      <td>60.0</td>\n",
       "      <td>0.0</td>\n",
       "      <td>0.0</td>\n",
       "    </tr>\n",
       "    <tr>\n",
       "      <th>3</th>\n",
       "      <td>0.0</td>\n",
       "      <td>4.0</td>\n",
       "      <td>0.0</td>\n",
       "      <td>4.0</td>\n",
       "    </tr>\n",
       "    <tr>\n",
       "      <th>4</th>\n",
       "      <td>0.0</td>\n",
       "      <td>0.0</td>\n",
       "      <td>0.0</td>\n",
       "      <td>30.0</td>\n",
       "    </tr>\n",
       "  </tbody>\n",
       "</table>\n",
       "</div>"
      ],
      "text/plain": [
       "   Q15_R1  Q15_R2  Q15_R3  Q15_R4\n",
       "0     0.0    60.0    20.0     0.0\n",
       "1   208.0    48.0     0.0    40.0\n",
       "2    60.0    60.0     0.0     0.0\n",
       "3     0.0     4.0     0.0     4.0\n",
       "4     0.0     0.0     0.0    30.0"
      ]
     },
     "execution_count": 95,
     "metadata": {},
     "output_type": "execute_result"
    }
   ],
   "source": [
    "Q15_agg = [feature for feature in df.columns if feature.startswith('Q15_R')]\n",
    "df_q15 = df[Q15_agg]\n",
    "df_q15.head()"
   ]
  },
  {
   "cell_type": "code",
   "execution_count": 96,
   "metadata": {},
   "outputs": [
    {
     "data": {
      "text/html": [
       "<div>\n",
       "<style scoped>\n",
       "    .dataframe tbody tr th:only-of-type {\n",
       "        vertical-align: middle;\n",
       "    }\n",
       "\n",
       "    .dataframe tbody tr th {\n",
       "        vertical-align: top;\n",
       "    }\n",
       "\n",
       "    .dataframe thead th {\n",
       "        text-align: right;\n",
       "    }\n",
       "</style>\n",
       "<table border=\"1\" class=\"dataframe\">\n",
       "  <thead>\n",
       "    <tr style=\"text-align: right;\">\n",
       "      <th></th>\n",
       "      <th>Q15_R1</th>\n",
       "      <th>Q15_R2</th>\n",
       "      <th>Q15_R3</th>\n",
       "      <th>Q15_R4</th>\n",
       "    </tr>\n",
       "  </thead>\n",
       "  <tbody>\n",
       "    <tr>\n",
       "      <th>count</th>\n",
       "      <td>1265.000000</td>\n",
       "      <td>1265.000000</td>\n",
       "      <td>1265.000000</td>\n",
       "      <td>1265.000000</td>\n",
       "    </tr>\n",
       "    <tr>\n",
       "      <th>mean</th>\n",
       "      <td>42.711462</td>\n",
       "      <td>64.600000</td>\n",
       "      <td>42.800000</td>\n",
       "      <td>65.456126</td>\n",
       "    </tr>\n",
       "    <tr>\n",
       "      <th>std</th>\n",
       "      <td>618.294044</td>\n",
       "      <td>1021.802748</td>\n",
       "      <td>627.019478</td>\n",
       "      <td>1026.057429</td>\n",
       "    </tr>\n",
       "    <tr>\n",
       "      <th>min</th>\n",
       "      <td>0.000000</td>\n",
       "      <td>0.000000</td>\n",
       "      <td>0.000000</td>\n",
       "      <td>0.000000</td>\n",
       "    </tr>\n",
       "    <tr>\n",
       "      <th>25%</th>\n",
       "      <td>0.000000</td>\n",
       "      <td>0.000000</td>\n",
       "      <td>0.000000</td>\n",
       "      <td>0.000000</td>\n",
       "    </tr>\n",
       "    <tr>\n",
       "      <th>50%</th>\n",
       "      <td>0.000000</td>\n",
       "      <td>0.000000</td>\n",
       "      <td>0.000000</td>\n",
       "      <td>0.000000</td>\n",
       "    </tr>\n",
       "    <tr>\n",
       "      <th>75%</th>\n",
       "      <td>0.000000</td>\n",
       "      <td>0.000000</td>\n",
       "      <td>0.000000</td>\n",
       "      <td>0.000000</td>\n",
       "    </tr>\n",
       "    <tr>\n",
       "      <th>max</th>\n",
       "      <td>18120.000000</td>\n",
       "      <td>33840.000000</td>\n",
       "      <td>18120.000000</td>\n",
       "      <td>33840.000000</td>\n",
       "    </tr>\n",
       "  </tbody>\n",
       "</table>\n",
       "</div>"
      ],
      "text/plain": [
       "             Q15_R1        Q15_R2        Q15_R3        Q15_R4\n",
       "count   1265.000000   1265.000000   1265.000000   1265.000000\n",
       "mean      42.711462     64.600000     42.800000     65.456126\n",
       "std      618.294044   1021.802748    627.019478   1026.057429\n",
       "min        0.000000      0.000000      0.000000      0.000000\n",
       "25%        0.000000      0.000000      0.000000      0.000000\n",
       "50%        0.000000      0.000000      0.000000      0.000000\n",
       "75%        0.000000      0.000000      0.000000      0.000000\n",
       "max    18120.000000  33840.000000  18120.000000  33840.000000"
      ]
     },
     "execution_count": 96,
     "metadata": {},
     "output_type": "execute_result"
    }
   ],
   "source": [
    "df_q15.describe()"
   ]
  },
  {
   "cell_type": "markdown",
   "metadata": {},
   "source": [
    "Again we see some outliers and they turn out to originate from the same school as before **plus** another school with the same large entry for every discipline. I am confident that there is a data entry error."
   ]
  },
  {
   "cell_type": "code",
   "execution_count": 97,
   "metadata": {},
   "outputs": [
    {
     "data": {
      "text/html": [
       "<div>\n",
       "<style scoped>\n",
       "    .dataframe tbody tr th:only-of-type {\n",
       "        vertical-align: middle;\n",
       "    }\n",
       "\n",
       "    .dataframe tbody tr th {\n",
       "        vertical-align: top;\n",
       "    }\n",
       "\n",
       "    .dataframe thead th {\n",
       "        text-align: right;\n",
       "    }\n",
       "</style>\n",
       "<table border=\"1\" class=\"dataframe\">\n",
       "  <thead>\n",
       "    <tr style=\"text-align: right;\">\n",
       "      <th></th>\n",
       "      <th>Q15_R1</th>\n",
       "      <th>Q15_R2</th>\n",
       "      <th>Q15_R3</th>\n",
       "      <th>Q15_R4</th>\n",
       "    </tr>\n",
       "  </thead>\n",
       "  <tbody>\n",
       "    <tr>\n",
       "      <th>514</th>\n",
       "      <td>18120.0</td>\n",
       "      <td>33840.0</td>\n",
       "      <td>18120.0</td>\n",
       "      <td>33840.0</td>\n",
       "    </tr>\n",
       "    <tr>\n",
       "      <th>973</th>\n",
       "      <td>12000.0</td>\n",
       "      <td>12000.0</td>\n",
       "      <td>12000.0</td>\n",
       "      <td>12000.0</td>\n",
       "    </tr>\n",
       "  </tbody>\n",
       "</table>\n",
       "</div>"
      ],
      "text/plain": [
       "      Q15_R1   Q15_R2   Q15_R3   Q15_R4\n",
       "514  18120.0  33840.0  18120.0  33840.0\n",
       "973  12000.0  12000.0  12000.0  12000.0"
      ]
     },
     "execution_count": 97,
     "metadata": {},
     "output_type": "execute_result"
    }
   ],
   "source": [
    "df_q15[df_q15['Q15_R1'] > 10000]"
   ]
  },
  {
   "cell_type": "code",
   "execution_count": 98,
   "metadata": {
    "scrolled": true
   },
   "outputs": [
    {
     "data": {
      "text/html": [
       "<div>\n",
       "<style scoped>\n",
       "    .dataframe tbody tr th:only-of-type {\n",
       "        vertical-align: middle;\n",
       "    }\n",
       "\n",
       "    .dataframe tbody tr th {\n",
       "        vertical-align: top;\n",
       "    }\n",
       "\n",
       "    .dataframe thead th {\n",
       "        text-align: right;\n",
       "    }\n",
       "</style>\n",
       "<table border=\"1\" class=\"dataframe\">\n",
       "  <thead>\n",
       "    <tr style=\"text-align: right;\">\n",
       "      <th></th>\n",
       "      <th>Q0_DBN</th>\n",
       "      <th>Q1_1</th>\n",
       "      <th>Q1_2</th>\n",
       "      <th>Q1_3</th>\n",
       "      <th>Q2_1</th>\n",
       "      <th>Q3_1</th>\n",
       "      <th>Q3_2</th>\n",
       "      <th>Q3_3</th>\n",
       "      <th>Q3_4</th>\n",
       "      <th>Q4_1</th>\n",
       "      <th>...</th>\n",
       "      <th>Q13_R3</th>\n",
       "      <th>Q13_R4</th>\n",
       "      <th>Q14_R1</th>\n",
       "      <th>Q14_R2</th>\n",
       "      <th>Q14_R3</th>\n",
       "      <th>Q14_R4</th>\n",
       "      <th>Q15_R1</th>\n",
       "      <th>Q15_R2</th>\n",
       "      <th>Q15_R3</th>\n",
       "      <th>Q15_R4</th>\n",
       "    </tr>\n",
       "  </thead>\n",
       "  <tbody>\n",
       "    <tr>\n",
       "      <th>514</th>\n",
       "      <td>12X691</td>\n",
       "      <td>Kathelyn</td>\n",
       "      <td>ovalles</td>\n",
       "      <td>Kovalles@schools.nyc.gov</td>\n",
       "      <td>0</td>\n",
       "      <td>0</td>\n",
       "      <td>1</td>\n",
       "      <td>0</td>\n",
       "      <td>0</td>\n",
       "      <td>0</td>\n",
       "      <td>...</td>\n",
       "      <td>16920.0</td>\n",
       "      <td>33840.0</td>\n",
       "      <td>16920.0</td>\n",
       "      <td>33840.0</td>\n",
       "      <td>16920.0</td>\n",
       "      <td>33840.0</td>\n",
       "      <td>18120.0</td>\n",
       "      <td>33840.0</td>\n",
       "      <td>18120.0</td>\n",
       "      <td>33840.0</td>\n",
       "    </tr>\n",
       "    <tr>\n",
       "      <th>973</th>\n",
       "      <td>27Q056</td>\n",
       "      <td>Deana</td>\n",
       "      <td>Rinaldi</td>\n",
       "      <td>drinaldi@SCHOOLS.NYC.GOV</td>\n",
       "      <td>0</td>\n",
       "      <td>0</td>\n",
       "      <td>1</td>\n",
       "      <td>0</td>\n",
       "      <td>0</td>\n",
       "      <td>0</td>\n",
       "      <td>...</td>\n",
       "      <td>0.0</td>\n",
       "      <td>0.0</td>\n",
       "      <td>15000.0</td>\n",
       "      <td>15000.0</td>\n",
       "      <td>15000.0</td>\n",
       "      <td>15000.0</td>\n",
       "      <td>12000.0</td>\n",
       "      <td>12000.0</td>\n",
       "      <td>12000.0</td>\n",
       "      <td>12000.0</td>\n",
       "    </tr>\n",
       "  </tbody>\n",
       "</table>\n",
       "<p>2 rows × 682 columns</p>\n",
       "</div>"
      ],
      "text/plain": [
       "     Q0_DBN      Q1_1     Q1_2                      Q1_3  Q2_1  Q3_1  Q3_2  \\\n",
       "514  12X691  Kathelyn  ovalles  Kovalles@schools.nyc.gov     0     0     1   \n",
       "973  27Q056     Deana  Rinaldi  drinaldi@SCHOOLS.NYC.GOV     0     0     1   \n",
       "\n",
       "     Q3_3  Q3_4  Q4_1   ...      Q13_R3   Q13_R4   Q14_R1   Q14_R2   Q14_R3  \\\n",
       "514     0     0     0   ...     16920.0  33840.0  16920.0  33840.0  16920.0   \n",
       "973     0     0     0   ...         0.0      0.0  15000.0  15000.0  15000.0   \n",
       "\n",
       "      Q14_R4   Q15_R1   Q15_R2   Q15_R3   Q15_R4  \n",
       "514  33840.0  18120.0  33840.0  18120.0  33840.0  \n",
       "973  15000.0  12000.0  12000.0  12000.0  12000.0  \n",
       "\n",
       "[2 rows x 682 columns]"
      ]
     },
     "execution_count": 98,
     "metadata": {},
     "output_type": "execute_result"
    }
   ],
   "source": [
    "df[df_q15['Q15_R1'] > 10000]"
   ]
  },
  {
   "cell_type": "code",
   "execution_count": 99,
   "metadata": {},
   "outputs": [],
   "source": [
    "df_q15 = df_q15[df_q15['Q15_R1'] < 10000]\n",
    "disc_map = {df_q15.columns[i]: disciplines[i] for i in range(4)}\n",
    "df_q15.rename(index=str, columns=disc_map, inplace=True)"
   ]
  },
  {
   "cell_type": "code",
   "execution_count": 100,
   "metadata": {},
   "outputs": [
    {
     "data": {
      "image/png": "[encoded data removed]",
      "text/plain": [
       "<Figure size 432x288 with 5 Axes>"
      ]
     },
     "metadata": {},
     "output_type": "display_data"
    }
   ],
   "source": [
    "fig, ax = joypy.joyplot(df_q15, hist=True, x_range=(1, 200), overlap=0, bins=50, title='Third-Grade')"
   ]
  },
  {
   "cell_type": "markdown",
   "metadata": {},
   "source": [
    "### Q16 Arts Instructional Hours by Cultural Organizations, Fourth Grade"
   ]
  },
  {
   "cell_type": "code",
   "execution_count": 101,
   "metadata": {},
   "outputs": [
    {
     "data": {
      "text/plain": [
       "56"
      ]
     },
     "execution_count": 101,
     "metadata": {},
     "output_type": "execute_result"
    }
   ],
   "source": [
    "Q16 = [feature for feature in df.columns if feature.startswith('Q16')]\n",
    "len(Q16)"
   ]
  },
  {
   "cell_type": "markdown",
   "metadata": {},
   "source": [
    "There are 20 spaces in the input format pdf."
   ]
  },
  {
   "cell_type": "code",
   "execution_count": 102,
   "metadata": {},
   "outputs": [],
   "source": [
    "R1 = [feature for feature in Q16 if feature.endswith('R1')]\n",
    "R2 = [feature for feature in Q16 if feature.endswith('R2')]\n",
    "R3 = [feature for feature in Q16 if feature.endswith('R3')]\n",
    "R4 = [feature for feature in Q16 if feature.endswith('R4')]"
   ]
  },
  {
   "cell_type": "code",
   "execution_count": 103,
   "metadata": {},
   "outputs": [],
   "source": [
    "df['Q16_R1'] = df[R1].sum(axis=1) #Dance\n",
    "df['Q16_R2'] = df[R2].sum(axis=1) #Music\n",
    "df['Q16_R3'] = df[R3].sum(axis=1) #Theater\n",
    "df['Q16_R4'] = df[R4].sum(axis=1) #Visual Arts"
   ]
  },
  {
   "cell_type": "code",
   "execution_count": 104,
   "metadata": {
    "scrolled": true
   },
   "outputs": [
    {
     "data": {
      "text/html": [
       "<div>\n",
       "<style scoped>\n",
       "    .dataframe tbody tr th:only-of-type {\n",
       "        vertical-align: middle;\n",
       "    }\n",
       "\n",
       "    .dataframe tbody tr th {\n",
       "        vertical-align: top;\n",
       "    }\n",
       "\n",
       "    .dataframe thead th {\n",
       "        text-align: right;\n",
       "    }\n",
       "</style>\n",
       "<table border=\"1\" class=\"dataframe\">\n",
       "  <thead>\n",
       "    <tr style=\"text-align: right;\">\n",
       "      <th></th>\n",
       "      <th>Q16_R1</th>\n",
       "      <th>Q16_R2</th>\n",
       "      <th>Q16_R3</th>\n",
       "      <th>Q16_R4</th>\n",
       "    </tr>\n",
       "  </thead>\n",
       "  <tbody>\n",
       "    <tr>\n",
       "      <th>0</th>\n",
       "      <td>0.0</td>\n",
       "      <td>60.0</td>\n",
       "      <td>20.0</td>\n",
       "      <td>0.0</td>\n",
       "    </tr>\n",
       "    <tr>\n",
       "      <th>1</th>\n",
       "      <td>208.0</td>\n",
       "      <td>48.0</td>\n",
       "      <td>0.0</td>\n",
       "      <td>40.0</td>\n",
       "    </tr>\n",
       "    <tr>\n",
       "      <th>2</th>\n",
       "      <td>120.0</td>\n",
       "      <td>120.0</td>\n",
       "      <td>0.0</td>\n",
       "      <td>0.0</td>\n",
       "    </tr>\n",
       "    <tr>\n",
       "      <th>3</th>\n",
       "      <td>0.0</td>\n",
       "      <td>4.0</td>\n",
       "      <td>0.0</td>\n",
       "      <td>4.0</td>\n",
       "    </tr>\n",
       "    <tr>\n",
       "      <th>4</th>\n",
       "      <td>15.0</td>\n",
       "      <td>0.0</td>\n",
       "      <td>0.0</td>\n",
       "      <td>0.0</td>\n",
       "    </tr>\n",
       "  </tbody>\n",
       "</table>\n",
       "</div>"
      ],
      "text/plain": [
       "   Q16_R1  Q16_R2  Q16_R3  Q16_R4\n",
       "0     0.0    60.0    20.0     0.0\n",
       "1   208.0    48.0     0.0    40.0\n",
       "2   120.0   120.0     0.0     0.0\n",
       "3     0.0     4.0     0.0     4.0\n",
       "4    15.0     0.0     0.0     0.0"
      ]
     },
     "execution_count": 104,
     "metadata": {},
     "output_type": "execute_result"
    }
   ],
   "source": [
    "Q16_agg = [feature for feature in df.columns if feature.startswith('Q16_R')]\n",
    "df_q16 = df[Q16_agg]\n",
    "df_q16.head()"
   ]
  },
  {
   "cell_type": "code",
   "execution_count": 105,
   "metadata": {},
   "outputs": [
    {
     "data": {
      "text/html": [
       "<div>\n",
       "<style scoped>\n",
       "    .dataframe tbody tr th:only-of-type {\n",
       "        vertical-align: middle;\n",
       "    }\n",
       "\n",
       "    .dataframe tbody tr th {\n",
       "        vertical-align: top;\n",
       "    }\n",
       "\n",
       "    .dataframe thead th {\n",
       "        text-align: right;\n",
       "    }\n",
       "</style>\n",
       "<table border=\"1\" class=\"dataframe\">\n",
       "  <thead>\n",
       "    <tr style=\"text-align: right;\">\n",
       "      <th></th>\n",
       "      <th>Q16_R1</th>\n",
       "      <th>Q16_R2</th>\n",
       "      <th>Q16_R3</th>\n",
       "      <th>Q16_R4</th>\n",
       "    </tr>\n",
       "  </thead>\n",
       "  <tbody>\n",
       "    <tr>\n",
       "      <th>count</th>\n",
       "      <td>1265.000000</td>\n",
       "      <td>1265.000000</td>\n",
       "      <td>1265.000000</td>\n",
       "      <td>1265.000000</td>\n",
       "    </tr>\n",
       "    <tr>\n",
       "      <th>mean</th>\n",
       "      <td>76.555731</td>\n",
       "      <td>76.879051</td>\n",
       "      <td>54.571542</td>\n",
       "      <td>60.833202</td>\n",
       "    </tr>\n",
       "    <tr>\n",
       "      <th>std</th>\n",
       "      <td>1572.517781</td>\n",
       "      <td>1574.129461</td>\n",
       "      <td>1016.339224</td>\n",
       "      <td>664.424497</td>\n",
       "    </tr>\n",
       "    <tr>\n",
       "      <th>min</th>\n",
       "      <td>0.000000</td>\n",
       "      <td>0.000000</td>\n",
       "      <td>0.000000</td>\n",
       "      <td>0.000000</td>\n",
       "    </tr>\n",
       "    <tr>\n",
       "      <th>25%</th>\n",
       "      <td>0.000000</td>\n",
       "      <td>0.000000</td>\n",
       "      <td>0.000000</td>\n",
       "      <td>0.000000</td>\n",
       "    </tr>\n",
       "    <tr>\n",
       "      <th>50%</th>\n",
       "      <td>0.000000</td>\n",
       "      <td>0.000000</td>\n",
       "      <td>0.000000</td>\n",
       "      <td>0.000000</td>\n",
       "    </tr>\n",
       "    <tr>\n",
       "      <th>75%</th>\n",
       "      <td>0.000000</td>\n",
       "      <td>0.000000</td>\n",
       "      <td>0.000000</td>\n",
       "      <td>0.000000</td>\n",
       "    </tr>\n",
       "    <tr>\n",
       "      <th>max</th>\n",
       "      <td>54530.000000</td>\n",
       "      <td>54530.000000</td>\n",
       "      <td>33840.000000</td>\n",
       "      <td>16930.000000</td>\n",
       "    </tr>\n",
       "  </tbody>\n",
       "</table>\n",
       "</div>"
      ],
      "text/plain": [
       "             Q16_R1        Q16_R2        Q16_R3        Q16_R4\n",
       "count   1265.000000   1265.000000   1265.000000   1265.000000\n",
       "mean      76.555731     76.879051     54.571542     60.833202\n",
       "std     1572.517781   1574.129461   1016.339224    664.424497\n",
       "min        0.000000      0.000000      0.000000      0.000000\n",
       "25%        0.000000      0.000000      0.000000      0.000000\n",
       "50%        0.000000      0.000000      0.000000      0.000000\n",
       "75%        0.000000      0.000000      0.000000      0.000000\n",
       "max    54530.000000  54530.000000  33840.000000  16930.000000"
      ]
     },
     "execution_count": 105,
     "metadata": {},
     "output_type": "execute_result"
    }
   ],
   "source": [
    "df_q16.describe()"
   ]
  },
  {
   "cell_type": "markdown",
   "metadata": {},
   "source": [
    "Again we see some outliers and they turn out to originate from the same school as before **plus** another school with the same large entry for every discipline. I am confident that there is a data entry error."
   ]
  },
  {
   "cell_type": "code",
   "execution_count": 106,
   "metadata": {},
   "outputs": [
    {
     "data": {
      "text/html": [
       "<div>\n",
       "<style scoped>\n",
       "    .dataframe tbody tr th:only-of-type {\n",
       "        vertical-align: middle;\n",
       "    }\n",
       "\n",
       "    .dataframe tbody tr th {\n",
       "        vertical-align: top;\n",
       "    }\n",
       "\n",
       "    .dataframe thead th {\n",
       "        text-align: right;\n",
       "    }\n",
       "</style>\n",
       "<table border=\"1\" class=\"dataframe\">\n",
       "  <thead>\n",
       "    <tr style=\"text-align: right;\">\n",
       "      <th></th>\n",
       "      <th>Q16_R1</th>\n",
       "      <th>Q16_R2</th>\n",
       "      <th>Q16_R3</th>\n",
       "      <th>Q16_R4</th>\n",
       "    </tr>\n",
       "  </thead>\n",
       "  <tbody>\n",
       "    <tr>\n",
       "      <th>514</th>\n",
       "      <td>54530.0</td>\n",
       "      <td>54530.0</td>\n",
       "      <td>33840.0</td>\n",
       "      <td>16930.0</td>\n",
       "    </tr>\n",
       "    <tr>\n",
       "      <th>973</th>\n",
       "      <td>12000.0</td>\n",
       "      <td>12000.0</td>\n",
       "      <td>12000.0</td>\n",
       "      <td>12000.0</td>\n",
       "    </tr>\n",
       "  </tbody>\n",
       "</table>\n",
       "</div>"
      ],
      "text/plain": [
       "      Q16_R1   Q16_R2   Q16_R3   Q16_R4\n",
       "514  54530.0  54530.0  33840.0  16930.0\n",
       "973  12000.0  12000.0  12000.0  12000.0"
      ]
     },
     "execution_count": 106,
     "metadata": {},
     "output_type": "execute_result"
    }
   ],
   "source": [
    "df_q16[df_q16['Q16_R1'] > 10000]"
   ]
  },
  {
   "cell_type": "code",
   "execution_count": 107,
   "metadata": {
    "scrolled": true
   },
   "outputs": [
    {
     "data": {
      "text/html": [
       "<div>\n",
       "<style scoped>\n",
       "    .dataframe tbody tr th:only-of-type {\n",
       "        vertical-align: middle;\n",
       "    }\n",
       "\n",
       "    .dataframe tbody tr th {\n",
       "        vertical-align: top;\n",
       "    }\n",
       "\n",
       "    .dataframe thead th {\n",
       "        text-align: right;\n",
       "    }\n",
       "</style>\n",
       "<table border=\"1\" class=\"dataframe\">\n",
       "  <thead>\n",
       "    <tr style=\"text-align: right;\">\n",
       "      <th></th>\n",
       "      <th>Q0_DBN</th>\n",
       "      <th>Q1_1</th>\n",
       "      <th>Q1_2</th>\n",
       "      <th>Q1_3</th>\n",
       "      <th>Q2_1</th>\n",
       "      <th>Q3_1</th>\n",
       "      <th>Q3_2</th>\n",
       "      <th>Q3_3</th>\n",
       "      <th>Q3_4</th>\n",
       "      <th>Q4_1</th>\n",
       "      <th>...</th>\n",
       "      <th>Q14_R3</th>\n",
       "      <th>Q14_R4</th>\n",
       "      <th>Q15_R1</th>\n",
       "      <th>Q15_R2</th>\n",
       "      <th>Q15_R3</th>\n",
       "      <th>Q15_R4</th>\n",
       "      <th>Q16_R1</th>\n",
       "      <th>Q16_R2</th>\n",
       "      <th>Q16_R3</th>\n",
       "      <th>Q16_R4</th>\n",
       "    </tr>\n",
       "  </thead>\n",
       "  <tbody>\n",
       "    <tr>\n",
       "      <th>514</th>\n",
       "      <td>12X691</td>\n",
       "      <td>Kathelyn</td>\n",
       "      <td>ovalles</td>\n",
       "      <td>Kovalles@schools.nyc.gov</td>\n",
       "      <td>0</td>\n",
       "      <td>0</td>\n",
       "      <td>1</td>\n",
       "      <td>0</td>\n",
       "      <td>0</td>\n",
       "      <td>0</td>\n",
       "      <td>...</td>\n",
       "      <td>16920.0</td>\n",
       "      <td>33840.0</td>\n",
       "      <td>18120.0</td>\n",
       "      <td>33840.0</td>\n",
       "      <td>18120.0</td>\n",
       "      <td>33840.0</td>\n",
       "      <td>54530.0</td>\n",
       "      <td>54530.0</td>\n",
       "      <td>33840.0</td>\n",
       "      <td>16930.0</td>\n",
       "    </tr>\n",
       "    <tr>\n",
       "      <th>973</th>\n",
       "      <td>27Q056</td>\n",
       "      <td>Deana</td>\n",
       "      <td>Rinaldi</td>\n",
       "      <td>drinaldi@SCHOOLS.NYC.GOV</td>\n",
       "      <td>0</td>\n",
       "      <td>0</td>\n",
       "      <td>1</td>\n",
       "      <td>0</td>\n",
       "      <td>0</td>\n",
       "      <td>0</td>\n",
       "      <td>...</td>\n",
       "      <td>15000.0</td>\n",
       "      <td>15000.0</td>\n",
       "      <td>12000.0</td>\n",
       "      <td>12000.0</td>\n",
       "      <td>12000.0</td>\n",
       "      <td>12000.0</td>\n",
       "      <td>12000.0</td>\n",
       "      <td>12000.0</td>\n",
       "      <td>12000.0</td>\n",
       "      <td>12000.0</td>\n",
       "    </tr>\n",
       "  </tbody>\n",
       "</table>\n",
       "<p>2 rows × 686 columns</p>\n",
       "</div>"
      ],
      "text/plain": [
       "     Q0_DBN      Q1_1     Q1_2                      Q1_3  Q2_1  Q3_1  Q3_2  \\\n",
       "514  12X691  Kathelyn  ovalles  Kovalles@schools.nyc.gov     0     0     1   \n",
       "973  27Q056     Deana  Rinaldi  drinaldi@SCHOOLS.NYC.GOV     0     0     1   \n",
       "\n",
       "     Q3_3  Q3_4  Q4_1   ...      Q14_R3   Q14_R4   Q15_R1   Q15_R2   Q15_R3  \\\n",
       "514     0     0     0   ...     16920.0  33840.0  18120.0  33840.0  18120.0   \n",
       "973     0     0     0   ...     15000.0  15000.0  12000.0  12000.0  12000.0   \n",
       "\n",
       "      Q15_R4   Q16_R1   Q16_R2   Q16_R3   Q16_R4  \n",
       "514  33840.0  54530.0  54530.0  33840.0  16930.0  \n",
       "973  12000.0  12000.0  12000.0  12000.0  12000.0  \n",
       "\n",
       "[2 rows x 686 columns]"
      ]
     },
     "execution_count": 107,
     "metadata": {},
     "output_type": "execute_result"
    }
   ],
   "source": [
    "df[df_q16['Q16_R1'] > 10000]"
   ]
  },
  {
   "cell_type": "code",
   "execution_count": 108,
   "metadata": {},
   "outputs": [],
   "source": [
    "df_q16 = df_q16[df_q16['Q16_R1'] < 10000]\n",
    "disc_map = {df_q16.columns[i]: disciplines[i] for i in range(4)}\n",
    "df_q16.rename(index=str, columns=disc_map, inplace=True)"
   ]
  },
  {
   "cell_type": "code",
   "execution_count": 109,
   "metadata": {},
   "outputs": [
    {
     "data": {
      "image/png": "[encoded data removed]",
      "text/plain": [
       "<Figure size 432x288 with 5 Axes>"
      ]
     },
     "metadata": {},
     "output_type": "display_data"
    }
   ],
   "source": [
    "fig, ax = joypy.joyplot(df_q16, hist=True, x_range=(1, 250), overlap=0, bins=50, title='Fourth-Grade')"
   ]
  },
  {
   "cell_type": "markdown",
   "metadata": {},
   "source": [
    "**TODO** Are mean hours of instruction are increasing by grade?"
   ]
  },
  {
   "cell_type": "markdown",
   "metadata": {},
   "source": [
    "### Q17 Arts Instructional Hours by Cultural Organizations, Fifth Grade"
   ]
  },
  {
   "cell_type": "code",
   "execution_count": 110,
   "metadata": {},
   "outputs": [
    {
     "data": {
      "text/plain": [
       "56"
      ]
     },
     "execution_count": 110,
     "metadata": {},
     "output_type": "execute_result"
    }
   ],
   "source": [
    "Q17 = [feature for feature in df.columns if feature.startswith('Q17')]\n",
    "len(Q17)"
   ]
  },
  {
   "cell_type": "markdown",
   "metadata": {},
   "source": [
    "There are 20 spaces in the input format pdf."
   ]
  },
  {
   "cell_type": "code",
   "execution_count": 111,
   "metadata": {},
   "outputs": [],
   "source": [
    "R1 = [feature for feature in Q17 if feature.endswith('R1')]\n",
    "R2 = [feature for feature in Q17 if feature.endswith('R2')]\n",
    "R3 = [feature for feature in Q17 if feature.endswith('R3')]\n",
    "R4 = [feature for feature in Q17 if feature.endswith('R4')]"
   ]
  },
  {
   "cell_type": "code",
   "execution_count": 112,
   "metadata": {},
   "outputs": [],
   "source": [
    "df['Q17_R1'] = df[R1].sum(axis=1) #Dance\n",
    "df['Q17_R2'] = df[R2].sum(axis=1) #Music\n",
    "df['Q17_R3'] = df[R3].sum(axis=1) #Theater\n",
    "df['Q17_R4'] = df[R4].sum(axis=1) #Visual Arts"
   ]
  },
  {
   "cell_type": "code",
   "execution_count": 113,
   "metadata": {
    "scrolled": true
   },
   "outputs": [
    {
     "data": {
      "text/html": [
       "<div>\n",
       "<style scoped>\n",
       "    .dataframe tbody tr th:only-of-type {\n",
       "        vertical-align: middle;\n",
       "    }\n",
       "\n",
       "    .dataframe tbody tr th {\n",
       "        vertical-align: top;\n",
       "    }\n",
       "\n",
       "    .dataframe thead th {\n",
       "        text-align: right;\n",
       "    }\n",
       "</style>\n",
       "<table border=\"1\" class=\"dataframe\">\n",
       "  <thead>\n",
       "    <tr style=\"text-align: right;\">\n",
       "      <th></th>\n",
       "      <th>Q17_R1</th>\n",
       "      <th>Q17_R2</th>\n",
       "      <th>Q17_R3</th>\n",
       "      <th>Q17_R4</th>\n",
       "    </tr>\n",
       "  </thead>\n",
       "  <tbody>\n",
       "    <tr>\n",
       "      <th>0</th>\n",
       "      <td>8.0</td>\n",
       "      <td>30.0</td>\n",
       "      <td>8.0</td>\n",
       "      <td>0.0</td>\n",
       "    </tr>\n",
       "    <tr>\n",
       "      <th>1</th>\n",
       "      <td>200.0</td>\n",
       "      <td>51.0</td>\n",
       "      <td>0.0</td>\n",
       "      <td>48.0</td>\n",
       "    </tr>\n",
       "    <tr>\n",
       "      <th>2</th>\n",
       "      <td>60.0</td>\n",
       "      <td>60.0</td>\n",
       "      <td>60.0</td>\n",
       "      <td>0.0</td>\n",
       "    </tr>\n",
       "    <tr>\n",
       "      <th>3</th>\n",
       "      <td>0.0</td>\n",
       "      <td>4.0</td>\n",
       "      <td>0.0</td>\n",
       "      <td>4.0</td>\n",
       "    </tr>\n",
       "    <tr>\n",
       "      <th>4</th>\n",
       "      <td>0.0</td>\n",
       "      <td>0.0</td>\n",
       "      <td>12.0</td>\n",
       "      <td>0.0</td>\n",
       "    </tr>\n",
       "  </tbody>\n",
       "</table>\n",
       "</div>"
      ],
      "text/plain": [
       "   Q17_R1  Q17_R2  Q17_R3  Q17_R4\n",
       "0     8.0    30.0     8.0     0.0\n",
       "1   200.0    51.0     0.0    48.0\n",
       "2    60.0    60.0    60.0     0.0\n",
       "3     0.0     4.0     0.0     4.0\n",
       "4     0.0     0.0    12.0     0.0"
      ]
     },
     "execution_count": 113,
     "metadata": {},
     "output_type": "execute_result"
    }
   ],
   "source": [
    "Q17_agg = [feature for feature in df.columns if feature.startswith('Q17_R')]\n",
    "df_q17 = df[Q17_agg]\n",
    "df_q17.head()"
   ]
  },
  {
   "cell_type": "code",
   "execution_count": 114,
   "metadata": {},
   "outputs": [
    {
     "data": {
      "text/html": [
       "<div>\n",
       "<style scoped>\n",
       "    .dataframe tbody tr th:only-of-type {\n",
       "        vertical-align: middle;\n",
       "    }\n",
       "\n",
       "    .dataframe tbody tr th {\n",
       "        vertical-align: top;\n",
       "    }\n",
       "\n",
       "    .dataframe thead th {\n",
       "        text-align: right;\n",
       "    }\n",
       "</style>\n",
       "<table border=\"1\" class=\"dataframe\">\n",
       "  <thead>\n",
       "    <tr style=\"text-align: right;\">\n",
       "      <th></th>\n",
       "      <th>Q17_R1</th>\n",
       "      <th>Q17_R2</th>\n",
       "      <th>Q17_R3</th>\n",
       "      <th>Q17_R4</th>\n",
       "    </tr>\n",
       "  </thead>\n",
       "  <tbody>\n",
       "    <tr>\n",
       "      <th>count</th>\n",
       "      <td>1265.000000</td>\n",
       "      <td>1265.000000</td>\n",
       "      <td>1265.000000</td>\n",
       "      <td>1265.000000</td>\n",
       "    </tr>\n",
       "    <tr>\n",
       "      <th>mean</th>\n",
       "      <td>78.243478</td>\n",
       "      <td>74.932806</td>\n",
       "      <td>51.922530</td>\n",
       "      <td>54.040316</td>\n",
       "    </tr>\n",
       "    <tr>\n",
       "      <th>std</th>\n",
       "      <td>1571.477969</td>\n",
       "      <td>1571.157121</td>\n",
       "      <td>1012.978524</td>\n",
       "      <td>635.653205</td>\n",
       "    </tr>\n",
       "    <tr>\n",
       "      <th>min</th>\n",
       "      <td>0.000000</td>\n",
       "      <td>0.000000</td>\n",
       "      <td>0.000000</td>\n",
       "      <td>0.000000</td>\n",
       "    </tr>\n",
       "    <tr>\n",
       "      <th>25%</th>\n",
       "      <td>0.000000</td>\n",
       "      <td>0.000000</td>\n",
       "      <td>0.000000</td>\n",
       "      <td>0.000000</td>\n",
       "    </tr>\n",
       "    <tr>\n",
       "      <th>50%</th>\n",
       "      <td>0.000000</td>\n",
       "      <td>0.000000</td>\n",
       "      <td>0.000000</td>\n",
       "      <td>0.000000</td>\n",
       "    </tr>\n",
       "    <tr>\n",
       "      <th>75%</th>\n",
       "      <td>0.000000</td>\n",
       "      <td>0.000000</td>\n",
       "      <td>0.000000</td>\n",
       "      <td>0.000000</td>\n",
       "    </tr>\n",
       "    <tr>\n",
       "      <th>max</th>\n",
       "      <td>54520.000000</td>\n",
       "      <td>54520.000000</td>\n",
       "      <td>33840.000000</td>\n",
       "      <td>16920.000000</td>\n",
       "    </tr>\n",
       "  </tbody>\n",
       "</table>\n",
       "</div>"
      ],
      "text/plain": [
       "             Q17_R1        Q17_R2        Q17_R3        Q17_R4\n",
       "count   1265.000000   1265.000000   1265.000000   1265.000000\n",
       "mean      78.243478     74.932806     51.922530     54.040316\n",
       "std     1571.477969   1571.157121   1012.978524    635.653205\n",
       "min        0.000000      0.000000      0.000000      0.000000\n",
       "25%        0.000000      0.000000      0.000000      0.000000\n",
       "50%        0.000000      0.000000      0.000000      0.000000\n",
       "75%        0.000000      0.000000      0.000000      0.000000\n",
       "max    54520.000000  54520.000000  33840.000000  16920.000000"
      ]
     },
     "execution_count": 114,
     "metadata": {},
     "output_type": "execute_result"
    }
   ],
   "source": [
    "df_q17.describe()"
   ]
  },
  {
   "cell_type": "markdown",
   "metadata": {},
   "source": [
    "Again we see some outliers and they turn out to originate from the same school as before **plus** another school with the same large entry for every discipline. I am confident that there is a data entry error."
   ]
  },
  {
   "cell_type": "code",
   "execution_count": 115,
   "metadata": {},
   "outputs": [
    {
     "data": {
      "text/html": [
       "<div>\n",
       "<style scoped>\n",
       "    .dataframe tbody tr th:only-of-type {\n",
       "        vertical-align: middle;\n",
       "    }\n",
       "\n",
       "    .dataframe tbody tr th {\n",
       "        vertical-align: top;\n",
       "    }\n",
       "\n",
       "    .dataframe thead th {\n",
       "        text-align: right;\n",
       "    }\n",
       "</style>\n",
       "<table border=\"1\" class=\"dataframe\">\n",
       "  <thead>\n",
       "    <tr style=\"text-align: right;\">\n",
       "      <th></th>\n",
       "      <th>Q17_R1</th>\n",
       "      <th>Q17_R2</th>\n",
       "      <th>Q17_R3</th>\n",
       "      <th>Q17_R4</th>\n",
       "    </tr>\n",
       "  </thead>\n",
       "  <tbody>\n",
       "    <tr>\n",
       "      <th>514</th>\n",
       "      <td>54520.0</td>\n",
       "      <td>54520.0</td>\n",
       "      <td>33840.0</td>\n",
       "      <td>16920.0</td>\n",
       "    </tr>\n",
       "    <tr>\n",
       "      <th>973</th>\n",
       "      <td>12000.0</td>\n",
       "      <td>12000.0</td>\n",
       "      <td>12000.0</td>\n",
       "      <td>12000.0</td>\n",
       "    </tr>\n",
       "  </tbody>\n",
       "</table>\n",
       "</div>"
      ],
      "text/plain": [
       "      Q17_R1   Q17_R2   Q17_R3   Q17_R4\n",
       "514  54520.0  54520.0  33840.0  16920.0\n",
       "973  12000.0  12000.0  12000.0  12000.0"
      ]
     },
     "execution_count": 115,
     "metadata": {},
     "output_type": "execute_result"
    }
   ],
   "source": [
    "df_q17[df_q17['Q17_R1'] > 10000]"
   ]
  },
  {
   "cell_type": "code",
   "execution_count": 117,
   "metadata": {},
   "outputs": [],
   "source": [
    "df_q17 = df_q17[df_q17['Q17_R1'] < 10000]\n",
    "disc_map = {df_q17.columns[i]: disciplines[i] for i in range(4)}\n",
    "df_q17.rename(index=str, columns=disc_map, inplace=True)"
   ]
  },
  {
   "cell_type": "code",
   "execution_count": 119,
   "metadata": {},
   "outputs": [
    {
     "data": {
      "image/png": "[encoded data removed]",
      "text/plain": [
       "<Figure size 432x288 with 5 Axes>"
      ]
     },
     "metadata": {},
     "output_type": "display_data"
    }
   ],
   "source": [
    "fig, ax = joypy.joyplot(df_q17, hist=True, x_range=(1, 250), overlap=0, bins=50, title='Fifth-Grade')"
   ]
  },
  {
   "cell_type": "markdown",
   "metadata": {},
   "source": [
    "### Q18 Arts Instructional Hours by Cultural Organizations, Grades 1-5"
   ]
  },
  {
   "cell_type": "code",
   "execution_count": 122,
   "metadata": {},
   "outputs": [
    {
     "data": {
      "text/plain": [
       "20"
      ]
     },
     "execution_count": 122,
     "metadata": {},
     "output_type": "execute_result"
    }
   ],
   "source": [
    "Q18 = [feature for feature in df.columns if feature.startswith('Q18')]\n",
    "len(Q18)"
   ]
  },
  {
   "cell_type": "markdown",
   "metadata": {},
   "source": [
    "Now there are only the 20 entries that I can see in the documentation.  \n",
    "**TODO** Check entries for Q18 hours against the sums I calculated above."
   ]
  },
  {
   "cell_type": "markdown",
   "metadata": {},
   "source": [
    "### Q19 Arts Instructional Hours by Cultural Organizations, Sixth Grade"
   ]
  },
  {
   "cell_type": "markdown",
   "metadata": {},
   "source": [
    "Only shown to schools offering sixth-grade."
   ]
  },
  {
   "cell_type": "code",
   "execution_count": 124,
   "metadata": {},
   "outputs": [
    {
     "data": {
      "text/html": [
       "<div>\n",
       "<style scoped>\n",
       "    .dataframe tbody tr th:only-of-type {\n",
       "        vertical-align: middle;\n",
       "    }\n",
       "\n",
       "    .dataframe tbody tr th {\n",
       "        vertical-align: top;\n",
       "    }\n",
       "\n",
       "    .dataframe thead th {\n",
       "        text-align: right;\n",
       "    }\n",
       "</style>\n",
       "<table border=\"1\" class=\"dataframe\">\n",
       "  <thead>\n",
       "    <tr style=\"text-align: right;\">\n",
       "      <th></th>\n",
       "      <th>Q19_C1_R1</th>\n",
       "      <th>Q19_C1_R2</th>\n",
       "      <th>Q19_C1_R3</th>\n",
       "      <th>Q19_C1_R4</th>\n",
       "    </tr>\n",
       "  </thead>\n",
       "  <tbody>\n",
       "    <tr>\n",
       "      <th>0</th>\n",
       "      <td>NaN</td>\n",
       "      <td>NaN</td>\n",
       "      <td>NaN</td>\n",
       "      <td>NaN</td>\n",
       "    </tr>\n",
       "    <tr>\n",
       "      <th>1</th>\n",
       "      <td>NaN</td>\n",
       "      <td>NaN</td>\n",
       "      <td>NaN</td>\n",
       "      <td>NaN</td>\n",
       "    </tr>\n",
       "    <tr>\n",
       "      <th>2</th>\n",
       "      <td>NaN</td>\n",
       "      <td>NaN</td>\n",
       "      <td>NaN</td>\n",
       "      <td>NaN</td>\n",
       "    </tr>\n",
       "    <tr>\n",
       "      <th>3</th>\n",
       "      <td>0.0</td>\n",
       "      <td>2.0</td>\n",
       "      <td>0.0</td>\n",
       "      <td>2.0</td>\n",
       "    </tr>\n",
       "    <tr>\n",
       "      <th>4</th>\n",
       "      <td>NaN</td>\n",
       "      <td>NaN</td>\n",
       "      <td>NaN</td>\n",
       "      <td>NaN</td>\n",
       "    </tr>\n",
       "  </tbody>\n",
       "</table>\n",
       "</div>"
      ],
      "text/plain": [
       "   Q19_C1_R1  Q19_C1_R2  Q19_C1_R3  Q19_C1_R4\n",
       "0        NaN        NaN        NaN        NaN\n",
       "1        NaN        NaN        NaN        NaN\n",
       "2        NaN        NaN        NaN        NaN\n",
       "3        0.0        2.0        0.0        2.0\n",
       "4        NaN        NaN        NaN        NaN"
      ]
     },
     "execution_count": 124,
     "metadata": {},
     "output_type": "execute_result"
    }
   ],
   "source": [
    "Q19 = [feature for feature in df.columns if feature.startswith('Q19')]\n",
    "df_q19 = df[Q19]\n",
    "df_q19.head()"
   ]
  },
  {
   "cell_type": "code",
   "execution_count": 125,
   "metadata": {},
   "outputs": [
    {
     "data": {
      "text/plain": [
       "Q19_C1_R1    407\n",
       "Q19_C1_R2    407\n",
       "Q19_C1_R3    407\n",
       "Q19_C1_R4    407\n",
       "dtype: int64"
      ]
     },
     "execution_count": 125,
     "metadata": {},
     "output_type": "execute_result"
    }
   ],
   "source": [
    "df_q19.count()"
   ]
  },
  {
   "cell_type": "code",
   "execution_count": 128,
   "metadata": {},
   "outputs": [
    {
     "data": {
      "text/plain": [
       "Q19_C1_R1    407\n",
       "Q19_C1_R2    407\n",
       "Q19_C1_R3    407\n",
       "Q19_C1_R4    407\n",
       "dtype: int64"
      ]
     },
     "execution_count": 128,
     "metadata": {},
     "output_type": "execute_result"
    }
   ],
   "source": [
    "df_q19[df_q19['Q19_C1_R1'].notna()].count()"
   ]
  },
  {
   "cell_type": "markdown",
   "metadata": {},
   "source": [
    "Remove missing values, above we checked that doing so with this method would not remove information."
   ]
  },
  {
   "cell_type": "code",
   "execution_count": 129,
   "metadata": {},
   "outputs": [],
   "source": [
    "df_q19 = df_q19[df_q19['Q19_C1_R1'].notna()]"
   ]
  },
  {
   "cell_type": "code",
   "execution_count": 130,
   "metadata": {},
   "outputs": [
    {
     "data": {
      "text/html": [
       "<div>\n",
       "<style scoped>\n",
       "    .dataframe tbody tr th:only-of-type {\n",
       "        vertical-align: middle;\n",
       "    }\n",
       "\n",
       "    .dataframe tbody tr th {\n",
       "        vertical-align: top;\n",
       "    }\n",
       "\n",
       "    .dataframe thead th {\n",
       "        text-align: right;\n",
       "    }\n",
       "</style>\n",
       "<table border=\"1\" class=\"dataframe\">\n",
       "  <thead>\n",
       "    <tr style=\"text-align: right;\">\n",
       "      <th></th>\n",
       "      <th>Q19_C1_R1</th>\n",
       "      <th>Q19_C1_R2</th>\n",
       "      <th>Q19_C1_R3</th>\n",
       "      <th>Q19_C1_R4</th>\n",
       "    </tr>\n",
       "  </thead>\n",
       "  <tbody>\n",
       "    <tr>\n",
       "      <th>count</th>\n",
       "      <td>407.000000</td>\n",
       "      <td>407.000000</td>\n",
       "      <td>407.000000</td>\n",
       "      <td>407.000000</td>\n",
       "    </tr>\n",
       "    <tr>\n",
       "      <th>mean</th>\n",
       "      <td>33.063882</td>\n",
       "      <td>46.022113</td>\n",
       "      <td>21.948403</td>\n",
       "      <td>65.255528</td>\n",
       "    </tr>\n",
       "    <tr>\n",
       "      <th>std</th>\n",
       "      <td>175.790322</td>\n",
       "      <td>213.039525</td>\n",
       "      <td>106.169419</td>\n",
       "      <td>282.568826</td>\n",
       "    </tr>\n",
       "    <tr>\n",
       "      <th>min</th>\n",
       "      <td>0.000000</td>\n",
       "      <td>0.000000</td>\n",
       "      <td>0.000000</td>\n",
       "      <td>0.000000</td>\n",
       "    </tr>\n",
       "    <tr>\n",
       "      <th>25%</th>\n",
       "      <td>0.000000</td>\n",
       "      <td>0.000000</td>\n",
       "      <td>0.000000</td>\n",
       "      <td>0.000000</td>\n",
       "    </tr>\n",
       "    <tr>\n",
       "      <th>50%</th>\n",
       "      <td>0.000000</td>\n",
       "      <td>0.000000</td>\n",
       "      <td>0.000000</td>\n",
       "      <td>0.000000</td>\n",
       "    </tr>\n",
       "    <tr>\n",
       "      <th>75%</th>\n",
       "      <td>13.500000</td>\n",
       "      <td>20.000000</td>\n",
       "      <td>5.000000</td>\n",
       "      <td>40.000000</td>\n",
       "    </tr>\n",
       "    <tr>\n",
       "      <th>max</th>\n",
       "      <td>3240.000000</td>\n",
       "      <td>3240.000000</td>\n",
       "      <td>1600.000000</td>\n",
       "      <td>3588.000000</td>\n",
       "    </tr>\n",
       "  </tbody>\n",
       "</table>\n",
       "</div>"
      ],
      "text/plain": [
       "         Q19_C1_R1    Q19_C1_R2    Q19_C1_R3    Q19_C1_R4\n",
       "count   407.000000   407.000000   407.000000   407.000000\n",
       "mean     33.063882    46.022113    21.948403    65.255528\n",
       "std     175.790322   213.039525   106.169419   282.568826\n",
       "min       0.000000     0.000000     0.000000     0.000000\n",
       "25%       0.000000     0.000000     0.000000     0.000000\n",
       "50%       0.000000     0.000000     0.000000     0.000000\n",
       "75%      13.500000    20.000000     5.000000    40.000000\n",
       "max    3240.000000  3240.000000  1600.000000  3588.000000"
      ]
     },
     "execution_count": 130,
     "metadata": {},
     "output_type": "execute_result"
    }
   ],
   "source": [
    "df_q19.describe()"
   ]
  },
  {
   "cell_type": "code",
   "execution_count": 131,
   "metadata": {},
   "outputs": [
    {
     "data": {
      "text/html": [
       "<div>\n",
       "<style scoped>\n",
       "    .dataframe tbody tr th:only-of-type {\n",
       "        vertical-align: middle;\n",
       "    }\n",
       "\n",
       "    .dataframe tbody tr th {\n",
       "        vertical-align: top;\n",
       "    }\n",
       "\n",
       "    .dataframe thead th {\n",
       "        text-align: right;\n",
       "    }\n",
       "</style>\n",
       "<table border=\"1\" class=\"dataframe\">\n",
       "  <thead>\n",
       "    <tr style=\"text-align: right;\">\n",
       "      <th></th>\n",
       "      <th>Q19_C1_R1</th>\n",
       "      <th>Q19_C1_R2</th>\n",
       "      <th>Q19_C1_R3</th>\n",
       "      <th>Q19_C1_R4</th>\n",
       "    </tr>\n",
       "  </thead>\n",
       "  <tbody>\n",
       "    <tr>\n",
       "      <th>377</th>\n",
       "      <td>3240.0</td>\n",
       "      <td>3240.0</td>\n",
       "      <td>0.0</td>\n",
       "      <td>3240.0</td>\n",
       "    </tr>\n",
       "  </tbody>\n",
       "</table>\n",
       "</div>"
      ],
      "text/plain": [
       "     Q19_C1_R1  Q19_C1_R2  Q19_C1_R3  Q19_C1_R4\n",
       "377     3240.0     3240.0        0.0     3240.0"
      ]
     },
     "execution_count": 131,
     "metadata": {},
     "output_type": "execute_result"
    }
   ],
   "source": [
    "df_q19[df_q19['Q19_C1_R1'] > 1000]"
   ]
  },
  {
   "cell_type": "code",
   "execution_count": 152,
   "metadata": {},
   "outputs": [],
   "source": [
    "df_q19 = df_q19[df_q19['Q19_C1_R1'] < 1000]"
   ]
  },
  {
   "cell_type": "markdown",
   "metadata": {},
   "source": [
    "I will assume that these were not mistakenly entered."
   ]
  },
  {
   "cell_type": "code",
   "execution_count": 153,
   "metadata": {},
   "outputs": [
    {
     "data": {
      "text/html": [
       "<div>\n",
       "<style scoped>\n",
       "    .dataframe tbody tr th:only-of-type {\n",
       "        vertical-align: middle;\n",
       "    }\n",
       "\n",
       "    .dataframe tbody tr th {\n",
       "        vertical-align: top;\n",
       "    }\n",
       "\n",
       "    .dataframe thead th {\n",
       "        text-align: right;\n",
       "    }\n",
       "</style>\n",
       "<table border=\"1\" class=\"dataframe\">\n",
       "  <thead>\n",
       "    <tr style=\"text-align: right;\">\n",
       "      <th></th>\n",
       "      <th>Q19_C1_R1</th>\n",
       "      <th>Q19_C1_R2</th>\n",
       "      <th>Q19_C1_R3</th>\n",
       "      <th>Q19_C1_R4</th>\n",
       "    </tr>\n",
       "  </thead>\n",
       "  <tbody>\n",
       "    <tr>\n",
       "      <th>529</th>\n",
       "      <td>0.0</td>\n",
       "      <td>0.0</td>\n",
       "      <td>1238.0</td>\n",
       "      <td>0.0</td>\n",
       "    </tr>\n",
       "    <tr>\n",
       "      <th>940</th>\n",
       "      <td>800.0</td>\n",
       "      <td>1600.0</td>\n",
       "      <td>1600.0</td>\n",
       "      <td>1600.0</td>\n",
       "    </tr>\n",
       "  </tbody>\n",
       "</table>\n",
       "</div>"
      ],
      "text/plain": [
       "     Q19_C1_R1  Q19_C1_R2  Q19_C1_R3  Q19_C1_R4\n",
       "529        0.0        0.0     1238.0        0.0\n",
       "940      800.0     1600.0     1600.0     1600.0"
      ]
     },
     "execution_count": 153,
     "metadata": {},
     "output_type": "execute_result"
    }
   ],
   "source": [
    "df_q19[df_q19['Q19_C1_R3'] > 1000]"
   ]
  },
  {
   "cell_type": "code",
   "execution_count": 159,
   "metadata": {
    "scrolled": false
   },
   "outputs": [
    {
     "data": {
      "image/png": "[encoded data removed]",
      "text/plain": [
       "<Figure size 432x288 with 1 Axes>"
      ]
     },
     "metadata": {},
     "output_type": "display_data"
    }
   ],
   "source": [
    "fig = plt.figure()\n",
    "ax = fig.add_subplot()\n",
    "plt.bar(df_q19.columns, df_q19.mean())\n",
    "plt.xticks(np.arange(4), ('Dance', 'Music', 'Theater', 'Visual Arts'))\n",
    "plt.title('Arts Instruction Provided by Cultural Organizations, Sixth-Grade')\n",
    "_ = plt.ylabel('Mean Hours')"
   ]
  },
  {
   "cell_type": "code",
   "execution_count": 170,
   "metadata": {},
   "outputs": [],
   "source": [
    "disc_map = {df_q19.columns[i]:disciplines[i] for i in range(4)}\n",
    "df_q19.rename(index=str, columns=disc_map, inplace=True)"
   ]
  },
  {
   "cell_type": "code",
   "execution_count": 171,
   "metadata": {},
   "outputs": [
    {
     "data": {
      "image/png": "[encoded data removed]",
      "text/plain": [
       "<Figure size 432x288 with 5 Axes>"
      ]
     },
     "metadata": {},
     "output_type": "display_data"
    }
   ],
   "source": [
    "fig, ax = joypy.joyplot(df_q19, hist=True, x_range=(1, 250), overlap=0, bins=50, title='Sixth-Grade', ylabels=('Dance', 'Music', 'Theater', 'Visual Arts'))"
   ]
  },
  {
   "cell_type": "markdown",
   "metadata": {},
   "source": [
    "### Q20 Screened Arts Programs, Grades 6-8"
   ]
  },
  {
   "cell_type": "markdown",
   "metadata": {},
   "source": [
    "This question was supposed to be shown to schools with grades 6-8, but there are no missing values."
   ]
  },
  {
   "cell_type": "code",
   "execution_count": 172,
   "metadata": {},
   "outputs": [
    {
     "data": {
      "text/html": [
       "<div>\n",
       "<style scoped>\n",
       "    .dataframe tbody tr th:only-of-type {\n",
       "        vertical-align: middle;\n",
       "    }\n",
       "\n",
       "    .dataframe tbody tr th {\n",
       "        vertical-align: top;\n",
       "    }\n",
       "\n",
       "    .dataframe thead th {\n",
       "        text-align: right;\n",
       "    }\n",
       "</style>\n",
       "<table border=\"1\" class=\"dataframe\">\n",
       "  <thead>\n",
       "    <tr style=\"text-align: right;\">\n",
       "      <th></th>\n",
       "      <th>Q20_1</th>\n",
       "      <th>Q20_2</th>\n",
       "    </tr>\n",
       "  </thead>\n",
       "  <tbody>\n",
       "    <tr>\n",
       "      <th>0</th>\n",
       "      <td>0</td>\n",
       "      <td>0</td>\n",
       "    </tr>\n",
       "    <tr>\n",
       "      <th>1</th>\n",
       "      <td>0</td>\n",
       "      <td>0</td>\n",
       "    </tr>\n",
       "    <tr>\n",
       "      <th>2</th>\n",
       "      <td>0</td>\n",
       "      <td>0</td>\n",
       "    </tr>\n",
       "    <tr>\n",
       "      <th>3</th>\n",
       "      <td>0</td>\n",
       "      <td>1</td>\n",
       "    </tr>\n",
       "    <tr>\n",
       "      <th>4</th>\n",
       "      <td>0</td>\n",
       "      <td>0</td>\n",
       "    </tr>\n",
       "  </tbody>\n",
       "</table>\n",
       "</div>"
      ],
      "text/plain": [
       "   Q20_1  Q20_2\n",
       "0      0      0\n",
       "1      0      0\n",
       "2      0      0\n",
       "3      0      1\n",
       "4      0      0"
      ]
     },
     "execution_count": 172,
     "metadata": {},
     "output_type": "execute_result"
    }
   ],
   "source": [
    "df_q20 = df[['Q20_1', 'Q20_2']]\n",
    "df_q20.head()"
   ]
  },
  {
   "cell_type": "code",
   "execution_count": 173,
   "metadata": {},
   "outputs": [
    {
     "data": {
      "text/plain": [
       "Q20_1    1265\n",
       "Q20_2    1265\n",
       "dtype: int64"
      ]
     },
     "execution_count": 173,
     "metadata": {},
     "output_type": "execute_result"
    }
   ],
   "source": [
    "df_q20.count()"
   ]
  },
  {
   "cell_type": "markdown",
   "metadata": {},
   "source": [
    "Remove schools that did not select either option for the question."
   ]
  },
  {
   "cell_type": "code",
   "execution_count": 183,
   "metadata": {},
   "outputs": [],
   "source": [
    "df_q20 = df_q20[df_q20.sum(axis=1) == 1]"
   ]
  },
  {
   "cell_type": "code",
   "execution_count": 186,
   "metadata": {},
   "outputs": [
    {
     "data": {
      "text/plain": [
       "Yes    0.065375\n",
       "No     0.934625\n",
       "dtype: float64"
      ]
     },
     "execution_count": 186,
     "metadata": {},
     "output_type": "execute_result"
    }
   ],
   "source": [
    "df_q20.rename(index=str, columns={'Q20_1':'Yes', 'Q20_2':'No'}, inplace=True)\n",
    "df_q20.mean()"
   ]
  },
  {
   "cell_type": "markdown",
   "metadata": {},
   "source": [
    "Schools only answer yes if they have a specialized arts program that admits students *before* admission to the school. The magnet school program has been shrinking, it may actually be closed."
   ]
  },
  {
   "cell_type": "markdown",
   "metadata": {},
   "source": [
    "### Q21 Multi-Grade Arts Instruction"
   ]
  },
  {
   "cell_type": "code",
   "execution_count": 187,
   "metadata": {},
   "outputs": [
    {
     "data": {
      "text/html": [
       "<div>\n",
       "<style scoped>\n",
       "    .dataframe tbody tr th:only-of-type {\n",
       "        vertical-align: middle;\n",
       "    }\n",
       "\n",
       "    .dataframe tbody tr th {\n",
       "        vertical-align: top;\n",
       "    }\n",
       "\n",
       "    .dataframe thead th {\n",
       "        text-align: right;\n",
       "    }\n",
       "</style>\n",
       "<table border=\"1\" class=\"dataframe\">\n",
       "  <thead>\n",
       "    <tr style=\"text-align: right;\">\n",
       "      <th></th>\n",
       "      <th>Q21_R1_C1</th>\n",
       "      <th>Q21_R1_C2</th>\n",
       "      <th>Q21_R1_C3</th>\n",
       "      <th>Q21_R1_C4</th>\n",
       "      <th>Q21_R2_C1</th>\n",
       "      <th>Q21_R2_C2</th>\n",
       "      <th>Q21_R2_C3</th>\n",
       "      <th>Q21_R2_C4</th>\n",
       "      <th>Q21_R3_C1</th>\n",
       "      <th>Q21_R3_C2</th>\n",
       "      <th>...</th>\n",
       "      <th>Q21_R5_C3</th>\n",
       "      <th>Q21_R5_C4</th>\n",
       "      <th>Q21_R6_C1</th>\n",
       "      <th>Q21_R6_C2</th>\n",
       "      <th>Q21_R6_C3</th>\n",
       "      <th>Q21_R6_C4</th>\n",
       "      <th>Q21_R7_C1</th>\n",
       "      <th>Q21_R7_C2</th>\n",
       "      <th>Q21_R7_C3</th>\n",
       "      <th>Q21_R7_C4</th>\n",
       "    </tr>\n",
       "  </thead>\n",
       "  <tbody>\n",
       "    <tr>\n",
       "      <th>0</th>\n",
       "      <td>0</td>\n",
       "      <td>1</td>\n",
       "      <td>1</td>\n",
       "      <td>1</td>\n",
       "      <td>1</td>\n",
       "      <td>0</td>\n",
       "      <td>1</td>\n",
       "      <td>1</td>\n",
       "      <td>1</td>\n",
       "      <td>0</td>\n",
       "      <td>...</td>\n",
       "      <td>1</td>\n",
       "      <td>1</td>\n",
       "      <td>1</td>\n",
       "      <td>1</td>\n",
       "      <td>1</td>\n",
       "      <td>1</td>\n",
       "      <td>0</td>\n",
       "      <td>0</td>\n",
       "      <td>0</td>\n",
       "      <td>0</td>\n",
       "    </tr>\n",
       "    <tr>\n",
       "      <th>1</th>\n",
       "      <td>0</td>\n",
       "      <td>0</td>\n",
       "      <td>0</td>\n",
       "      <td>0</td>\n",
       "      <td>0</td>\n",
       "      <td>0</td>\n",
       "      <td>0</td>\n",
       "      <td>0</td>\n",
       "      <td>0</td>\n",
       "      <td>0</td>\n",
       "      <td>...</td>\n",
       "      <td>0</td>\n",
       "      <td>0</td>\n",
       "      <td>0</td>\n",
       "      <td>0</td>\n",
       "      <td>0</td>\n",
       "      <td>0</td>\n",
       "      <td>0</td>\n",
       "      <td>0</td>\n",
       "      <td>0</td>\n",
       "      <td>0</td>\n",
       "    </tr>\n",
       "    <tr>\n",
       "      <th>2</th>\n",
       "      <td>0</td>\n",
       "      <td>0</td>\n",
       "      <td>0</td>\n",
       "      <td>0</td>\n",
       "      <td>0</td>\n",
       "      <td>0</td>\n",
       "      <td>0</td>\n",
       "      <td>0</td>\n",
       "      <td>0</td>\n",
       "      <td>0</td>\n",
       "      <td>...</td>\n",
       "      <td>0</td>\n",
       "      <td>0</td>\n",
       "      <td>0</td>\n",
       "      <td>0</td>\n",
       "      <td>0</td>\n",
       "      <td>0</td>\n",
       "      <td>0</td>\n",
       "      <td>0</td>\n",
       "      <td>0</td>\n",
       "      <td>0</td>\n",
       "    </tr>\n",
       "    <tr>\n",
       "      <th>3</th>\n",
       "      <td>0</td>\n",
       "      <td>0</td>\n",
       "      <td>0</td>\n",
       "      <td>0</td>\n",
       "      <td>0</td>\n",
       "      <td>0</td>\n",
       "      <td>0</td>\n",
       "      <td>0</td>\n",
       "      <td>0</td>\n",
       "      <td>0</td>\n",
       "      <td>...</td>\n",
       "      <td>0</td>\n",
       "      <td>0</td>\n",
       "      <td>0</td>\n",
       "      <td>0</td>\n",
       "      <td>0</td>\n",
       "      <td>0</td>\n",
       "      <td>0</td>\n",
       "      <td>0</td>\n",
       "      <td>0</td>\n",
       "      <td>0</td>\n",
       "    </tr>\n",
       "    <tr>\n",
       "      <th>4</th>\n",
       "      <td>0</td>\n",
       "      <td>0</td>\n",
       "      <td>0</td>\n",
       "      <td>0</td>\n",
       "      <td>0</td>\n",
       "      <td>0</td>\n",
       "      <td>0</td>\n",
       "      <td>0</td>\n",
       "      <td>0</td>\n",
       "      <td>0</td>\n",
       "      <td>...</td>\n",
       "      <td>0</td>\n",
       "      <td>0</td>\n",
       "      <td>0</td>\n",
       "      <td>0</td>\n",
       "      <td>0</td>\n",
       "      <td>0</td>\n",
       "      <td>0</td>\n",
       "      <td>0</td>\n",
       "      <td>0</td>\n",
       "      <td>0</td>\n",
       "    </tr>\n",
       "  </tbody>\n",
       "</table>\n",
       "<p>5 rows × 28 columns</p>\n",
       "</div>"
      ],
      "text/plain": [
       "   Q21_R1_C1  Q21_R1_C2  Q21_R1_C3  Q21_R1_C4  Q21_R2_C1  Q21_R2_C2  \\\n",
       "0          0          1          1          1          1          0   \n",
       "1          0          0          0          0          0          0   \n",
       "2          0          0          0          0          0          0   \n",
       "3          0          0          0          0          0          0   \n",
       "4          0          0          0          0          0          0   \n",
       "\n",
       "   Q21_R2_C3  Q21_R2_C4  Q21_R3_C1  Q21_R3_C2    ...      Q21_R5_C3  \\\n",
       "0          1          1          1          0    ...              1   \n",
       "1          0          0          0          0    ...              0   \n",
       "2          0          0          0          0    ...              0   \n",
       "3          0          0          0          0    ...              0   \n",
       "4          0          0          0          0    ...              0   \n",
       "\n",
       "   Q21_R5_C4  Q21_R6_C1  Q21_R6_C2  Q21_R6_C3  Q21_R6_C4  Q21_R7_C1  \\\n",
       "0          1          1          1          1          1          0   \n",
       "1          0          0          0          0          0          0   \n",
       "2          0          0          0          0          0          0   \n",
       "3          0          0          0          0          0          0   \n",
       "4          0          0          0          0          0          0   \n",
       "\n",
       "   Q21_R7_C2  Q21_R7_C3  Q21_R7_C4  \n",
       "0          0          0          0  \n",
       "1          0          0          0  \n",
       "2          0          0          0  \n",
       "3          0          0          0  \n",
       "4          0          0          0  \n",
       "\n",
       "[5 rows x 28 columns]"
      ]
     },
     "execution_count": 187,
     "metadata": {},
     "output_type": "execute_result"
    }
   ],
   "source": [
    "Q21 = [feature for feature in df.columns if feature.startswith('Q21')]\n",
    "df_q21 = df[Q21]\n",
    "df_q21.head()"
   ]
  },
  {
   "cell_type": "markdown",
   "metadata": {},
   "source": [
    "Rows denote grade levels, from Kindergarten to Grade 6.  \n",
    "Columns denote arts disciplines."
   ]
  },
  {
   "cell_type": "code",
   "execution_count": 191,
   "metadata": {},
   "outputs": [],
   "source": [
    "R1 = [feature for feature in Q21 if feature.startswith('Q21_R1')]\n",
    "R2 = [feature for feature in Q21 if feature.startswith('Q21_R2')]\n",
    "R3 = [feature for feature in Q21 if feature.startswith('Q21_R3')]\n",
    "R4 = [feature for feature in Q21 if feature.startswith('Q21_R4')]\n",
    "R5 = [feature for feature in Q21 if feature.startswith('Q21_R5')]\n",
    "R6 = [feature for feature in Q21 if feature.startswith('Q21_R6')]\n",
    "R7 = [feature for feature in Q21 if feature.startswith('Q21_R7')]\n",
    "\n",
    "C1 = [feature for feature in Q21 if feature.endswith('C1')]\n",
    "C2 = [feature for feature in Q21 if feature.endswith('C2')]\n",
    "C3 = [feature for feature in Q21 if feature.endswith('C3')]\n",
    "C4 = [feature for feature in Q21 if feature.endswith('C4')]"
   ]
  },
  {
   "cell_type": "code",
   "execution_count": 193,
   "metadata": {},
   "outputs": [],
   "source": [
    "df['Q21_R1'] = df[R1].sum(axis=1) #Kindergarten\n",
    "df['Q21_R2'] = df[R2].sum(axis=1) #First-grade\n",
    "df['Q21_R3'] = df[R3].sum(axis=1) #Second-grade\n",
    "df['Q21_R4'] = df[R4].sum(axis=1) #Third-grade\n",
    "df['Q21_R5'] = df[R5].sum(axis=1) #Fourth-grade\n",
    "df['Q21_R6'] = df[R6].sum(axis=1) #Fifth-grade\n",
    "df['Q21_R7'] = df[R7].sum(axis=1) #Sixth-grade\n",
    "\n",
    "df['Q21_C1'] = df[C1].sum(axis=1) #Dance\n",
    "df['Q21_C2'] = df[C2].sum(axis=1) #Music\n",
    "df['Q21_C3'] = df[C3].sum(axis=1) #Theater\n",
    "df['Q21_C4'] = df[C4].sum(axis=1) #Visual Arts"
   ]
  },
  {
   "cell_type": "code",
   "execution_count": 196,
   "metadata": {},
   "outputs": [],
   "source": [
    "Q21_R = ['Q21_R1', 'Q21_R2', 'Q21_R3', 'Q21_R4', 'Q21_R5', 'Q21_R6', 'Q21_R7']\n",
    "Q21_C = [feature for feature in df.columns if feature.startswith('Q21_C')]\n",
    "df_q21r = df[Q21_R]\n",
    "df_q21c = df[Q21_C]"
   ]
  },
  {
   "cell_type": "code",
   "execution_count": 197,
   "metadata": {},
   "outputs": [
    {
     "data": {
      "text/html": [
       "<div>\n",
       "<style scoped>\n",
       "    .dataframe tbody tr th:only-of-type {\n",
       "        vertical-align: middle;\n",
       "    }\n",
       "\n",
       "    .dataframe tbody tr th {\n",
       "        vertical-align: top;\n",
       "    }\n",
       "\n",
       "    .dataframe thead th {\n",
       "        text-align: right;\n",
       "    }\n",
       "</style>\n",
       "<table border=\"1\" class=\"dataframe\">\n",
       "  <thead>\n",
       "    <tr style=\"text-align: right;\">\n",
       "      <th></th>\n",
       "      <th>Q21_R1</th>\n",
       "      <th>Q21_R2</th>\n",
       "      <th>Q21_R3</th>\n",
       "      <th>Q21_R4</th>\n",
       "      <th>Q21_R5</th>\n",
       "      <th>Q21_R6</th>\n",
       "      <th>Q21_R7</th>\n",
       "    </tr>\n",
       "  </thead>\n",
       "  <tbody>\n",
       "    <tr>\n",
       "      <th>count</th>\n",
       "      <td>1265.000000</td>\n",
       "      <td>1265.000000</td>\n",
       "      <td>1265.000000</td>\n",
       "      <td>1265.000000</td>\n",
       "      <td>1265.000000</td>\n",
       "      <td>1265.000000</td>\n",
       "      <td>1265.000000</td>\n",
       "    </tr>\n",
       "    <tr>\n",
       "      <th>mean</th>\n",
       "      <td>0.328063</td>\n",
       "      <td>0.355731</td>\n",
       "      <td>0.424506</td>\n",
       "      <td>0.508300</td>\n",
       "      <td>0.606324</td>\n",
       "      <td>0.633202</td>\n",
       "      <td>0.146245</td>\n",
       "    </tr>\n",
       "    <tr>\n",
       "      <th>std</th>\n",
       "      <td>0.860000</td>\n",
       "      <td>0.866902</td>\n",
       "      <td>0.950949</td>\n",
       "      <td>1.013424</td>\n",
       "      <td>1.114472</td>\n",
       "      <td>1.136911</td>\n",
       "      <td>0.580501</td>\n",
       "    </tr>\n",
       "    <tr>\n",
       "      <th>min</th>\n",
       "      <td>0.000000</td>\n",
       "      <td>0.000000</td>\n",
       "      <td>0.000000</td>\n",
       "      <td>0.000000</td>\n",
       "      <td>0.000000</td>\n",
       "      <td>0.000000</td>\n",
       "      <td>0.000000</td>\n",
       "    </tr>\n",
       "    <tr>\n",
       "      <th>25%</th>\n",
       "      <td>0.000000</td>\n",
       "      <td>0.000000</td>\n",
       "      <td>0.000000</td>\n",
       "      <td>0.000000</td>\n",
       "      <td>0.000000</td>\n",
       "      <td>0.000000</td>\n",
       "      <td>0.000000</td>\n",
       "    </tr>\n",
       "    <tr>\n",
       "      <th>50%</th>\n",
       "      <td>0.000000</td>\n",
       "      <td>0.000000</td>\n",
       "      <td>0.000000</td>\n",
       "      <td>0.000000</td>\n",
       "      <td>0.000000</td>\n",
       "      <td>0.000000</td>\n",
       "      <td>0.000000</td>\n",
       "    </tr>\n",
       "    <tr>\n",
       "      <th>75%</th>\n",
       "      <td>0.000000</td>\n",
       "      <td>0.000000</td>\n",
       "      <td>0.000000</td>\n",
       "      <td>1.000000</td>\n",
       "      <td>1.000000</td>\n",
       "      <td>1.000000</td>\n",
       "      <td>0.000000</td>\n",
       "    </tr>\n",
       "    <tr>\n",
       "      <th>max</th>\n",
       "      <td>4.000000</td>\n",
       "      <td>4.000000</td>\n",
       "      <td>4.000000</td>\n",
       "      <td>4.000000</td>\n",
       "      <td>4.000000</td>\n",
       "      <td>4.000000</td>\n",
       "      <td>4.000000</td>\n",
       "    </tr>\n",
       "  </tbody>\n",
       "</table>\n",
       "</div>"
      ],
      "text/plain": [
       "            Q21_R1       Q21_R2       Q21_R3       Q21_R4       Q21_R5  \\\n",
       "count  1265.000000  1265.000000  1265.000000  1265.000000  1265.000000   \n",
       "mean      0.328063     0.355731     0.424506     0.508300     0.606324   \n",
       "std       0.860000     0.866902     0.950949     1.013424     1.114472   \n",
       "min       0.000000     0.000000     0.000000     0.000000     0.000000   \n",
       "25%       0.000000     0.000000     0.000000     0.000000     0.000000   \n",
       "50%       0.000000     0.000000     0.000000     0.000000     0.000000   \n",
       "75%       0.000000     0.000000     0.000000     1.000000     1.000000   \n",
       "max       4.000000     4.000000     4.000000     4.000000     4.000000   \n",
       "\n",
       "            Q21_R6       Q21_R7  \n",
       "count  1265.000000  1265.000000  \n",
       "mean      0.633202     0.146245  \n",
       "std       1.136911     0.580501  \n",
       "min       0.000000     0.000000  \n",
       "25%       0.000000     0.000000  \n",
       "50%       0.000000     0.000000  \n",
       "75%       1.000000     0.000000  \n",
       "max       4.000000     4.000000  "
      ]
     },
     "execution_count": 197,
     "metadata": {},
     "output_type": "execute_result"
    }
   ],
   "source": [
    "df_q21r.describe()"
   ]
  },
  {
   "cell_type": "code",
   "execution_count": 198,
   "metadata": {},
   "outputs": [
    {
     "data": {
      "text/html": [
       "<div>\n",
       "<style scoped>\n",
       "    .dataframe tbody tr th:only-of-type {\n",
       "        vertical-align: middle;\n",
       "    }\n",
       "\n",
       "    .dataframe tbody tr th {\n",
       "        vertical-align: top;\n",
       "    }\n",
       "\n",
       "    .dataframe thead th {\n",
       "        text-align: right;\n",
       "    }\n",
       "</style>\n",
       "<table border=\"1\" class=\"dataframe\">\n",
       "  <thead>\n",
       "    <tr style=\"text-align: right;\">\n",
       "      <th></th>\n",
       "      <th>Q21_C1</th>\n",
       "      <th>Q21_C2</th>\n",
       "      <th>Q21_C3</th>\n",
       "      <th>Q21_C4</th>\n",
       "    </tr>\n",
       "  </thead>\n",
       "  <tbody>\n",
       "    <tr>\n",
       "      <th>count</th>\n",
       "      <td>1265.000000</td>\n",
       "      <td>1265.000000</td>\n",
       "      <td>1265.000000</td>\n",
       "      <td>1265.000000</td>\n",
       "    </tr>\n",
       "    <tr>\n",
       "      <th>mean</th>\n",
       "      <td>0.648221</td>\n",
       "      <td>1.045850</td>\n",
       "      <td>0.466403</td>\n",
       "      <td>0.841897</td>\n",
       "    </tr>\n",
       "    <tr>\n",
       "      <th>std</th>\n",
       "      <td>1.609519</td>\n",
       "      <td>1.996702</td>\n",
       "      <td>1.375884</td>\n",
       "      <td>1.961331</td>\n",
       "    </tr>\n",
       "    <tr>\n",
       "      <th>min</th>\n",
       "      <td>0.000000</td>\n",
       "      <td>0.000000</td>\n",
       "      <td>0.000000</td>\n",
       "      <td>0.000000</td>\n",
       "    </tr>\n",
       "    <tr>\n",
       "      <th>25%</th>\n",
       "      <td>0.000000</td>\n",
       "      <td>0.000000</td>\n",
       "      <td>0.000000</td>\n",
       "      <td>0.000000</td>\n",
       "    </tr>\n",
       "    <tr>\n",
       "      <th>50%</th>\n",
       "      <td>0.000000</td>\n",
       "      <td>0.000000</td>\n",
       "      <td>0.000000</td>\n",
       "      <td>0.000000</td>\n",
       "    </tr>\n",
       "    <tr>\n",
       "      <th>75%</th>\n",
       "      <td>0.000000</td>\n",
       "      <td>1.000000</td>\n",
       "      <td>0.000000</td>\n",
       "      <td>0.000000</td>\n",
       "    </tr>\n",
       "    <tr>\n",
       "      <th>max</th>\n",
       "      <td>7.000000</td>\n",
       "      <td>7.000000</td>\n",
       "      <td>7.000000</td>\n",
       "      <td>7.000000</td>\n",
       "    </tr>\n",
       "  </tbody>\n",
       "</table>\n",
       "</div>"
      ],
      "text/plain": [
       "            Q21_C1       Q21_C2       Q21_C3       Q21_C4\n",
       "count  1265.000000  1265.000000  1265.000000  1265.000000\n",
       "mean      0.648221     1.045850     0.466403     0.841897\n",
       "std       1.609519     1.996702     1.375884     1.961331\n",
       "min       0.000000     0.000000     0.000000     0.000000\n",
       "25%       0.000000     0.000000     0.000000     0.000000\n",
       "50%       0.000000     0.000000     0.000000     0.000000\n",
       "75%       0.000000     1.000000     0.000000     0.000000\n",
       "max       7.000000     7.000000     7.000000     7.000000"
      ]
     },
     "execution_count": 198,
     "metadata": {},
     "output_type": "execute_result"
    }
   ],
   "source": [
    "df_q21c.describe()"
   ]
  },
  {
   "cell_type": "markdown",
   "metadata": {},
   "source": [
    "### Q22 Middle School Arts Sequence"
   ]
  },
  {
   "cell_type": "markdown",
   "metadata": {},
   "source": [
    "Shown to schools if they offer grades 6-8."
   ]
  },
  {
   "cell_type": "code",
   "execution_count": 200,
   "metadata": {},
   "outputs": [
    {
     "data": {
      "text/html": [
       "<div>\n",
       "<style scoped>\n",
       "    .dataframe tbody tr th:only-of-type {\n",
       "        vertical-align: middle;\n",
       "    }\n",
       "\n",
       "    .dataframe tbody tr th {\n",
       "        vertical-align: top;\n",
       "    }\n",
       "\n",
       "    .dataframe thead th {\n",
       "        text-align: right;\n",
       "    }\n",
       "</style>\n",
       "<table border=\"1\" class=\"dataframe\">\n",
       "  <thead>\n",
       "    <tr style=\"text-align: right;\">\n",
       "      <th></th>\n",
       "      <th>Q22_R1_C1</th>\n",
       "      <th>Q22_R1_C2</th>\n",
       "      <th>Q22_R2_C1</th>\n",
       "      <th>Q22_R2_C2</th>\n",
       "      <th>Q22_R3_C1</th>\n",
       "      <th>Q22_R3_C2</th>\n",
       "      <th>Q22_R4_C1</th>\n",
       "      <th>Q22_R4_C2</th>\n",
       "      <th>Q22_R5_C1</th>\n",
       "      <th>Q22_R5_C2</th>\n",
       "    </tr>\n",
       "  </thead>\n",
       "  <tbody>\n",
       "    <tr>\n",
       "      <th>0</th>\n",
       "      <td>0</td>\n",
       "      <td>0</td>\n",
       "      <td>0</td>\n",
       "      <td>0</td>\n",
       "      <td>0</td>\n",
       "      <td>0</td>\n",
       "      <td>0</td>\n",
       "      <td>0</td>\n",
       "      <td>0</td>\n",
       "      <td>0</td>\n",
       "    </tr>\n",
       "    <tr>\n",
       "      <th>1</th>\n",
       "      <td>0</td>\n",
       "      <td>0</td>\n",
       "      <td>0</td>\n",
       "      <td>0</td>\n",
       "      <td>0</td>\n",
       "      <td>0</td>\n",
       "      <td>0</td>\n",
       "      <td>0</td>\n",
       "      <td>0</td>\n",
       "      <td>0</td>\n",
       "    </tr>\n",
       "    <tr>\n",
       "      <th>2</th>\n",
       "      <td>0</td>\n",
       "      <td>0</td>\n",
       "      <td>0</td>\n",
       "      <td>0</td>\n",
       "      <td>0</td>\n",
       "      <td>0</td>\n",
       "      <td>0</td>\n",
       "      <td>0</td>\n",
       "      <td>0</td>\n",
       "      <td>0</td>\n",
       "    </tr>\n",
       "    <tr>\n",
       "      <th>3</th>\n",
       "      <td>0</td>\n",
       "      <td>1</td>\n",
       "      <td>0</td>\n",
       "      <td>1</td>\n",
       "      <td>0</td>\n",
       "      <td>1</td>\n",
       "      <td>0</td>\n",
       "      <td>1</td>\n",
       "      <td>0</td>\n",
       "      <td>1</td>\n",
       "    </tr>\n",
       "    <tr>\n",
       "      <th>4</th>\n",
       "      <td>0</td>\n",
       "      <td>0</td>\n",
       "      <td>0</td>\n",
       "      <td>0</td>\n",
       "      <td>0</td>\n",
       "      <td>0</td>\n",
       "      <td>0</td>\n",
       "      <td>0</td>\n",
       "      <td>0</td>\n",
       "      <td>0</td>\n",
       "    </tr>\n",
       "  </tbody>\n",
       "</table>\n",
       "</div>"
      ],
      "text/plain": [
       "   Q22_R1_C1  Q22_R1_C2  Q22_R2_C1  Q22_R2_C2  Q22_R3_C1  Q22_R3_C2  \\\n",
       "0          0          0          0          0          0          0   \n",
       "1          0          0          0          0          0          0   \n",
       "2          0          0          0          0          0          0   \n",
       "3          0          1          0          1          0          1   \n",
       "4          0          0          0          0          0          0   \n",
       "\n",
       "   Q22_R4_C1  Q22_R4_C2  Q22_R5_C1  Q22_R5_C2  \n",
       "0          0          0          0          0  \n",
       "1          0          0          0          0  \n",
       "2          0          0          0          0  \n",
       "3          0          1          0          1  \n",
       "4          0          0          0          0  "
      ]
     },
     "execution_count": 200,
     "metadata": {},
     "output_type": "execute_result"
    }
   ],
   "source": [
    "Q22 = [feature for feature in df.columns if feature.startswith('Q22')]\n",
    "df_q22 = df[Q22]\n",
    "df_q22.head()"
   ]
  },
  {
   "cell_type": "markdown",
   "metadata": {},
   "source": [
    "All schools have responses but only middle schools have some answer for all disciplines."
   ]
  },
  {
   "cell_type": "code",
   "execution_count": 209,
   "metadata": {},
   "outputs": [
    {
     "data": {
      "text/plain": [
       "array([0, 5])"
      ]
     },
     "execution_count": 209,
     "metadata": {},
     "output_type": "execute_result"
    }
   ],
   "source": [
    "(df_q22.sum(axis=1)).unique()"
   ]
  },
  {
   "cell_type": "markdown",
   "metadata": {},
   "source": [
    "Remove schools with no responses."
   ]
  },
  {
   "cell_type": "code",
   "execution_count": 212,
   "metadata": {},
   "outputs": [
    {
     "data": {
      "text/html": [
       "<div>\n",
       "<style scoped>\n",
       "    .dataframe tbody tr th:only-of-type {\n",
       "        vertical-align: middle;\n",
       "    }\n",
       "\n",
       "    .dataframe tbody tr th {\n",
       "        vertical-align: top;\n",
       "    }\n",
       "\n",
       "    .dataframe thead th {\n",
       "        text-align: right;\n",
       "    }\n",
       "</style>\n",
       "<table border=\"1\" class=\"dataframe\">\n",
       "  <thead>\n",
       "    <tr style=\"text-align: right;\">\n",
       "      <th></th>\n",
       "      <th>Q22_R1_C1</th>\n",
       "      <th>Q22_R1_C2</th>\n",
       "      <th>Q22_R2_C1</th>\n",
       "      <th>Q22_R2_C2</th>\n",
       "      <th>Q22_R3_C1</th>\n",
       "      <th>Q22_R3_C2</th>\n",
       "      <th>Q22_R4_C1</th>\n",
       "      <th>Q22_R4_C2</th>\n",
       "      <th>Q22_R5_C1</th>\n",
       "      <th>Q22_R5_C2</th>\n",
       "    </tr>\n",
       "  </thead>\n",
       "  <tbody>\n",
       "    <tr>\n",
       "      <th>count</th>\n",
       "      <td>400.00000</td>\n",
       "      <td>400.00000</td>\n",
       "      <td>400.00000</td>\n",
       "      <td>400.00000</td>\n",
       "      <td>400.000000</td>\n",
       "      <td>400.000000</td>\n",
       "      <td>400.000000</td>\n",
       "      <td>400.000000</td>\n",
       "      <td>400.000000</td>\n",
       "      <td>400.000000</td>\n",
       "    </tr>\n",
       "    <tr>\n",
       "      <th>mean</th>\n",
       "      <td>0.17750</td>\n",
       "      <td>0.82250</td>\n",
       "      <td>0.02500</td>\n",
       "      <td>0.97500</td>\n",
       "      <td>0.377500</td>\n",
       "      <td>0.622500</td>\n",
       "      <td>0.145000</td>\n",
       "      <td>0.855000</td>\n",
       "      <td>0.482500</td>\n",
       "      <td>0.517500</td>\n",
       "    </tr>\n",
       "    <tr>\n",
       "      <th>std</th>\n",
       "      <td>0.38257</td>\n",
       "      <td>0.38257</td>\n",
       "      <td>0.15632</td>\n",
       "      <td>0.15632</td>\n",
       "      <td>0.485369</td>\n",
       "      <td>0.485369</td>\n",
       "      <td>0.352542</td>\n",
       "      <td>0.352542</td>\n",
       "      <td>0.500319</td>\n",
       "      <td>0.500319</td>\n",
       "    </tr>\n",
       "    <tr>\n",
       "      <th>min</th>\n",
       "      <td>0.00000</td>\n",
       "      <td>0.00000</td>\n",
       "      <td>0.00000</td>\n",
       "      <td>0.00000</td>\n",
       "      <td>0.000000</td>\n",
       "      <td>0.000000</td>\n",
       "      <td>0.000000</td>\n",
       "      <td>0.000000</td>\n",
       "      <td>0.000000</td>\n",
       "      <td>0.000000</td>\n",
       "    </tr>\n",
       "    <tr>\n",
       "      <th>25%</th>\n",
       "      <td>0.00000</td>\n",
       "      <td>1.00000</td>\n",
       "      <td>0.00000</td>\n",
       "      <td>1.00000</td>\n",
       "      <td>0.000000</td>\n",
       "      <td>0.000000</td>\n",
       "      <td>0.000000</td>\n",
       "      <td>1.000000</td>\n",
       "      <td>0.000000</td>\n",
       "      <td>0.000000</td>\n",
       "    </tr>\n",
       "    <tr>\n",
       "      <th>50%</th>\n",
       "      <td>0.00000</td>\n",
       "      <td>1.00000</td>\n",
       "      <td>0.00000</td>\n",
       "      <td>1.00000</td>\n",
       "      <td>0.000000</td>\n",
       "      <td>1.000000</td>\n",
       "      <td>0.000000</td>\n",
       "      <td>1.000000</td>\n",
       "      <td>0.000000</td>\n",
       "      <td>1.000000</td>\n",
       "    </tr>\n",
       "    <tr>\n",
       "      <th>75%</th>\n",
       "      <td>0.00000</td>\n",
       "      <td>1.00000</td>\n",
       "      <td>0.00000</td>\n",
       "      <td>1.00000</td>\n",
       "      <td>1.000000</td>\n",
       "      <td>1.000000</td>\n",
       "      <td>0.000000</td>\n",
       "      <td>1.000000</td>\n",
       "      <td>1.000000</td>\n",
       "      <td>1.000000</td>\n",
       "    </tr>\n",
       "    <tr>\n",
       "      <th>max</th>\n",
       "      <td>1.00000</td>\n",
       "      <td>1.00000</td>\n",
       "      <td>1.00000</td>\n",
       "      <td>1.00000</td>\n",
       "      <td>1.000000</td>\n",
       "      <td>1.000000</td>\n",
       "      <td>1.000000</td>\n",
       "      <td>1.000000</td>\n",
       "      <td>1.000000</td>\n",
       "      <td>1.000000</td>\n",
       "    </tr>\n",
       "  </tbody>\n",
       "</table>\n",
       "</div>"
      ],
      "text/plain": [
       "       Q22_R1_C1  Q22_R1_C2  Q22_R2_C1  Q22_R2_C2   Q22_R3_C1   Q22_R3_C2  \\\n",
       "count  400.00000  400.00000  400.00000  400.00000  400.000000  400.000000   \n",
       "mean     0.17750    0.82250    0.02500    0.97500    0.377500    0.622500   \n",
       "std      0.38257    0.38257    0.15632    0.15632    0.485369    0.485369   \n",
       "min      0.00000    0.00000    0.00000    0.00000    0.000000    0.000000   \n",
       "25%      0.00000    1.00000    0.00000    1.00000    0.000000    0.000000   \n",
       "50%      0.00000    1.00000    0.00000    1.00000    0.000000    1.000000   \n",
       "75%      0.00000    1.00000    0.00000    1.00000    1.000000    1.000000   \n",
       "max      1.00000    1.00000    1.00000    1.00000    1.000000    1.000000   \n",
       "\n",
       "        Q22_R4_C1   Q22_R4_C2   Q22_R5_C1   Q22_R5_C2  \n",
       "count  400.000000  400.000000  400.000000  400.000000  \n",
       "mean     0.145000    0.855000    0.482500    0.517500  \n",
       "std      0.352542    0.352542    0.500319    0.500319  \n",
       "min      0.000000    0.000000    0.000000    0.000000  \n",
       "25%      0.000000    1.000000    0.000000    0.000000  \n",
       "50%      0.000000    1.000000    0.000000    1.000000  \n",
       "75%      0.000000    1.000000    1.000000    1.000000  \n",
       "max      1.000000    1.000000    1.000000    1.000000  "
      ]
     },
     "execution_count": 212,
     "metadata": {},
     "output_type": "execute_result"
    }
   ],
   "source": [
    "df_q22 = df_q22[df_q22.sum(axis=1) != 0]\n",
    "df_q22.describe()"
   ]
  },
  {
   "cell_type": "markdown",
   "metadata": {},
   "source": [
    "Rename the 'Yes' columns."
   ]
  },
  {
   "cell_type": "code",
   "execution_count": 215,
   "metadata": {},
   "outputs": [],
   "source": [
    "disciplines = ['Dance', 'Moving Image', 'Music', 'Theater', 'Visual Arts']\n",
    "Q22_yes = [feature for feature in Q22 if feature.endswith('C1')]\n",
    "disc_map = {Q22_yes[i]: disciplines[i] for i in range(5)}\n",
    "df_q22.rename(index=str, columns=disc_map, inplace=True)"
   ]
  },
  {
   "cell_type": "code",
   "execution_count": 219,
   "metadata": {
    "scrolled": false
   },
   "outputs": [
    {
     "data": {
      "image/png": "[encoded data removed]",
      "text/plain": [
       "<Figure size 432x288 with 1 Axes>"
      ]
     },
     "metadata": {},
     "output_type": "display_data"
    }
   ],
   "source": [
    "fig = plt.figure()\n",
    "ax = fig.add_subplot()\n",
    "plt.bar(disciplines, df_q22[disciplines].sum())\n",
    "plt.title('Middle School Arts Sequence Offerings')\n",
    "_ = plt.ylabel('Number of Schools Offering a Sequence')"
   ]
  },
  {
   "cell_type": "markdown",
   "metadata": {},
   "source": [
    "I wonder what the limiting factor is for the number of sequences in the Moving Image. One would think that equipment is expensive, but not more than the lighting for theater or the instruments for music. Perhaps the existence of entrenched programs in other disciplines weakened the argument to invest in film programs, even though this argument would have been had for decades by now.  \n",
    "**TODO** Can I find information on trends in the number of sequences in each discipline over the years?"
   ]
  },
  {
   "cell_type": "markdown",
   "metadata": {},
   "source": [
    "### Q23 Number of Students Completing a Sequence"
   ]
  },
  {
   "cell_type": "markdown",
   "metadata": {},
   "source": [
    "Each discipline is shown to a school if they offer the corresponding sequence."
   ]
  },
  {
   "cell_type": "code",
   "execution_count": 221,
   "metadata": {},
   "outputs": [
    {
     "data": {
      "text/html": [
       "<div>\n",
       "<style scoped>\n",
       "    .dataframe tbody tr th:only-of-type {\n",
       "        vertical-align: middle;\n",
       "    }\n",
       "\n",
       "    .dataframe tbody tr th {\n",
       "        vertical-align: top;\n",
       "    }\n",
       "\n",
       "    .dataframe thead th {\n",
       "        text-align: right;\n",
       "    }\n",
       "</style>\n",
       "<table border=\"1\" class=\"dataframe\">\n",
       "  <thead>\n",
       "    <tr style=\"text-align: right;\">\n",
       "      <th></th>\n",
       "      <th>Q23_1</th>\n",
       "      <th>Q23_2</th>\n",
       "      <th>Q23_3</th>\n",
       "      <th>Q23_4</th>\n",
       "      <th>Q23_5</th>\n",
       "    </tr>\n",
       "  </thead>\n",
       "  <tbody>\n",
       "    <tr>\n",
       "      <th>0</th>\n",
       "      <td>NaN</td>\n",
       "      <td>NaN</td>\n",
       "      <td>NaN</td>\n",
       "      <td>NaN</td>\n",
       "      <td>NaN</td>\n",
       "    </tr>\n",
       "    <tr>\n",
       "      <th>1</th>\n",
       "      <td>NaN</td>\n",
       "      <td>NaN</td>\n",
       "      <td>NaN</td>\n",
       "      <td>NaN</td>\n",
       "      <td>NaN</td>\n",
       "    </tr>\n",
       "    <tr>\n",
       "      <th>2</th>\n",
       "      <td>NaN</td>\n",
       "      <td>NaN</td>\n",
       "      <td>NaN</td>\n",
       "      <td>NaN</td>\n",
       "      <td>NaN</td>\n",
       "    </tr>\n",
       "    <tr>\n",
       "      <th>3</th>\n",
       "      <td>NaN</td>\n",
       "      <td>NaN</td>\n",
       "      <td>NaN</td>\n",
       "      <td>NaN</td>\n",
       "      <td>NaN</td>\n",
       "    </tr>\n",
       "    <tr>\n",
       "      <th>4</th>\n",
       "      <td>NaN</td>\n",
       "      <td>NaN</td>\n",
       "      <td>NaN</td>\n",
       "      <td>NaN</td>\n",
       "      <td>NaN</td>\n",
       "    </tr>\n",
       "  </tbody>\n",
       "</table>\n",
       "</div>"
      ],
      "text/plain": [
       "   Q23_1  Q23_2  Q23_3  Q23_4  Q23_5\n",
       "0    NaN    NaN    NaN    NaN    NaN\n",
       "1    NaN    NaN    NaN    NaN    NaN\n",
       "2    NaN    NaN    NaN    NaN    NaN\n",
       "3    NaN    NaN    NaN    NaN    NaN\n",
       "4    NaN    NaN    NaN    NaN    NaN"
      ]
     },
     "execution_count": 221,
     "metadata": {},
     "output_type": "execute_result"
    }
   ],
   "source": [
    "Q23 = [feature for feature in df.columns if feature.startswith('Q23')]\n",
    "df_q23 = df[Q23]\n",
    "df_q23.head()"
   ]
  },
  {
   "cell_type": "code",
   "execution_count": 222,
   "metadata": {},
   "outputs": [
    {
     "data": {
      "text/plain": [
       "Q23_1     71\n",
       "Q23_2     10\n",
       "Q23_3    151\n",
       "Q23_4     58\n",
       "Q23_5    193\n",
       "dtype: int64"
      ]
     },
     "execution_count": 222,
     "metadata": {},
     "output_type": "execute_result"
    }
   ],
   "source": [
    "df_q23.count()"
   ]
  },
  {
   "cell_type": "markdown",
   "metadata": {},
   "source": [
    "Restrict our considerations for each discipline to those schools offering a sequence."
   ]
  },
  {
   "cell_type": "code",
   "execution_count": 226,
   "metadata": {},
   "outputs": [],
   "source": [
    "df_ms_dance = df[df['Q22_R1_C1'] == 1][['Q23_1']]\n",
    "df_ms_movim = df[df['Q22_R2_C1'] == 1][['Q23_2']]\n",
    "df_ms_music = df[df['Q22_R3_C1'] == 1][['Q23_3']]\n",
    "df_ms_thtr = df[df['Q22_R4_C1'] == 1][['Q23_4']]\n",
    "df_ms_visart = df[df['Q22_R5_C1'] == 1][['Q23_5']]"
   ]
  },
  {
   "cell_type": "code",
   "execution_count": 285,
   "metadata": {},
   "outputs": [
    {
     "data": {
      "image/png": "[encoded data removed]",
      "text/plain": [
       "<Figure size 576x1440 with 5 Axes>"
      ]
     },
     "metadata": {},
     "output_type": "display_data"
    }
   ],
   "source": [
    "fig, ax = plt.subplots(5, 1, sharex=True, sharey='col', figsize=(8,20))\n",
    "ax[0].hist(data=df_ms_dance, x='Q23_1', bins=50)\n",
    "ax[0].set_title('Dance')\n",
    "ax[1].hist(data=df_ms_movim, x='Q23_2', bins=50)\n",
    "ax[1].set_title('Moving Image')\n",
    "ax[2].hist(data=df_ms_music, x='Q23_3', bins=50)\n",
    "ax[2].set_title('Music')\n",
    "ax[3].hist(data=df_ms_thtr, x='Q23_4', bins=50)\n",
    "ax[3].set_title('Theater')\n",
    "ax[4].hist(data=df_ms_visart, x='Q23_5', bins=50)\n",
    "_ = ax[4].set_title('Visual Arts')"
   ]
  },
  {
   "cell_type": "markdown",
   "metadata": {},
   "source": [
    "### Q24 Special Education, Dance"
   ]
  },
  {
   "cell_type": "markdown",
   "metadata": {},
   "source": [
    "This question was only shown to district 75 schools."
   ]
  },
  {
   "cell_type": "code",
   "execution_count": 288,
   "metadata": {},
   "outputs": [
    {
     "data": {
      "text/html": [
       "<div>\n",
       "<style scoped>\n",
       "    .dataframe tbody tr th:only-of-type {\n",
       "        vertical-align: middle;\n",
       "    }\n",
       "\n",
       "    .dataframe tbody tr th {\n",
       "        vertical-align: top;\n",
       "    }\n",
       "\n",
       "    .dataframe thead th {\n",
       "        text-align: right;\n",
       "    }\n",
       "</style>\n",
       "<table border=\"1\" class=\"dataframe\">\n",
       "  <thead>\n",
       "    <tr style=\"text-align: right;\">\n",
       "      <th></th>\n",
       "      <th>Q24_R1_C1</th>\n",
       "      <th>Q24_R1_C2</th>\n",
       "      <th>Q24_R1_C3</th>\n",
       "      <th>Q24_R1_C4</th>\n",
       "      <th>Q24_R2_C1</th>\n",
       "      <th>Q24_R2_C2</th>\n",
       "      <th>Q24_R2_C3</th>\n",
       "      <th>Q24_R2_C4</th>\n",
       "      <th>Q24_R3_C1</th>\n",
       "      <th>Q24_R3_C2</th>\n",
       "      <th>...</th>\n",
       "      <th>Q24_R4_C3</th>\n",
       "      <th>Q24_R4_C4</th>\n",
       "      <th>Q24_R5_C1</th>\n",
       "      <th>Q24_R5_C2</th>\n",
       "      <th>Q24_R5_C3</th>\n",
       "      <th>Q24_R5_C4</th>\n",
       "      <th>Q24_R6_C1</th>\n",
       "      <th>Q24_R6_C2</th>\n",
       "      <th>Q24_R6_C3</th>\n",
       "      <th>Q24_R6_C4</th>\n",
       "    </tr>\n",
       "  </thead>\n",
       "  <tbody>\n",
       "    <tr>\n",
       "      <th>0</th>\n",
       "      <td>0</td>\n",
       "      <td>0</td>\n",
       "      <td>0</td>\n",
       "      <td>0</td>\n",
       "      <td>0</td>\n",
       "      <td>0</td>\n",
       "      <td>0</td>\n",
       "      <td>0</td>\n",
       "      <td>0</td>\n",
       "      <td>0</td>\n",
       "      <td>...</td>\n",
       "      <td>0</td>\n",
       "      <td>0</td>\n",
       "      <td>0</td>\n",
       "      <td>0</td>\n",
       "      <td>0</td>\n",
       "      <td>0</td>\n",
       "      <td>0</td>\n",
       "      <td>0</td>\n",
       "      <td>0</td>\n",
       "      <td>0</td>\n",
       "    </tr>\n",
       "    <tr>\n",
       "      <th>1</th>\n",
       "      <td>0</td>\n",
       "      <td>0</td>\n",
       "      <td>0</td>\n",
       "      <td>0</td>\n",
       "      <td>0</td>\n",
       "      <td>0</td>\n",
       "      <td>0</td>\n",
       "      <td>0</td>\n",
       "      <td>0</td>\n",
       "      <td>0</td>\n",
       "      <td>...</td>\n",
       "      <td>0</td>\n",
       "      <td>0</td>\n",
       "      <td>0</td>\n",
       "      <td>0</td>\n",
       "      <td>0</td>\n",
       "      <td>0</td>\n",
       "      <td>0</td>\n",
       "      <td>0</td>\n",
       "      <td>0</td>\n",
       "      <td>0</td>\n",
       "    </tr>\n",
       "    <tr>\n",
       "      <th>2</th>\n",
       "      <td>0</td>\n",
       "      <td>0</td>\n",
       "      <td>0</td>\n",
       "      <td>0</td>\n",
       "      <td>0</td>\n",
       "      <td>0</td>\n",
       "      <td>0</td>\n",
       "      <td>0</td>\n",
       "      <td>0</td>\n",
       "      <td>0</td>\n",
       "      <td>...</td>\n",
       "      <td>0</td>\n",
       "      <td>0</td>\n",
       "      <td>0</td>\n",
       "      <td>0</td>\n",
       "      <td>0</td>\n",
       "      <td>0</td>\n",
       "      <td>0</td>\n",
       "      <td>0</td>\n",
       "      <td>0</td>\n",
       "      <td>0</td>\n",
       "    </tr>\n",
       "    <tr>\n",
       "      <th>3</th>\n",
       "      <td>0</td>\n",
       "      <td>0</td>\n",
       "      <td>0</td>\n",
       "      <td>0</td>\n",
       "      <td>0</td>\n",
       "      <td>0</td>\n",
       "      <td>0</td>\n",
       "      <td>0</td>\n",
       "      <td>0</td>\n",
       "      <td>0</td>\n",
       "      <td>...</td>\n",
       "      <td>0</td>\n",
       "      <td>0</td>\n",
       "      <td>0</td>\n",
       "      <td>0</td>\n",
       "      <td>0</td>\n",
       "      <td>0</td>\n",
       "      <td>0</td>\n",
       "      <td>0</td>\n",
       "      <td>0</td>\n",
       "      <td>0</td>\n",
       "    </tr>\n",
       "    <tr>\n",
       "      <th>4</th>\n",
       "      <td>0</td>\n",
       "      <td>0</td>\n",
       "      <td>0</td>\n",
       "      <td>0</td>\n",
       "      <td>0</td>\n",
       "      <td>0</td>\n",
       "      <td>0</td>\n",
       "      <td>0</td>\n",
       "      <td>0</td>\n",
       "      <td>0</td>\n",
       "      <td>...</td>\n",
       "      <td>0</td>\n",
       "      <td>0</td>\n",
       "      <td>0</td>\n",
       "      <td>0</td>\n",
       "      <td>0</td>\n",
       "      <td>0</td>\n",
       "      <td>0</td>\n",
       "      <td>0</td>\n",
       "      <td>0</td>\n",
       "      <td>0</td>\n",
       "    </tr>\n",
       "  </tbody>\n",
       "</table>\n",
       "<p>5 rows × 24 columns</p>\n",
       "</div>"
      ],
      "text/plain": [
       "   Q24_R1_C1  Q24_R1_C2  Q24_R1_C3  Q24_R1_C4  Q24_R2_C1  Q24_R2_C2  \\\n",
       "0          0          0          0          0          0          0   \n",
       "1          0          0          0          0          0          0   \n",
       "2          0          0          0          0          0          0   \n",
       "3          0          0          0          0          0          0   \n",
       "4          0          0          0          0          0          0   \n",
       "\n",
       "   Q24_R2_C3  Q24_R2_C4  Q24_R3_C1  Q24_R3_C2    ...      Q24_R4_C3  \\\n",
       "0          0          0          0          0    ...              0   \n",
       "1          0          0          0          0    ...              0   \n",
       "2          0          0          0          0    ...              0   \n",
       "3          0          0          0          0    ...              0   \n",
       "4          0          0          0          0    ...              0   \n",
       "\n",
       "   Q24_R4_C4  Q24_R5_C1  Q24_R5_C2  Q24_R5_C3  Q24_R5_C4  Q24_R6_C1  \\\n",
       "0          0          0          0          0          0          0   \n",
       "1          0          0          0          0          0          0   \n",
       "2          0          0          0          0          0          0   \n",
       "3          0          0          0          0          0          0   \n",
       "4          0          0          0          0          0          0   \n",
       "\n",
       "   Q24_R6_C2  Q24_R6_C3  Q24_R6_C4  \n",
       "0          0          0          0  \n",
       "1          0          0          0  \n",
       "2          0          0          0  \n",
       "3          0          0          0  \n",
       "4          0          0          0  \n",
       "\n",
       "[5 rows x 24 columns]"
      ]
     },
     "execution_count": 288,
     "metadata": {},
     "output_type": "execute_result"
    }
   ],
   "source": [
    "Q24 = [feature for feature in df.columns if feature.startswith('Q24')]\n",
    "df_q24 = df[Q24]\n",
    "df_q24.head()"
   ]
  },
  {
   "cell_type": "markdown",
   "metadata": {},
   "source": [
    "### Q25 Special Education, Music"
   ]
  },
  {
   "cell_type": "markdown",
   "metadata": {},
   "source": [
    "### Q26 Special Education, Theater"
   ]
  },
  {
   "cell_type": "markdown",
   "metadata": {},
   "source": [
    "### Q27 Special Education, Visual Arts"
   ]
  },
  {
   "cell_type": "markdown",
   "metadata": {},
   "source": [
    "### Q28 Professional Development, Number of Teachers"
   ]
  },
  {
   "cell_type": "markdown",
   "metadata": {},
   "source": [
    "Q28-33 were also only shown to district 75 schools."
   ]
  },
  {
   "cell_type": "code",
   "execution_count": 290,
   "metadata": {},
   "outputs": [
    {
     "data": {
      "text/plain": [
       "['Q28_1', 'Q28_2']"
      ]
     },
     "execution_count": 290,
     "metadata": {},
     "output_type": "execute_result"
    }
   ],
   "source": [
    "Q28 = [feature for feature in df.columns if feature.startswith('Q28')]\n",
    "Q28"
   ]
  },
  {
   "cell_type": "markdown",
   "metadata": {},
   "source": [
    "There should be five responses to Q28, for five disciplines."
   ]
  },
  {
   "cell_type": "markdown",
   "metadata": {},
   "source": [
    "### Q34 Arts Funding"
   ]
  },
  {
   "cell_type": "code",
   "execution_count": 301,
   "metadata": {},
   "outputs": [
    {
     "data": {
      "text/plain": [
       "['Q34_1', 'Q34_2', 'Q34_3', 'Q34_4', 'Q34_5']"
      ]
     },
     "execution_count": 301,
     "metadata": {},
     "output_type": "execute_result"
    }
   ],
   "source": [
    "Q34 = [feature for feature in df.columns if feature.startswith('Q34')]\n",
    "Q34"
   ]
  },
  {
   "cell_type": "markdown",
   "metadata": {},
   "source": [
    "My documentation is from 16-17 so I have probably come to a point where the questions have changed."
   ]
  }
 ],
 "metadata": {
  "kernelspec": {
   "display_name": "Python 3",
   "language": "python",
   "name": "python3"
  },
  "language_info": {
   "codemirror_mode": {
    "name": "ipython",
    "version": 3
   },
   "file_extension": ".py",
   "mimetype": "text/x-python",
   "name": "python",
   "nbconvert_exporter": "python",
   "pygments_lexer": "ipython3",
   "version": "3.6.5"
  }
 },
 "nbformat": 4,
 "nbformat_minor": 2
}
